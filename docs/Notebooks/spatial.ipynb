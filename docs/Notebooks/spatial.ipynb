{
 "cells": [
  {
   "cell_type": "code",
   "execution_count": 1,
   "metadata": {
    "collapsed": false
   },
   "outputs": [
    {
     "data": {
      "text/html": [
       "<script>\n",
       "// Immediately-invoked-function-expression to avoid global variables.\n",
       "(function() {\n",
       "    var warning_div = document.getElementById(\"webio-warning-2376801219160278957\");\n",
       "    var hide = function () {\n",
       "        var script = document.getElementById(\"webio-setup-7768021887231988140\");\n",
       "        var parent = script && script.parentElement;\n",
       "        var grandparent = parent && parent.parentElement;\n",
       "        if (grandparent) {\n",
       "            grandparent.style.display = \"none\";\n",
       "        }\n",
       "        warning_div.style.display = \"none\";\n",
       "    };\n",
       "    if (typeof Jupyter !== \"undefined\") {\n",
       "        console.log(\"WebIO detected Jupyter notebook environment.\");\n",
       "        // Jupyter notebook.\n",
       "        var extensions = (\n",
       "            Jupyter\n",
       "            && Jupyter.notebook.config.data\n",
       "            && Jupyter.notebook.config.data.load_extensions\n",
       "        );\n",
       "        if (extensions && extensions[\"webio/main\"]) {\n",
       "            // Extension already loaded.\n",
       "            console.log(\"Jupyter WebIO nbextension detected; not loading ad-hoc.\");\n",
       "            hide();\n",
       "            return;\n",
       "        }\n",
       "        console.warn(\"Loading WebIO Jupyter extension on an ad-hoc basis. Consider enabling the WebIO nbextension for a stabler experience (this should happen automatically when building WebIO).\");\n",
       "        require([\"/assetserver/15ffaef09c6581996e3c9c7ce400ef5d8e046a28-dist/main.js\"], function (webIOModule) {\n",
       "            webIOModule.load_ipython_extension();\n",
       "        });\n",
       "        warning_div.innerHTML = \"<strong>Loading WebIO Jupyter extension on an ad-hoc basis. Consider enabling the WebIO nbextension for a stabler experience (this should happen automatically when building WebIO).</strong>\";\n",
       "    } else if (window.location.pathname.includes(\"/lab\")) {\n",
       "        // Guessing JupyterLa\n",
       "        console.log(\"Jupyter Lab detected; make sure the @webio/jupyter-lab-provider labextension is installed.\");\n",
       "        hide();\n",
       "        return;\n",
       "    }\n",
       "})();\n",
       "\n",
       "</script>\n",
       "<div\n",
       "    id=\"webio-warning-2376801219160278957\"\n",
       "    class=\"output_text output_stderr\"\n",
       "    style=\"padding: 1em; font-weight: bold;\"\n",
       ">\n",
       "    Unable to load WebIO. Please make sure WebIO works for your Jupyter client.\n",
       "    <!-- TODO: link to installation docs. -->\n",
       "</div>\n"
      ],
      "text/plain": [
       "HTML{String}(\"<script>\\n// Immediately-invoked-function-expression to avoid global variables.\\n(function() {\\n    var warning_div = document.getElementById(\\\"webio-warning-2376801219160278957\\\");\\n    var hide = function () {\\n        var script = document.getElementById(\\\"webio-setup-7768021887231988140\\\");\\n        var parent = script && script.parentElement;\\n        var grandparent = parent && parent.parentElement;\\n        if (grandparent) {\\n            grandparent.style.display = \\\"none\\\";\\n        }\\n        warning_div.style.display = \\\"none\\\";\\n    };\\n    if (typeof Jupyter !== \\\"undefined\\\") {\\n        console.log(\\\"WebIO detected Jupyter notebook environment.\\\");\\n        // Jupyter notebook.\\n        var extensions = (\\n            Jupyter\\n            && Jupyter.notebook.config.data\\n            && Jupyter.notebook.config.data.load_extensions\\n        );\\n        if (extensions && extensions[\\\"webio/main\\\"]) {\\n            // Extension already loaded.\\n            console.log(\\\"Jupyter WebIO nbextension detected; not loading ad-hoc.\\\");\\n            hide();\\n            return;\\n        }\\n        console.warn(\\\"Loading WebIO Jupyter extension on an ad-hoc basis. Consider enabling the WebIO nbextension for a stabler experience (this should happen automatically when building WebIO).\\\");\\n        require([\\\"/assetserver/15ffaef09c6581996e3c9c7ce400ef5d8e046a28-dist/main.js\\\"], function (webIOModule) {\\n            webIOModule.load_ipython_extension();\\n        });\\n        warning_div.innerHTML = \\\"<strong>Loading WebIO Jupyter extension on an ad-hoc basis. Consider enabling the WebIO nbextension for a stabler experience (this should happen automatically when building WebIO).</strong>\\\";\\n    } else if (window.location.pathname.includes(\\\"/lab\\\")) {\\n        // Guessing JupyterLa\\n        console.log(\\\"Jupyter Lab detected; make sure the @webio/jupyter-lab-provider labextension is installed.\\\");\\n        hide();\\n        return;\\n    }\\n})();\\n\\n</script>\\n<div\\n    id=\\\"webio-warning-2376801219160278957\\\"\\n    class=\\\"output_text output_stderr\\\"\\n    style=\\\"padding: 1em; font-weight: bold;\\\"\\n>\\n    Unable to load WebIO. Please make sure WebIO works for your Jupyter client.\\n    <!-- TODO: link to installation docs. -->\\n</div>\\n\")"
      ]
     },
     "metadata": {},
     "output_type": "display_data"
    },
    {
     "name": "stdout",
     "output_type": "stream",
     "text": [
      "CSV_ARCHIVE=/lustre/storeB/users/roels/netatmo\n",
      "JSON_ARCHIVE=/lustre/storeB/project/metproduction/products/netatmo/\n"
     ]
    }
   ],
   "source": [
    "using Plots, Interact, Dates, DataFrames, LinearAlgebra, IterativeSolvers\n",
    "using Netatmo"
   ]
  },
  {
   "cell_type": "code",
   "execution_count": 2,
   "metadata": {
    "collapsed": false
   },
   "outputs": [
    {
     "name": "stderr",
     "output_type": "stream",
     "text": [
      "\u001b[32mReading: CSV files 100%|████████████████████████████████| Time: 0:00:26\u001b[39m\n"
     ]
    },
    {
     "data": {
      "text/html": [
       "<table class=\"data-frame\"><thead><tr><th></th><th>id</th><th>time_utc</th></tr><tr><th></th><th>String</th><th>Int64</th></tr></thead><tbody><p>141,824 rows × 9 columns (omitted printing of 7 columns)</p><tr><th>1</th><td>enc:16:8USjqWB8mr5di7cAMak+ZVA4I5ogvXj4Hyjl0re2lkAa211EN/omZxnkBFiCLGgW</td><td>1556668804</td></tr><tr><th>2</th><td>enc:16:PhrU/F5+73GUzqtRppynU1s28nKNZIAGocaKZjHkP99W51WPX6uhdi7m0alPFnNb</td><td>1556668818</td></tr><tr><th>3</th><td>enc:16:Z9PjEIA+4bnjrGy9ZQgtdBgRF/pbezvz31wT0/vatkExyp0VwerAPreoawchlHtr</td><td>1556669073</td></tr><tr><th>4</th><td>enc:16:enUHiQxRLiIB6A+qJrjGnVWhMKwSzPMv6sJ0VN2lSLqtqYkbjoUQeWKE4InWhTvO</td><td>1556669093</td></tr><tr><th>5</th><td>enc:16:7RKDJoK+UWw9QPF187w5sE8lRlABnUCO1oPLjOTsd26wY5LgsPZYnexaiHGHH5pJ</td><td>1556669084</td></tr><tr><th>6</th><td>enc:16:pRZIyoowNLqEr6lZFDBz1m50JiohnsowDxB38fVsVum4eIpmNWCA8Tc21tDCR7Ze</td><td>1556669258</td></tr><tr><th>7</th><td>enc:16:zEydIQ1EjqZ8915fG2Mum1Mnsecn7/Yp58ead3h1t249xC4+xQjcyVsSs/GknfRy</td><td>1556668936</td></tr><tr><th>8</th><td>enc:16:JL/v0BtE2i8ir5bZRnF/6tvAwwFozkEC+/58Q/Y7gWSzfncSh2PZ3u8TNV1pNqNF</td><td>1556669099</td></tr><tr><th>9</th><td>enc:16:CzKHwceirDxtkSzcgDbPdP0M7hB+n7WBwpCmFFkNviancSdzZ2ONCUvoE2tUaXlM</td><td>1556669237</td></tr><tr><th>10</th><td>enc:16:Lr+fBgsGRN0YtILg82+Js2OddHElzNO/omNILmZSnC9unMj6FP9sFMTNMVp+enTa</td><td>1556669141</td></tr><tr><th>11</th><td>enc:16:C2lSpqDKYtwhjcTAUELRM44AKrCgJg1CeOIOpvFIk+z1pfJOfssvtsGo8eVHZ8U8</td><td>1556668838</td></tr><tr><th>12</th><td>enc:16:BA4o7SkGFHdPnwgRPDov6iJBVzznDrGM2rvztopXaMkaBjGbk7TRh8NjzM7asui9</td><td>1556668894</td></tr><tr><th>13</th><td>enc:16:7v6EIeblmmsafndxajGMvga8bpBW4FdoWp9+JfKr3sSGlMZHCrJGNt5XEudoS01/</td><td>1556668962</td></tr><tr><th>14</th><td>enc:16:9loEuZuJQ/Zp+at77Eabc28GXxXzTB6ws2P80WyL2364+WuRyHfuhE1wNkFCj2PD</td><td>1556668973</td></tr><tr><th>15</th><td>enc:16:6xWBDEyUxHUkuORL1sx7Mdy/vtIhYfoQR59xfRrpTpPj3+ACAfFkmIo9tkAat85m</td><td>1556668913</td></tr><tr><th>16</th><td>enc:16:pM3cYG5bjQof2D88LSEdsL2sUCQVyKCyZIppCS0bJa39Zbh2S8uFI1Ify4d//xfx</td><td>1556669088</td></tr><tr><th>17</th><td>enc:16:4e9bzyUBxPvKjInDUJCJZtYbPzqHhXIBlZmoXAepbHZoi3MsVAzvFCfVtnEL2KO7</td><td>1556668824</td></tr><tr><th>18</th><td>enc:16:Ag4Plx9uX47kNVvKo8cg7LoEYfGx/bHUnQin0VoSKQys6gwfUxR7neKjzJ9dG9CU</td><td>1556669130</td></tr><tr><th>19</th><td>enc:16:RCvGkeH+l4HAP1bqR+0KNqrNkkGNpXH7NTk9qi1NVLp1dtCrW8G6g4V4PKN/5M6V</td><td>1556669230</td></tr><tr><th>20</th><td>enc:16:i4QWjgbIsTdNx46cQZ2c/sK6TPhlMRh2WCznV7SNf78IER1x+fhI9ecDpzwOHS8+</td><td>1556669328</td></tr><tr><th>21</th><td>enc:16:oYwpVLtLHryYL2RNcQorN6wlsZXslIzxtBamfMjvKEPCbVHv4sqte6V5G77nBcF1</td><td>1556669130</td></tr><tr><th>22</th><td>enc:16:bKxnoIqQkE3pROPzJCq+5qvuw3I6MGfJ9jqtsZX5oivObbKhhouHVj6i7zcQLUTL</td><td>1556668845</td></tr><tr><th>23</th><td>enc:16:jBGfKXbKWKk/BmBAPNTXluw/6aBRKddDEAP+N0QZsePBlEsYAE9EFDj8oy33Nq0j</td><td>1556668910</td></tr><tr><th>24</th><td>enc:16:wAzan8zpbSsswDnu9zlTFv1VbAfJXLU2ShkbgqMpMW466l6mBzYO/PYbGn9NhLSj</td><td>1556669282</td></tr><tr><th>25</th><td>enc:16:YRLGeef3GXR7q7vv8227Iju/rmoaKTsF1zFfGlnD+IjBPqgJWCmL+VXvxyJPyh1n</td><td>1556669240</td></tr><tr><th>26</th><td>enc:16:MhVh5e4W8rUIfXOimAr+YB1Ec4KXvy2crnIOWPgV9TNn3ZM+9lLm8AROBUWGLC/u</td><td>1556669089</td></tr><tr><th>27</th><td>enc:16:xJEhu5Q9n+GEU9M08GbXPOjKBzdhMoZ3kVLyQuFQplcyNlUr5ZVVqltEnqAr0TyN</td><td>1556669152</td></tr><tr><th>28</th><td>enc:16:t9bxeXg0VG82Ir+7R6B6F1AUjgXN9SfMCQBEvunYgPhn5nv+wKiVqSSMhe/HUO50</td><td>1556668831</td></tr><tr><th>29</th><td>enc:16:KjvGsBU2yDQtxZ7rUcFWzlvIUsZTedeTh8xQrEn6G653vA8EW5f85Gsw88gh/KJQ</td><td>1556669239</td></tr><tr><th>30</th><td>enc:16:Pe3+MUKzYSwaXJ3ADmFUh+7K4RhLxBUvUvy6WQymILOSWX4miSFCewLZzICmSisv</td><td>1556669297</td></tr><tr><th>&vellip;</th><td>&vellip;</td><td>&vellip;</td></tr></tbody></table>"
      ],
      "text/latex": [
       "\\begin{tabular}{r|ccc}\n",
       "\t& id & time\\_utc & \\\\\n",
       "\t\\hline\n",
       "\t& String & Int64 & \\\\\n",
       "\t\\hline\n",
       "\t1 & enc:16:8USjqWB8mr5di7cAMak+ZVA4I5ogvXj4Hyjl0re2lkAa211EN/omZxnkBFiCLGgW & 1556668804 & $\\dots$ \\\\\n",
       "\t2 & enc:16:PhrU/F5+73GUzqtRppynU1s28nKNZIAGocaKZjHkP99W51WPX6uhdi7m0alPFnNb & 1556668818 & $\\dots$ \\\\\n",
       "\t3 & enc:16:Z9PjEIA+4bnjrGy9ZQgtdBgRF/pbezvz31wT0/vatkExyp0VwerAPreoawchlHtr & 1556669073 & $\\dots$ \\\\\n",
       "\t4 & enc:16:enUHiQxRLiIB6A+qJrjGnVWhMKwSzPMv6sJ0VN2lSLqtqYkbjoUQeWKE4InWhTvO & 1556669093 & $\\dots$ \\\\\n",
       "\t5 & enc:16:7RKDJoK+UWw9QPF187w5sE8lRlABnUCO1oPLjOTsd26wY5LgsPZYnexaiHGHH5pJ & 1556669084 & $\\dots$ \\\\\n",
       "\t6 & enc:16:pRZIyoowNLqEr6lZFDBz1m50JiohnsowDxB38fVsVum4eIpmNWCA8Tc21tDCR7Ze & 1556669258 & $\\dots$ \\\\\n",
       "\t7 & enc:16:zEydIQ1EjqZ8915fG2Mum1Mnsecn7/Yp58ead3h1t249xC4+xQjcyVsSs/GknfRy & 1556668936 & $\\dots$ \\\\\n",
       "\t8 & enc:16:JL/v0BtE2i8ir5bZRnF/6tvAwwFozkEC+/58Q/Y7gWSzfncSh2PZ3u8TNV1pNqNF & 1556669099 & $\\dots$ \\\\\n",
       "\t9 & enc:16:CzKHwceirDxtkSzcgDbPdP0M7hB+n7WBwpCmFFkNviancSdzZ2ONCUvoE2tUaXlM & 1556669237 & $\\dots$ \\\\\n",
       "\t10 & enc:16:Lr+fBgsGRN0YtILg82+Js2OddHElzNO/omNILmZSnC9unMj6FP9sFMTNMVp+enTa & 1556669141 & $\\dots$ \\\\\n",
       "\t11 & enc:16:C2lSpqDKYtwhjcTAUELRM44AKrCgJg1CeOIOpvFIk+z1pfJOfssvtsGo8eVHZ8U8 & 1556668838 & $\\dots$ \\\\\n",
       "\t12 & enc:16:BA4o7SkGFHdPnwgRPDov6iJBVzznDrGM2rvztopXaMkaBjGbk7TRh8NjzM7asui9 & 1556668894 & $\\dots$ \\\\\n",
       "\t13 & enc:16:7v6EIeblmmsafndxajGMvga8bpBW4FdoWp9+JfKr3sSGlMZHCrJGNt5XEudoS01/ & 1556668962 & $\\dots$ \\\\\n",
       "\t14 & enc:16:9loEuZuJQ/Zp+at77Eabc28GXxXzTB6ws2P80WyL2364+WuRyHfuhE1wNkFCj2PD & 1556668973 & $\\dots$ \\\\\n",
       "\t15 & enc:16:6xWBDEyUxHUkuORL1sx7Mdy/vtIhYfoQR59xfRrpTpPj3+ACAfFkmIo9tkAat85m & 1556668913 & $\\dots$ \\\\\n",
       "\t16 & enc:16:pM3cYG5bjQof2D88LSEdsL2sUCQVyKCyZIppCS0bJa39Zbh2S8uFI1Ify4d//xfx & 1556669088 & $\\dots$ \\\\\n",
       "\t17 & enc:16:4e9bzyUBxPvKjInDUJCJZtYbPzqHhXIBlZmoXAepbHZoi3MsVAzvFCfVtnEL2KO7 & 1556668824 & $\\dots$ \\\\\n",
       "\t18 & enc:16:Ag4Plx9uX47kNVvKo8cg7LoEYfGx/bHUnQin0VoSKQys6gwfUxR7neKjzJ9dG9CU & 1556669130 & $\\dots$ \\\\\n",
       "\t19 & enc:16:RCvGkeH+l4HAP1bqR+0KNqrNkkGNpXH7NTk9qi1NVLp1dtCrW8G6g4V4PKN/5M6V & 1556669230 & $\\dots$ \\\\\n",
       "\t20 & enc:16:i4QWjgbIsTdNx46cQZ2c/sK6TPhlMRh2WCznV7SNf78IER1x+fhI9ecDpzwOHS8+ & 1556669328 & $\\dots$ \\\\\n",
       "\t21 & enc:16:oYwpVLtLHryYL2RNcQorN6wlsZXslIzxtBamfMjvKEPCbVHv4sqte6V5G77nBcF1 & 1556669130 & $\\dots$ \\\\\n",
       "\t22 & enc:16:bKxnoIqQkE3pROPzJCq+5qvuw3I6MGfJ9jqtsZX5oivObbKhhouHVj6i7zcQLUTL & 1556668845 & $\\dots$ \\\\\n",
       "\t23 & enc:16:jBGfKXbKWKk/BmBAPNTXluw/6aBRKddDEAP+N0QZsePBlEsYAE9EFDj8oy33Nq0j & 1556668910 & $\\dots$ \\\\\n",
       "\t24 & enc:16:wAzan8zpbSsswDnu9zlTFv1VbAfJXLU2ShkbgqMpMW466l6mBzYO/PYbGn9NhLSj & 1556669282 & $\\dots$ \\\\\n",
       "\t25 & enc:16:YRLGeef3GXR7q7vv8227Iju/rmoaKTsF1zFfGlnD+IjBPqgJWCmL+VXvxyJPyh1n & 1556669240 & $\\dots$ \\\\\n",
       "\t26 & enc:16:MhVh5e4W8rUIfXOimAr+YB1Ec4KXvy2crnIOWPgV9TNn3ZM+9lLm8AROBUWGLC/u & 1556669089 & $\\dots$ \\\\\n",
       "\t27 & enc:16:xJEhu5Q9n+GEU9M08GbXPOjKBzdhMoZ3kVLyQuFQplcyNlUr5ZVVqltEnqAr0TyN & 1556669152 & $\\dots$ \\\\\n",
       "\t28 & enc:16:t9bxeXg0VG82Ir+7R6B6F1AUjgXN9SfMCQBEvunYgPhn5nv+wKiVqSSMhe/HUO50 & 1556668831 & $\\dots$ \\\\\n",
       "\t29 & enc:16:KjvGsBU2yDQtxZ7rUcFWzlvIUsZTedeTh8xQrEn6G653vA8EW5f85Gsw88gh/KJQ & 1556669239 & $\\dots$ \\\\\n",
       "\t30 & enc:16:Pe3+MUKzYSwaXJ3ADmFUh+7K4RhLxBUvUvy6WQymILOSWX4miSFCewLZzICmSisv & 1556669297 & $\\dots$ \\\\\n",
       "\t$\\dots$ & $\\dots$ & $\\dots$ &  \\\\\n",
       "\\end{tabular}\n"
      ],
      "text/plain": [
       "141824×9 DataFrame. Omitted printing of 9 columns\n",
       "│ Row    │ │        │ ├────────┼\n",
       "│ 1      │ │ 2      │ │ 3      │ │ 4      │ │ 5      │ │ 6      │ │ 7      │ │ 8      │ │ 9      │ │ 10     │ \n",
       "⋮\n",
       "│ 141814 │ │ 141815 │ │ 141816 │ │ 141817 │ │ 141818 │ │ 141819 │ │ 141820 │ │ 141821 │ │ 141822 │ │ 141823 │ │ 141824 │ "
      ]
     },
     "execution_count": 2,
     "metadata": {},
     "output_type": "execute_result"
    }
   ],
   "source": [
    "dtg       = DateTime(2019,5,1,0)\n",
    "period    = Hour(24)\n",
    "timerange = dtg:Minute(10):dtg + period\n",
    "latrange  = 59.9:0.01:60  \n",
    "lonrange  = 10.7:0.01:10.8\n",
    "df = Netatmo.read(timerange, latrange=latrange, lonrange=lonrange)"
   ]
  },
  {
   "cell_type": "code",
   "execution_count": 42,
   "metadata": {
    "collapsed": false
   },
   "outputs": [
    {
     "data": {
      "text/plain": [
       "143-element Array{Float64,1}:\n",
       " 0.0\n",
       " 0.0\n",
       " 0.0\n",
       " 0.0\n",
       " 0.0\n",
       " 0.0\n",
       " 0.0\n",
       " 0.0\n",
       " 0.0\n",
       " 0.0\n",
       " 0.0\n",
       " 0.0\n",
       " 0.0\n",
       " ⋮  \n",
       " 0.0\n",
       " 0.0\n",
       " 0.0\n",
       " 0.0\n",
       " 0.0\n",
       " 0.0\n",
       " 0.0\n",
       " 0.0\n",
       " 0.0\n",
       " 0.0\n",
       " 0.0\n",
       " 0.0"
      ]
     },
     "execution_count": 42,
     "metadata": {},
     "output_type": "execute_result"
    }
   ],
   "source": [
    "    df.pressurehat = 0 \n",
    "    groupbyid = groupby(df,:id) \n",
    "    s = groupbyid[1]\n",
    "    σf = 10\n",
    "    σₒ = 0.1\n",
    "    r = 4\n",
    "    # Kou(t₁,t₂)  = σf^2*exp(-1/2*abs(t₁-t₂)/(60*60*r))   # Ornstein–Uhlenbeck\n",
    "    Kse(t₁,t₂) = σf^2*exp(-1/2*(t₁-t₂)^2/(60*60*r)^2)          # squared-exponential \n",
    "    K  = [Kse(t₁,t₂) for t₁ in s[:time_utc], t₂ in s[:time_utc] ] \n",
    "    # Ks = [rbf(t1,t2) for t1 in datetime2unix.(timerange),     t2 in s1[:time_utc] ]     \n",
    "    KpI = copy(K)  \n",
    "    KpI[diagind(KpI)] .= diag(KpI) .+ (σₒ)^2\n",
    "    timecg  = @elapsed q, cglog = cg(KpI,s[:pressure],log=true)           \n",
    "    pshat = K*q\n",
    "    groupbyid[1][:pressurehat] = pshat"
   ]
  },
  {
   "cell_type": "code",
   "execution_count": 43,
   "metadata": {
    "collapsed": false
   },
   "outputs": [
    {
     "data": {
      "text/plain": [
       "k (generic function with 1 method)"
      ]
     },
     "execution_count": 43,
     "metadata": {},
     "output_type": "execute_result"
    }
   ],
   "source": [
    "k(x1,x2) = Kse(x1.x,x2.x)* Kse(x1.y,x2.y)*Kse(x1.t,x2.t)"
   ]
  }
 ],
 "metadata": {
  "kernelspec": {
   "display_name": "Julia 1.1.1",
   "language": "julia",
   "name": "julia-1.1"
  },
  "language_info": {
   "file_extension": ".jl",
   "mimetype": "application/julia",
   "name": "julia",
   "version": "1.1.1"
  }
 },
 "nbformat": 4,
 "nbformat_minor": 2
}
