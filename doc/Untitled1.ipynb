{
 "cells": [
  {
   "cell_type": "code",
   "execution_count": 1,
   "metadata": {},
   "outputs": [
    {
     "data": {
      "text/plain": [
       "3"
      ]
     },
     "execution_count": 1,
     "metadata": {},
     "output_type": "execute_result"
    }
   ],
   "source": [
    "a=3"
   ]
  },
  {
   "cell_type": "code",
   "execution_count": 2,
   "metadata": {},
   "outputs": [],
   "source": [
    "using Plots"
   ]
  },
  {
   "cell_type": "code",
   "execution_count": 3,
   "metadata": {},
   "outputs": [
    {
     "data": {
      "text/html": [
       "<script>\n",
       "// Immediately-invoked-function-expression to avoid global variables.\n",
       "(function() {\n",
       "    var warning_div = document.getElementById(\"webio-warning-16095593505828479695\");\n",
       "    var hide = function () {\n",
       "        var script = document.getElementById(\"webio-setup-9705669679176356856\");\n",
       "        var parent = script && script.parentElement;\n",
       "        var grandparent = parent && parent.parentElement;\n",
       "        if (grandparent) {\n",
       "            grandparent.style.display = \"none\";\n",
       "        }\n",
       "        warning_div.style.display = \"none\";\n",
       "    };\n",
       "    if (typeof Jupyter !== \"undefined\") {\n",
       "        console.log(\"WebIO detected Jupyter notebook environment.\");\n",
       "        // Jupyter notebook.\n",
       "        var extensions = (\n",
       "            Jupyter\n",
       "            && Jupyter.notebook.config.data\n",
       "            && Jupyter.notebook.config.data.load_extensions\n",
       "        );\n",
       "        if (extensions && extensions[\"webio/main\"]) {\n",
       "            // Extension already loaded.\n",
       "            console.log(\"Jupyter WebIO nbextension detected; not loading ad-hoc.\");\n",
       "            hide();\n",
       "            return;\n",
       "        }\n",
       "        console.warn(\"Loading WebIO Jupyter extension on an ad-hoc basis. Consider enabling the WebIO nbextension for a stabler experience (this should happen automatically when building WebIO).\");\n",
       "        require([\"/assetserver/0f63de98390cd72174381640f96d318de90e7b72-dist/main.js\"], function (webIOModule) {\n",
       "            webIOModule.load_ipython_extension();\n",
       "        });\n",
       "        warning_div.innerHTML = \"<strong>Loading WebIO Jupyter extension on an ad-hoc basis. Consider enabling the WebIO nbextension for a stabler experience (this should happen automatically when building WebIO).</strong>\";\n",
       "    } else if (window.location.pathname.includes(\"/lab\")) {\n",
       "        // Guessing JupyterLa\n",
       "        console.log(\"Jupyter Lab detected; make sure the @webio/jupyter-lab-provider labextension is installed.\");\n",
       "        hide();\n",
       "        return;\n",
       "    }\n",
       "})();\n",
       "\n",
       "</script>\n",
       "<div\n",
       "    id=\"webio-warning-16095593505828479695\"\n",
       "    class=\"output_text output_stderr\"\n",
       "    style=\"padding: 1em; font-weight: bold;\"\n",
       ">\n",
       "    Unable to load WebIO. Please make sure WebIO works for your Jupyter client.\n",
       "    <!-- TODO: link to installation docs. -->\n",
       "</div>\n"
      ],
      "text/plain": [
       "HTML{String}(\"<script>\\n// Immediately-invoked-function-expression to avoid global variables.\\n(function() {\\n    var warning_div = document.getElementById(\\\"webio-warning-16095593505828479695\\\");\\n    var hide = function () {\\n        var script = document.getElementById(\\\"webio-setup-9705669679176356856\\\");\\n        var parent = script && script.parentElement;\\n        var grandparent = parent && parent.parentElement;\\n        if (grandparent) {\\n            grandparent.style.display = \\\"none\\\";\\n        }\\n        warning_div.style.display = \\\"none\\\";\\n    };\\n    if (typeof Jupyter !== \\\"undefined\\\") {\\n        console.log(\\\"WebIO detected Jupyter notebook environment.\\\");\\n        // Jupyter notebook.\\n        var extensions = (\\n            Jupyter\\n            && Jupyter.notebook.config.data\\n            && Jupyter.notebook.config.data.load_extensions\\n        );\\n        if (extensions && extensions[\\\"webio/main\\\"]) {\\n            // Extension already loaded.\\n            console.log(\\\"Jupyter WebIO nbextension detected; not loading ad-hoc.\\\");\\n            hide();\\n            return;\\n        }\\n        console.warn(\\\"Loading WebIO Jupyter extension on an ad-hoc basis. Consider enabling the WebIO nbextension for a stabler experience (this should happen automatically when building WebIO).\\\");\\n        require([\\\"/assetserver/0f63de98390cd72174381640f96d318de90e7b72-dist/main.js\\\"], function (webIOModule) {\\n            webIOModule.load_ipython_extension();\\n        });\\n        warning_div.innerHTML = \\\"<strong>Loading WebIO Jupyter extension on an ad-hoc basis. Consider enabling the WebIO nbextension for a stabler experience (this should happen automatically when building WebIO).</strong>\\\";\\n    } else if (window.location.pathname.includes(\\\"/lab\\\")) {\\n        // Guessing JupyterLa\\n        console.log(\\\"Jupyter Lab detected; make sure the @webio/jupyter-lab-provider labextension is installed.\\\");\\n        hide();\\n        return;\\n    }\\n})();\\n\\n</script>\\n<div\\n    id=\\\"webio-warning-16095593505828479695\\\"\\n    class=\\\"output_text output_stderr\\\"\\n    style=\\\"padding: 1em; font-weight: bold;\\\"\\n>\\n    Unable to load WebIO. Please make sure WebIO works for your Jupyter client.\\n    <!-- TODO: link to installation docs. -->\\n</div>\\n\")"
      ]
     },
     "metadata": {},
     "output_type": "display_data"
    },
    {
     "data": {
      "application/vnd.webio.node+json": {
       "children": [
        {
         "children": [
          {
           "children": [
            "Press me!"
           ],
           "instanceArgs": {
            "namespace": "html",
            "tag": "button"
           },
           "nodeType": "DOM",
           "props": {
            "attributes": {
             "data-bind": "click: function (){this.clicks(this.clicks()+1)}, css: {'is-loading' : loading}"
            },
            "className": "button is-primary",
            "style": {}
           },
           "type": "node"
          }
         ],
         "instanceArgs": {
          "handlers": {
           "clicks": [
            "(function (val){return (val!=this.model[\"clicks\"]()) ? (this.valueFromJulia[\"clicks\"]=true, this.model[\"clicks\"](val)) : undefined})"
           ],
           "loading": [
            "(function (val){return (val!=this.model[\"loading\"]()) ? (this.valueFromJulia[\"loading\"]=true, this.model[\"loading\"](val)) : undefined})"
           ]
          },
          "id": "knockout-component-288100b4-5152-459d-9a9c-63bcc92af154",
          "imports": {
           "data": [
            {
             "name": "knockout",
             "type": "js",
             "url": "/assetserver/4c46bb451382581706b9774f056ff0eb033730d2-knockout.js"
            },
            {
             "name": "knockout_punches",
             "type": "js",
             "url": "/assetserver/7703eb33282eba33804997c61d1d289632fc7ddf-knockout_punches.js"
            },
            {
             "name": null,
             "type": "js",
             "url": "/assetserver/b46e98b31e4234ec0be1ab0b5be2743233171bb9-all.js"
            },
            {
             "name": null,
             "type": "css",
             "url": "/assetserver/80103f9b53fa8b4bb8f8d94b1f5919d03ca2677d-style.css"
            },
            {
             "name": null,
             "type": "css",
             "url": "/assetserver/b795e50c99e3978c5dc2ad8b262026876d96179a-bulma_confined.min.css"
            }
           ],
           "type": "async_block"
          },
          "mount_callbacks": [
           "function () {\n    var handler = (function (ko, koPunches) {\n    ko.punches.enableAll();\n    ko.bindingHandlers.numericValue = {\n        init : function(element, valueAccessor, allBindings, data, context) {\n            var stringified = ko.observable(ko.unwrap(valueAccessor()));\n            stringified.subscribe(function(value) {\n                var val = parseFloat(value);\n                if (!isNaN(val)) {\n                    valueAccessor()(val);\n                }\n            })\n            valueAccessor().subscribe(function(value) {\n                var str = JSON.stringify(value);\n                if ((str == \"0\") && ([\"-0\", \"-0.\"].indexOf(stringified()) >= 0))\n                     return;\n                 if ([\"null\", \"\"].indexOf(str) >= 0)\n                     return;\n                stringified(str);\n            })\n            ko.applyBindingsToNode(element, { value: stringified, valueUpdate: allBindings.get('valueUpdate')}, context);\n        }\n    };\n    var json_data = {\"loading\":WebIO.getval({\"name\":\"loading\",\"scope\":\"knockout-component-288100b4-5152-459d-9a9c-63bcc92af154\",\"id\":\"ob_02\",\"type\":\"observable\"}),\"clicks\":WebIO.getval({\"name\":\"clicks\",\"scope\":\"knockout-component-288100b4-5152-459d-9a9c-63bcc92af154\",\"id\":\"ob_01\",\"type\":\"observable\"})};\n    var self = this;\n    function AppViewModel() {\n        for (var key in json_data) {\n            var el = json_data[key];\n            this[key] = Array.isArray(el) ? ko.observableArray(el) : ko.observable(el);\n        }\n        \n        \n        [this[\"loading\"].subscribe((function (val){!(this.valueFromJulia[\"loading\"]) ? (WebIO.setval({\"name\":\"loading\",\"scope\":\"knockout-component-288100b4-5152-459d-9a9c-63bcc92af154\",\"id\":\"ob_02\",\"type\":\"observable\"},val)) : undefined; return this.valueFromJulia[\"loading\"]=false}),self),this[\"clicks\"].subscribe((function (val){!(this.valueFromJulia[\"clicks\"]) ? (WebIO.setval({\"name\":\"clicks\",\"scope\":\"knockout-component-288100b4-5152-459d-9a9c-63bcc92af154\",\"id\":\"ob_01\",\"type\":\"observable\"},val)) : undefined; return this.valueFromJulia[\"clicks\"]=false}),self)]\n        \n    }\n    self.model = new AppViewModel();\n    self.valueFromJulia = {};\n    for (var key in json_data) {\n        self.valueFromJulia[key] = false;\n    }\n    ko.applyBindings(self.model, self.dom);\n}\n);\n    (WebIO.importBlock({\"data\":[{\"name\":\"knockout\",\"type\":\"js\",\"url\":\"/assetserver/4c46bb451382581706b9774f056ff0eb033730d2-knockout.js\"},{\"name\":\"knockout_punches\",\"type\":\"js\",\"url\":\"/assetserver/7703eb33282eba33804997c61d1d289632fc7ddf-knockout_punches.js\"}],\"type\":\"async_block\"})).then((imports) => handler.apply(this, imports));\n}\n"
          ],
          "observables": {
           "clicks": {
            "id": "ob_01",
            "sync": false,
            "value": 0
           },
           "loading": {
            "id": "ob_02",
            "sync": false,
            "value": false
           }
          },
          "systemjs_options": null
         },
         "nodeType": "Scope",
         "props": {},
         "type": "node"
        }
       ],
       "instanceArgs": {
        "namespace": "html",
        "tag": "div"
       },
       "nodeType": "DOM",
       "props": {
        "className": "field interact-widget"
       },
       "type": "node"
      },
      "text/html": [
       "<div\n",
       "    class=\"webio-mountpoint\"\n",
       "    data-webio-mountpoint=\"18375557205405733330\"\n",
       ">\n",
       "    <script>\n",
       "    if (window.require && require.defined && require.defined(\"nbextensions/webio/main\")) {\n",
       "        console.log(\"Jupyter WebIO extension detected, not mounting.\");\n",
       "    } else if (window.WebIO) {\n",
       "        WebIO.mount(\n",
       "            document.querySelector('[data-webio-mountpoint=\"18375557205405733330\"]'),\n",
       "            {\"props\":{\"className\":\"field interact-widget\"},\"nodeType\":\"DOM\",\"type\":\"node\",\"instanceArgs\":{\"namespace\":\"html\",\"tag\":\"div\"},\"children\":[{\"props\":{},\"nodeType\":\"Scope\",\"type\":\"node\",\"instanceArgs\":{\"imports\":{\"data\":[{\"name\":\"knockout\",\"type\":\"js\",\"url\":\"\\/assetserver\\/4c46bb451382581706b9774f056ff0eb033730d2-knockout.js\"},{\"name\":\"knockout_punches\",\"type\":\"js\",\"url\":\"\\/assetserver\\/7703eb33282eba33804997c61d1d289632fc7ddf-knockout_punches.js\"},{\"name\":null,\"type\":\"js\",\"url\":\"\\/assetserver\\/b46e98b31e4234ec0be1ab0b5be2743233171bb9-all.js\"},{\"name\":null,\"type\":\"css\",\"url\":\"\\/assetserver\\/80103f9b53fa8b4bb8f8d94b1f5919d03ca2677d-style.css\"},{\"name\":null,\"type\":\"css\",\"url\":\"\\/assetserver\\/b795e50c99e3978c5dc2ad8b262026876d96179a-bulma_confined.min.css\"}],\"type\":\"async_block\"},\"id\":\"knockout-component-288100b4-5152-459d-9a9c-63bcc92af154\",\"handlers\":{\"loading\":[\"(function (val){return (val!=this.model[\\\"loading\\\"]()) ? (this.valueFromJulia[\\\"loading\\\"]=true, this.model[\\\"loading\\\"](val)) : undefined})\"],\"clicks\":[\"(function (val){return (val!=this.model[\\\"clicks\\\"]()) ? (this.valueFromJulia[\\\"clicks\\\"]=true, this.model[\\\"clicks\\\"](val)) : undefined})\"]},\"systemjs_options\":null,\"mount_callbacks\":[\"function () {\\n    var handler = (function (ko, koPunches) {\\n    ko.punches.enableAll();\\n    ko.bindingHandlers.numericValue = {\\n        init : function(element, valueAccessor, allBindings, data, context) {\\n            var stringified = ko.observable(ko.unwrap(valueAccessor()));\\n            stringified.subscribe(function(value) {\\n                var val = parseFloat(value);\\n                if (!isNaN(val)) {\\n                    valueAccessor()(val);\\n                }\\n            })\\n            valueAccessor().subscribe(function(value) {\\n                var str = JSON.stringify(value);\\n                if ((str == \\\"0\\\") && ([\\\"-0\\\", \\\"-0.\\\"].indexOf(stringified()) >= 0))\\n                     return;\\n                 if ([\\\"null\\\", \\\"\\\"].indexOf(str) >= 0)\\n                     return;\\n                stringified(str);\\n            })\\n            ko.applyBindingsToNode(element, { value: stringified, valueUpdate: allBindings.get('valueUpdate')}, context);\\n        }\\n    };\\n    var json_data = {\\\"loading\\\":WebIO.getval({\\\"name\\\":\\\"loading\\\",\\\"scope\\\":\\\"knockout-component-288100b4-5152-459d-9a9c-63bcc92af154\\\",\\\"id\\\":\\\"ob_02\\\",\\\"type\\\":\\\"observable\\\"}),\\\"clicks\\\":WebIO.getval({\\\"name\\\":\\\"clicks\\\",\\\"scope\\\":\\\"knockout-component-288100b4-5152-459d-9a9c-63bcc92af154\\\",\\\"id\\\":\\\"ob_01\\\",\\\"type\\\":\\\"observable\\\"})};\\n    var self = this;\\n    function AppViewModel() {\\n        for (var key in json_data) {\\n            var el = json_data[key];\\n            this[key] = Array.isArray(el) ? ko.observableArray(el) : ko.observable(el);\\n        }\\n        \\n        \\n        [this[\\\"loading\\\"].subscribe((function (val){!(this.valueFromJulia[\\\"loading\\\"]) ? (WebIO.setval({\\\"name\\\":\\\"loading\\\",\\\"scope\\\":\\\"knockout-component-288100b4-5152-459d-9a9c-63bcc92af154\\\",\\\"id\\\":\\\"ob_02\\\",\\\"type\\\":\\\"observable\\\"},val)) : undefined; return this.valueFromJulia[\\\"loading\\\"]=false}),self),this[\\\"clicks\\\"].subscribe((function (val){!(this.valueFromJulia[\\\"clicks\\\"]) ? (WebIO.setval({\\\"name\\\":\\\"clicks\\\",\\\"scope\\\":\\\"knockout-component-288100b4-5152-459d-9a9c-63bcc92af154\\\",\\\"id\\\":\\\"ob_01\\\",\\\"type\\\":\\\"observable\\\"},val)) : undefined; return this.valueFromJulia[\\\"clicks\\\"]=false}),self)]\\n        \\n    }\\n    self.model = new AppViewModel();\\n    self.valueFromJulia = {};\\n    for (var key in json_data) {\\n        self.valueFromJulia[key] = false;\\n    }\\n    ko.applyBindings(self.model, self.dom);\\n}\\n);\\n    (WebIO.importBlock({\\\"data\\\":[{\\\"name\\\":\\\"knockout\\\",\\\"type\\\":\\\"js\\\",\\\"url\\\":\\\"\\/assetserver\\/4c46bb451382581706b9774f056ff0eb033730d2-knockout.js\\\"},{\\\"name\\\":\\\"knockout_punches\\\",\\\"type\\\":\\\"js\\\",\\\"url\\\":\\\"\\/assetserver\\/7703eb33282eba33804997c61d1d289632fc7ddf-knockout_punches.js\\\"}],\\\"type\\\":\\\"async_block\\\"})).then((imports) => handler.apply(this, imports));\\n}\\n\"],\"observables\":{\"loading\":{\"sync\":false,\"id\":\"ob_02\",\"value\":false},\"clicks\":{\"sync\":false,\"id\":\"ob_01\",\"value\":0}}},\"children\":[{\"props\":{\"attributes\":{\"data-bind\":\"click: function (){this.clicks(this.clicks()+1)}, css: {'is-loading' : loading}\"},\"className\":\"button is-primary\",\"style\":{}},\"nodeType\":\"DOM\",\"type\":\"node\",\"instanceArgs\":{\"namespace\":\"html\",\"tag\":\"button\"},\"children\":[\"Press me!\"]}]}]},\n",
       "            window,\n",
       "        );\n",
       "    } else {\n",
       "        document\n",
       "            .querySelector('[data-webio-mountpoint=\"18375557205405733330\"]')\n",
       "            .innerHTML = '<strong>WebIO not detected.</strong>';\n",
       "    }\n",
       "    </script>\n",
       "</div>\n"
      ],
      "text/plain": [
       "(div { className=\"field interact-widget\" }\n",
       "    (button { attributes=Dict{Any,Any}(\"data-bind\"=>\"click: function (){this.clicks(this.clicks()+1)}, css: {'is-loading' : loading}\") className=\"button is-primary\" style=Dict{String,Any}() }\n",
       "    \"Press me!\"))"
      ]
     },
     "metadata": {
      "application/vnd.webio.node+json": {
       "kernelId": "8f0f174b-759f-4edf-93e9-4b71624677ac"
      }
     },
     "output_type": "display_data"
    }
   ],
   "source": [
    "using Interact\n",
    "ui = button()\n",
    "display(ui)"
   ]
  },
  {
   "cell_type": "code",
   "execution_count": 4,
   "metadata": {},
   "outputs": [
    {
     "data": {
      "application/vnd.webio.node+json": {
       "children": [
        {
         "children": [
          {
           "children": [
            {
             "children": [
              {
               "children": [],
               "instanceArgs": {
                "namespace": "html",
                "tag": "input"
               },
               "nodeType": "DOM",
               "props": {
                "attributes": {
                 "data-bind": "event: {change: onFileUpload}",
                 "style": "display: none;",
                 "type": "file"
                },
                "className": "file "
               },
               "type": "node"
              },
              {
               "children": [
                {
                 "children": [
                  {
                   "children": [],
                   "instanceArgs": {
                    "namespace": "html",
                    "tag": "i"
                   },
                   "nodeType": "DOM",
                   "props": {
                    "className": "fas fa-upload"
                   },
                   "type": "node"
                  }
                 ],
                 "instanceArgs": {
                  "namespace": "html",
                  "tag": "span"
                 },
                 "nodeType": "DOM",
                 "props": {
                  "className": "file-icon"
                 },
                 "type": "node"
                },
                {
                 "children": [
                  "Choose a file..."
                 ],
                 "instanceArgs": {
                  "namespace": "html",
                  "tag": "span"
                 },
                 "nodeType": "DOM",
                 "props": {
                  "className": ""
                 },
                 "type": "node"
                }
               ],
               "instanceArgs": {
                "namespace": "html",
                "tag": "span"
               },
               "nodeType": "DOM",
               "props": {
                "className": "file-cta"
               },
               "type": "node"
              }
             ],
             "instanceArgs": {
              "namespace": "html",
              "tag": "label"
             },
             "nodeType": "DOM",
             "props": {
              "className": ""
             },
             "type": "node"
            },
            {
             "children": [],
             "instanceArgs": {
              "namespace": "html",
              "tag": "span"
             },
             "nodeType": "DOM",
             "props": {
              "attributes": {
               "data-bind": " text: filename() == '' ? 'No file chosen' : filename()"
              },
              "className": "file-name"
             },
             "type": "node"
            }
           ],
           "instanceArgs": {
            "namespace": "html",
            "tag": "div"
           },
           "nodeType": "DOM",
           "props": {
            "attributes": {
             "style": "display:flex; align-items:center;"
            }
           },
           "type": "node"
          }
         ],
         "instanceArgs": {
          "handlers": {
           "filename": [
            "(function (val){return (val!=this.model[\"filename\"]()) ? (this.valueFromJulia[\"filename\"]=true, this.model[\"filename\"](val)) : undefined})"
           ],
           "path": [
            "(function (val){return (val!=this.model[\"path\"]()) ? (this.valueFromJulia[\"path\"]=true, this.model[\"path\"](val)) : undefined})"
           ]
          },
          "id": "knockout-component-e3fcd1a2-5617-4144-9247-a2ec70b3cda2",
          "imports": {
           "data": [
            {
             "name": "knockout",
             "type": "js",
             "url": "/assetserver/4c46bb451382581706b9774f056ff0eb033730d2-knockout.js"
            },
            {
             "name": "knockout_punches",
             "type": "js",
             "url": "/assetserver/7703eb33282eba33804997c61d1d289632fc7ddf-knockout_punches.js"
            },
            {
             "name": null,
             "type": "js",
             "url": "/assetserver/b46e98b31e4234ec0be1ab0b5be2743233171bb9-all.js"
            },
            {
             "name": null,
             "type": "css",
             "url": "/assetserver/80103f9b53fa8b4bb8f8d94b1f5919d03ca2677d-style.css"
            },
            {
             "name": null,
             "type": "css",
             "url": "/assetserver/b795e50c99e3978c5dc2ad8b262026876d96179a-bulma_confined.min.css"
            }
           ],
           "type": "async_block"
          },
          "mount_callbacks": [
           "function () {\n    var handler = (function (ko, koPunches) {\n    ko.punches.enableAll();\n    ko.bindingHandlers.numericValue = {\n        init : function(element, valueAccessor, allBindings, data, context) {\n            var stringified = ko.observable(ko.unwrap(valueAccessor()));\n            stringified.subscribe(function(value) {\n                var val = parseFloat(value);\n                if (!isNaN(val)) {\n                    valueAccessor()(val);\n                }\n            })\n            valueAccessor().subscribe(function(value) {\n                var str = JSON.stringify(value);\n                if ((str == \"0\") && ([\"-0\", \"-0.\"].indexOf(stringified()) >= 0))\n                     return;\n                 if ([\"null\", \"\"].indexOf(str) >= 0)\n                     return;\n                stringified(str);\n            })\n            ko.applyBindingsToNode(element, { value: stringified, valueUpdate: allBindings.get('valueUpdate')}, context);\n        }\n    };\n    var json_data = {\"filename\":WebIO.getval({\"name\":\"filename\",\"scope\":\"knockout-component-e3fcd1a2-5617-4144-9247-a2ec70b3cda2\",\"id\":\"ob_04\",\"type\":\"observable\"}),\"path\":WebIO.getval({\"name\":\"path\",\"scope\":\"knockout-component-e3fcd1a2-5617-4144-9247-a2ec70b3cda2\",\"id\":\"ob_03\",\"type\":\"observable\"})};\n    var self = this;\n    function AppViewModel() {\n        for (var key in json_data) {\n            var el = json_data[key];\n            this[key] = Array.isArray(el) ? ko.observableArray(el) : ko.observable(el);\n        }\n        [this[\"onFileUpload\"]=function(data, e) {\n    var files = e.target.files;\n    this.filename(files[0].name);\n    return this.path(files[0].path);\n}\n]\n        \n        [this[\"filename\"].subscribe((function (val){!(this.valueFromJulia[\"filename\"]) ? (WebIO.setval({\"name\":\"filename\",\"scope\":\"knockout-component-e3fcd1a2-5617-4144-9247-a2ec70b3cda2\",\"id\":\"ob_04\",\"type\":\"observable\"},val)) : undefined; return this.valueFromJulia[\"filename\"]=false}),self),this[\"path\"].subscribe((function (val){!(this.valueFromJulia[\"path\"]) ? (WebIO.setval({\"name\":\"path\",\"scope\":\"knockout-component-e3fcd1a2-5617-4144-9247-a2ec70b3cda2\",\"id\":\"ob_03\",\"type\":\"observable\"},val)) : undefined; return this.valueFromJulia[\"path\"]=false}),self)]\n        \n    }\n    self.model = new AppViewModel();\n    self.valueFromJulia = {};\n    for (var key in json_data) {\n        self.valueFromJulia[key] = false;\n    }\n    ko.applyBindings(self.model, self.dom);\n}\n);\n    (WebIO.importBlock({\"data\":[{\"name\":\"knockout\",\"type\":\"js\",\"url\":\"/assetserver/4c46bb451382581706b9774f056ff0eb033730d2-knockout.js\"},{\"name\":\"knockout_punches\",\"type\":\"js\",\"url\":\"/assetserver/7703eb33282eba33804997c61d1d289632fc7ddf-knockout_punches.js\"}],\"type\":\"async_block\"})).then((imports) => handler.apply(this, imports));\n}\n"
          ],
          "observables": {
           "filename": {
            "id": "ob_04",
            "sync": false,
            "value": ""
           },
           "path": {
            "id": "ob_03",
            "sync": false,
            "value": ""
           }
          },
          "systemjs_options": null
         },
         "nodeType": "Scope",
         "props": {},
         "type": "node"
        }
       ],
       "instanceArgs": {
        "namespace": "html",
        "tag": "div"
       },
       "nodeType": "DOM",
       "props": {
        "className": "field interact-widget"
       },
       "type": "node"
      },
      "text/html": [
       "<div\n",
       "    class=\"webio-mountpoint\"\n",
       "    data-webio-mountpoint=\"636752116759609948\"\n",
       ">\n",
       "    <script>\n",
       "    if (window.require && require.defined && require.defined(\"nbextensions/webio/main\")) {\n",
       "        console.log(\"Jupyter WebIO extension detected, not mounting.\");\n",
       "    } else if (window.WebIO) {\n",
       "        WebIO.mount(\n",
       "            document.querySelector('[data-webio-mountpoint=\"636752116759609948\"]'),\n",
       "            {\"props\":{\"className\":\"field interact-widget\"},\"nodeType\":\"DOM\",\"type\":\"node\",\"instanceArgs\":{\"namespace\":\"html\",\"tag\":\"div\"},\"children\":[{\"props\":{},\"nodeType\":\"Scope\",\"type\":\"node\",\"instanceArgs\":{\"imports\":{\"data\":[{\"name\":\"knockout\",\"type\":\"js\",\"url\":\"\\/assetserver\\/4c46bb451382581706b9774f056ff0eb033730d2-knockout.js\"},{\"name\":\"knockout_punches\",\"type\":\"js\",\"url\":\"\\/assetserver\\/7703eb33282eba33804997c61d1d289632fc7ddf-knockout_punches.js\"},{\"name\":null,\"type\":\"js\",\"url\":\"\\/assetserver\\/b46e98b31e4234ec0be1ab0b5be2743233171bb9-all.js\"},{\"name\":null,\"type\":\"css\",\"url\":\"\\/assetserver\\/80103f9b53fa8b4bb8f8d94b1f5919d03ca2677d-style.css\"},{\"name\":null,\"type\":\"css\",\"url\":\"\\/assetserver\\/b795e50c99e3978c5dc2ad8b262026876d96179a-bulma_confined.min.css\"}],\"type\":\"async_block\"},\"id\":\"knockout-component-e3fcd1a2-5617-4144-9247-a2ec70b3cda2\",\"handlers\":{\"filename\":[\"(function (val){return (val!=this.model[\\\"filename\\\"]()) ? (this.valueFromJulia[\\\"filename\\\"]=true, this.model[\\\"filename\\\"](val)) : undefined})\"],\"path\":[\"(function (val){return (val!=this.model[\\\"path\\\"]()) ? (this.valueFromJulia[\\\"path\\\"]=true, this.model[\\\"path\\\"](val)) : undefined})\"]},\"systemjs_options\":null,\"mount_callbacks\":[\"function () {\\n    var handler = (function (ko, koPunches) {\\n    ko.punches.enableAll();\\n    ko.bindingHandlers.numericValue = {\\n        init : function(element, valueAccessor, allBindings, data, context) {\\n            var stringified = ko.observable(ko.unwrap(valueAccessor()));\\n            stringified.subscribe(function(value) {\\n                var val = parseFloat(value);\\n                if (!isNaN(val)) {\\n                    valueAccessor()(val);\\n                }\\n            })\\n            valueAccessor().subscribe(function(value) {\\n                var str = JSON.stringify(value);\\n                if ((str == \\\"0\\\") && ([\\\"-0\\\", \\\"-0.\\\"].indexOf(stringified()) >= 0))\\n                     return;\\n                 if ([\\\"null\\\", \\\"\\\"].indexOf(str) >= 0)\\n                     return;\\n                stringified(str);\\n            })\\n            ko.applyBindingsToNode(element, { value: stringified, valueUpdate: allBindings.get('valueUpdate')}, context);\\n        }\\n    };\\n    var json_data = {\\\"filename\\\":WebIO.getval({\\\"name\\\":\\\"filename\\\",\\\"scope\\\":\\\"knockout-component-e3fcd1a2-5617-4144-9247-a2ec70b3cda2\\\",\\\"id\\\":\\\"ob_04\\\",\\\"type\\\":\\\"observable\\\"}),\\\"path\\\":WebIO.getval({\\\"name\\\":\\\"path\\\",\\\"scope\\\":\\\"knockout-component-e3fcd1a2-5617-4144-9247-a2ec70b3cda2\\\",\\\"id\\\":\\\"ob_03\\\",\\\"type\\\":\\\"observable\\\"})};\\n    var self = this;\\n    function AppViewModel() {\\n        for (var key in json_data) {\\n            var el = json_data[key];\\n            this[key] = Array.isArray(el) ? ko.observableArray(el) : ko.observable(el);\\n        }\\n        [this[\\\"onFileUpload\\\"]=function(data, e) {\\n    var files = e.target.files;\\n    this.filename(files[0].name);\\n    return this.path(files[0].path);\\n}\\n]\\n        \\n        [this[\\\"filename\\\"].subscribe((function (val){!(this.valueFromJulia[\\\"filename\\\"]) ? (WebIO.setval({\\\"name\\\":\\\"filename\\\",\\\"scope\\\":\\\"knockout-component-e3fcd1a2-5617-4144-9247-a2ec70b3cda2\\\",\\\"id\\\":\\\"ob_04\\\",\\\"type\\\":\\\"observable\\\"},val)) : undefined; return this.valueFromJulia[\\\"filename\\\"]=false}),self),this[\\\"path\\\"].subscribe((function (val){!(this.valueFromJulia[\\\"path\\\"]) ? (WebIO.setval({\\\"name\\\":\\\"path\\\",\\\"scope\\\":\\\"knockout-component-e3fcd1a2-5617-4144-9247-a2ec70b3cda2\\\",\\\"id\\\":\\\"ob_03\\\",\\\"type\\\":\\\"observable\\\"},val)) : undefined; return this.valueFromJulia[\\\"path\\\"]=false}),self)]\\n        \\n    }\\n    self.model = new AppViewModel();\\n    self.valueFromJulia = {};\\n    for (var key in json_data) {\\n        self.valueFromJulia[key] = false;\\n    }\\n    ko.applyBindings(self.model, self.dom);\\n}\\n);\\n    (WebIO.importBlock({\\\"data\\\":[{\\\"name\\\":\\\"knockout\\\",\\\"type\\\":\\\"js\\\",\\\"url\\\":\\\"\\/assetserver\\/4c46bb451382581706b9774f056ff0eb033730d2-knockout.js\\\"},{\\\"name\\\":\\\"knockout_punches\\\",\\\"type\\\":\\\"js\\\",\\\"url\\\":\\\"\\/assetserver\\/7703eb33282eba33804997c61d1d289632fc7ddf-knockout_punches.js\\\"}],\\\"type\\\":\\\"async_block\\\"})).then((imports) => handler.apply(this, imports));\\n}\\n\"],\"observables\":{\"filename\":{\"sync\":false,\"id\":\"ob_04\",\"value\":\"\"},\"path\":{\"sync\":false,\"id\":\"ob_03\",\"value\":\"\"}}},\"children\":[{\"props\":{\"attributes\":{\"style\":\"display:flex; align-items:center;\"}},\"nodeType\":\"DOM\",\"type\":\"node\",\"instanceArgs\":{\"namespace\":\"html\",\"tag\":\"div\"},\"children\":[{\"props\":{\"className\":\"\"},\"nodeType\":\"DOM\",\"type\":\"node\",\"instanceArgs\":{\"namespace\":\"html\",\"tag\":\"label\"},\"children\":[{\"props\":{\"attributes\":{\"type\":\"file\",\"data-bind\":\"event: {change: onFileUpload}\",\"style\":\"display: none;\"},\"className\":\"file \"},\"nodeType\":\"DOM\",\"type\":\"node\",\"instanceArgs\":{\"namespace\":\"html\",\"tag\":\"input\"},\"children\":[]},{\"props\":{\"className\":\"file-cta\"},\"nodeType\":\"DOM\",\"type\":\"node\",\"instanceArgs\":{\"namespace\":\"html\",\"tag\":\"span\"},\"children\":[{\"props\":{\"className\":\"file-icon\"},\"nodeType\":\"DOM\",\"type\":\"node\",\"instanceArgs\":{\"namespace\":\"html\",\"tag\":\"span\"},\"children\":[{\"props\":{\"className\":\"fas fa-upload\"},\"nodeType\":\"DOM\",\"type\":\"node\",\"instanceArgs\":{\"namespace\":\"html\",\"tag\":\"i\"},\"children\":[]}]},{\"props\":{\"className\":\"\"},\"nodeType\":\"DOM\",\"type\":\"node\",\"instanceArgs\":{\"namespace\":\"html\",\"tag\":\"span\"},\"children\":[\"Choose a file...\"]}]}]},{\"props\":{\"attributes\":{\"data-bind\":\" text: filename() == '' ? 'No file chosen' : filename()\"},\"className\":\"file-name\"},\"nodeType\":\"DOM\",\"type\":\"node\",\"instanceArgs\":{\"namespace\":\"html\",\"tag\":\"span\"},\"children\":[]}]}]}]},\n",
       "            window,\n",
       "        );\n",
       "    } else {\n",
       "        document\n",
       "            .querySelector('[data-webio-mountpoint=\"636752116759609948\"]')\n",
       "            .innerHTML = '<strong>WebIO not detected.</strong>';\n",
       "    }\n",
       "    </script>\n",
       "</div>\n"
      ],
      "text/plain": [
       "(div { className=\"field interact-widget\" }\n",
       "    (div { attributes=Dict(\"style\"=>\"display:flex; align-items:center;\") }\n",
       "    (label { className=\"\" }\n",
       "      (input { attributes=Dict{Union{String, Symbol},Any}(:type=>\"file\",Symbol(\"data-bind\")=>\"event: {change: onFileUpload}\",:style=>\"display: none;\") className=\"file \" })\n",
       "      (span { className=\"file-cta\" }\n",
       "        (span { className=\"file-icon\" }\n",
       "          (i { className=\"fas fa-upload\" }))\n",
       "        (span { className=\"\" }\n",
       "          \"Choose a file...\")))\n",
       "    (span { attributes=Dict(\"data-bind\"=>\" text: filename() == '' ? 'No file chosen' : filename()\") className=\"file-name\" })))"
      ]
     },
     "metadata": {
      "application/vnd.webio.node+json": {
       "kernelId": "8f0f174b-759f-4edf-93e9-4b71624677ac"
      }
     },
     "output_type": "display_data"
    },
    {
     "data": {
      "application/vnd.webio.node+json": {
       "children": [
        {
         "children": [
          {
           "children": [],
           "instanceArgs": {
            "namespace": "html",
            "tag": "input"
           },
           "nodeType": "DOM",
           "props": {
            "attributes": {
             "data-bind": "value: value, valueUpdate: 'input', event: {change: function (){this.changes(this.changes()+1)}}",
             "type": "text"
            },
            "className": "input ",
            "placeholder": "Write here",
            "style": {}
           },
           "type": "node"
          }
         ],
         "instanceArgs": {
          "handlers": {
           "changes": [
            "(function (val){return (val!=this.model[\"changes\"]()) ? (this.valueFromJulia[\"changes\"]=true, this.model[\"changes\"](val)) : undefined})"
           ],
           "value": [
            "(function (val){return (val!=this.model[\"value\"]()) ? (this.valueFromJulia[\"value\"]=true, this.model[\"value\"](val)) : undefined})"
           ]
          },
          "id": "knockout-component-6d6ed25e-0206-475c-a6fb-66dbf6112608",
          "imports": {
           "data": [
            {
             "name": "knockout",
             "type": "js",
             "url": "/assetserver/4c46bb451382581706b9774f056ff0eb033730d2-knockout.js"
            },
            {
             "name": "knockout_punches",
             "type": "js",
             "url": "/assetserver/7703eb33282eba33804997c61d1d289632fc7ddf-knockout_punches.js"
            },
            {
             "name": null,
             "type": "js",
             "url": "/assetserver/b46e98b31e4234ec0be1ab0b5be2743233171bb9-all.js"
            },
            {
             "name": null,
             "type": "css",
             "url": "/assetserver/80103f9b53fa8b4bb8f8d94b1f5919d03ca2677d-style.css"
            },
            {
             "name": null,
             "type": "css",
             "url": "/assetserver/b795e50c99e3978c5dc2ad8b262026876d96179a-bulma_confined.min.css"
            }
           ],
           "type": "async_block"
          },
          "mount_callbacks": [
           "function () {\n    var handler = (function (ko, koPunches) {\n    ko.punches.enableAll();\n    ko.bindingHandlers.numericValue = {\n        init : function(element, valueAccessor, allBindings, data, context) {\n            var stringified = ko.observable(ko.unwrap(valueAccessor()));\n            stringified.subscribe(function(value) {\n                var val = parseFloat(value);\n                if (!isNaN(val)) {\n                    valueAccessor()(val);\n                }\n            })\n            valueAccessor().subscribe(function(value) {\n                var str = JSON.stringify(value);\n                if ((str == \"0\") && ([\"-0\", \"-0.\"].indexOf(stringified()) >= 0))\n                     return;\n                 if ([\"null\", \"\"].indexOf(str) >= 0)\n                     return;\n                stringified(str);\n            })\n            ko.applyBindingsToNode(element, { value: stringified, valueUpdate: allBindings.get('valueUpdate')}, context);\n        }\n    };\n    var json_data = {\"changes\":WebIO.getval({\"name\":\"changes\",\"scope\":\"knockout-component-6d6ed25e-0206-475c-a6fb-66dbf6112608\",\"id\":\"ob_06\",\"type\":\"observable\"}),\"value\":WebIO.getval({\"name\":\"value\",\"scope\":\"knockout-component-6d6ed25e-0206-475c-a6fb-66dbf6112608\",\"id\":\"ob_05\",\"type\":\"observable\"})};\n    var self = this;\n    function AppViewModel() {\n        for (var key in json_data) {\n            var el = json_data[key];\n            this[key] = Array.isArray(el) ? ko.observableArray(el) : ko.observable(el);\n        }\n        \n        \n        [this[\"changes\"].subscribe((function (val){!(this.valueFromJulia[\"changes\"]) ? (WebIO.setval({\"name\":\"changes\",\"scope\":\"knockout-component-6d6ed25e-0206-475c-a6fb-66dbf6112608\",\"id\":\"ob_06\",\"type\":\"observable\"},val)) : undefined; return this.valueFromJulia[\"changes\"]=false}),self),this[\"value\"].subscribe((function (val){!(this.valueFromJulia[\"value\"]) ? (WebIO.setval({\"name\":\"value\",\"scope\":\"knockout-component-6d6ed25e-0206-475c-a6fb-66dbf6112608\",\"id\":\"ob_05\",\"type\":\"observable\"},val)) : undefined; return this.valueFromJulia[\"value\"]=false}),self)]\n        \n    }\n    self.model = new AppViewModel();\n    self.valueFromJulia = {};\n    for (var key in json_data) {\n        self.valueFromJulia[key] = false;\n    }\n    ko.applyBindings(self.model, self.dom);\n}\n);\n    (WebIO.importBlock({\"data\":[{\"name\":\"knockout\",\"type\":\"js\",\"url\":\"/assetserver/4c46bb451382581706b9774f056ff0eb033730d2-knockout.js\"},{\"name\":\"knockout_punches\",\"type\":\"js\",\"url\":\"/assetserver/7703eb33282eba33804997c61d1d289632fc7ddf-knockout_punches.js\"}],\"type\":\"async_block\"})).then((imports) => handler.apply(this, imports));\n}\n"
          ],
          "observables": {
           "changes": {
            "id": "ob_06",
            "sync": false,
            "value": 0
           },
           "value": {
            "id": "ob_05",
            "sync": false,
            "value": ""
           }
          },
          "systemjs_options": null
         },
         "nodeType": "Scope",
         "props": {},
         "type": "node"
        }
       ],
       "instanceArgs": {
        "namespace": "html",
        "tag": "div"
       },
       "nodeType": "DOM",
       "props": {
        "className": "field interact-widget"
       },
       "type": "node"
      },
      "text/html": [
       "<div\n",
       "    class=\"webio-mountpoint\"\n",
       "    data-webio-mountpoint=\"15605298283834012483\"\n",
       ">\n",
       "    <script>\n",
       "    if (window.require && require.defined && require.defined(\"nbextensions/webio/main\")) {\n",
       "        console.log(\"Jupyter WebIO extension detected, not mounting.\");\n",
       "    } else if (window.WebIO) {\n",
       "        WebIO.mount(\n",
       "            document.querySelector('[data-webio-mountpoint=\"15605298283834012483\"]'),\n",
       "            {\"props\":{\"className\":\"field interact-widget\"},\"nodeType\":\"DOM\",\"type\":\"node\",\"instanceArgs\":{\"namespace\":\"html\",\"tag\":\"div\"},\"children\":[{\"props\":{},\"nodeType\":\"Scope\",\"type\":\"node\",\"instanceArgs\":{\"imports\":{\"data\":[{\"name\":\"knockout\",\"type\":\"js\",\"url\":\"\\/assetserver\\/4c46bb451382581706b9774f056ff0eb033730d2-knockout.js\"},{\"name\":\"knockout_punches\",\"type\":\"js\",\"url\":\"\\/assetserver\\/7703eb33282eba33804997c61d1d289632fc7ddf-knockout_punches.js\"},{\"name\":null,\"type\":\"js\",\"url\":\"\\/assetserver\\/b46e98b31e4234ec0be1ab0b5be2743233171bb9-all.js\"},{\"name\":null,\"type\":\"css\",\"url\":\"\\/assetserver\\/80103f9b53fa8b4bb8f8d94b1f5919d03ca2677d-style.css\"},{\"name\":null,\"type\":\"css\",\"url\":\"\\/assetserver\\/b795e50c99e3978c5dc2ad8b262026876d96179a-bulma_confined.min.css\"}],\"type\":\"async_block\"},\"id\":\"knockout-component-6d6ed25e-0206-475c-a6fb-66dbf6112608\",\"handlers\":{\"changes\":[\"(function (val){return (val!=this.model[\\\"changes\\\"]()) ? (this.valueFromJulia[\\\"changes\\\"]=true, this.model[\\\"changes\\\"](val)) : undefined})\"],\"value\":[\"(function (val){return (val!=this.model[\\\"value\\\"]()) ? (this.valueFromJulia[\\\"value\\\"]=true, this.model[\\\"value\\\"](val)) : undefined})\"]},\"systemjs_options\":null,\"mount_callbacks\":[\"function () {\\n    var handler = (function (ko, koPunches) {\\n    ko.punches.enableAll();\\n    ko.bindingHandlers.numericValue = {\\n        init : function(element, valueAccessor, allBindings, data, context) {\\n            var stringified = ko.observable(ko.unwrap(valueAccessor()));\\n            stringified.subscribe(function(value) {\\n                var val = parseFloat(value);\\n                if (!isNaN(val)) {\\n                    valueAccessor()(val);\\n                }\\n            })\\n            valueAccessor().subscribe(function(value) {\\n                var str = JSON.stringify(value);\\n                if ((str == \\\"0\\\") && ([\\\"-0\\\", \\\"-0.\\\"].indexOf(stringified()) >= 0))\\n                     return;\\n                 if ([\\\"null\\\", \\\"\\\"].indexOf(str) >= 0)\\n                     return;\\n                stringified(str);\\n            })\\n            ko.applyBindingsToNode(element, { value: stringified, valueUpdate: allBindings.get('valueUpdate')}, context);\\n        }\\n    };\\n    var json_data = {\\\"changes\\\":WebIO.getval({\\\"name\\\":\\\"changes\\\",\\\"scope\\\":\\\"knockout-component-6d6ed25e-0206-475c-a6fb-66dbf6112608\\\",\\\"id\\\":\\\"ob_06\\\",\\\"type\\\":\\\"observable\\\"}),\\\"value\\\":WebIO.getval({\\\"name\\\":\\\"value\\\",\\\"scope\\\":\\\"knockout-component-6d6ed25e-0206-475c-a6fb-66dbf6112608\\\",\\\"id\\\":\\\"ob_05\\\",\\\"type\\\":\\\"observable\\\"})};\\n    var self = this;\\n    function AppViewModel() {\\n        for (var key in json_data) {\\n            var el = json_data[key];\\n            this[key] = Array.isArray(el) ? ko.observableArray(el) : ko.observable(el);\\n        }\\n        \\n        \\n        [this[\\\"changes\\\"].subscribe((function (val){!(this.valueFromJulia[\\\"changes\\\"]) ? (WebIO.setval({\\\"name\\\":\\\"changes\\\",\\\"scope\\\":\\\"knockout-component-6d6ed25e-0206-475c-a6fb-66dbf6112608\\\",\\\"id\\\":\\\"ob_06\\\",\\\"type\\\":\\\"observable\\\"},val)) : undefined; return this.valueFromJulia[\\\"changes\\\"]=false}),self),this[\\\"value\\\"].subscribe((function (val){!(this.valueFromJulia[\\\"value\\\"]) ? (WebIO.setval({\\\"name\\\":\\\"value\\\",\\\"scope\\\":\\\"knockout-component-6d6ed25e-0206-475c-a6fb-66dbf6112608\\\",\\\"id\\\":\\\"ob_05\\\",\\\"type\\\":\\\"observable\\\"},val)) : undefined; return this.valueFromJulia[\\\"value\\\"]=false}),self)]\\n        \\n    }\\n    self.model = new AppViewModel();\\n    self.valueFromJulia = {};\\n    for (var key in json_data) {\\n        self.valueFromJulia[key] = false;\\n    }\\n    ko.applyBindings(self.model, self.dom);\\n}\\n);\\n    (WebIO.importBlock({\\\"data\\\":[{\\\"name\\\":\\\"knockout\\\",\\\"type\\\":\\\"js\\\",\\\"url\\\":\\\"\\/assetserver\\/4c46bb451382581706b9774f056ff0eb033730d2-knockout.js\\\"},{\\\"name\\\":\\\"knockout_punches\\\",\\\"type\\\":\\\"js\\\",\\\"url\\\":\\\"\\/assetserver\\/7703eb33282eba33804997c61d1d289632fc7ddf-knockout_punches.js\\\"}],\\\"type\\\":\\\"async_block\\\"})).then((imports) => handler.apply(this, imports));\\n}\\n\"],\"observables\":{\"changes\":{\"sync\":false,\"id\":\"ob_06\",\"value\":0},\"value\":{\"sync\":false,\"id\":\"ob_05\",\"value\":\"\"}}},\"children\":[{\"props\":{\"attributes\":{\"type\":\"text\",\"data-bind\":\"value: value, valueUpdate: 'input', event: {change: function (){this.changes(this.changes()+1)}}\"},\"placeholder\":\"Write here\",\"className\":\"input \",\"style\":{}},\"nodeType\":\"DOM\",\"type\":\"node\",\"instanceArgs\":{\"namespace\":\"html\",\"tag\":\"input\"},\"children\":[]}]}]},\n",
       "            window,\n",
       "        );\n",
       "    } else {\n",
       "        document\n",
       "            .querySelector('[data-webio-mountpoint=\"15605298283834012483\"]')\n",
       "            .innerHTML = '<strong>WebIO not detected.</strong>';\n",
       "    }\n",
       "    </script>\n",
       "</div>\n"
      ],
      "text/plain": [
       "(div { className=\"field interact-widget\" }\n",
       "    (input { attributes=Dict{Any,Any}(:type=>\"text\",Symbol(\"data-bind\")=>\"value: value, valueUpdate: 'input', event: {change: function (){this.changes(this.changes()+1)}}\") placeholder=\"Write here\" className=\"input \" style=Dict{Any,Any}() }))"
      ]
     },
     "metadata": {
      "application/vnd.webio.node+json": {
       "kernelId": "8f0f174b-759f-4edf-93e9-4b71624677ac"
      }
     },
     "output_type": "display_data"
    },
    {
     "data": {
      "application/vnd.webio.node+json": {
       "children": [
        {
         "children": [
          {
           "children": [
            {
             "children": [],
             "instanceArgs": {
              "namespace": "html",
              "tag": "input"
             },
             "nodeType": "DOM",
             "props": {
              "attributes": {
               "data-bind": "value: value, valueUpdate: 'input', event: {change: function (){this.changes(this.changes()+1)}}",
               "list": "##358",
               "type": "text"
              },
              "className": "input ",
              "placeholder": "",
              "style": {}
             },
             "type": "node"
            },
            {
             "children": [
              {
               "children": [],
               "instanceArgs": {
                "namespace": "html",
                "tag": "option"
               },
               "nodeType": "DOM",
               "props": {
                "attributes": {
                 "data-bind": "value : key"
                }
               },
               "type": "node"
              }
             ],
             "instanceArgs": {
              "namespace": "html",
              "tag": "datalist"
             },
             "nodeType": "DOM",
             "props": {
              "attributes": {
               "data-bind": "foreach : options_js",
               "id": "##358"
              }
             },
             "type": "node"
            }
           ],
           "instanceArgs": {
            "namespace": "html",
            "tag": "div"
           },
           "nodeType": "DOM",
           "props": {},
           "type": "node"
          }
         ],
         "instanceArgs": {
          "handlers": {
           "changes": [
            "(function (val){return (val!=this.model[\"changes\"]()) ? (this.valueFromJulia[\"changes\"]=true, this.model[\"changes\"](val)) : undefined})"
           ],
           "options_js": [
            "(function (val){return (val!=this.model[\"options_js\"]()) ? (this.valueFromJulia[\"options_js\"]=true, this.model[\"options_js\"](val)) : undefined})"
           ],
           "value": [
            "(function (val){return (val!=this.model[\"value\"]()) ? (this.valueFromJulia[\"value\"]=true, this.model[\"value\"](val)) : undefined})"
           ]
          },
          "id": "knockout-component-98aea59a-899e-4d44-bb9c-ab89e4a5e316",
          "imports": {
           "data": [
            {
             "name": "knockout",
             "type": "js",
             "url": "/assetserver/4c46bb451382581706b9774f056ff0eb033730d2-knockout.js"
            },
            {
             "name": "knockout_punches",
             "type": "js",
             "url": "/assetserver/7703eb33282eba33804997c61d1d289632fc7ddf-knockout_punches.js"
            },
            {
             "name": null,
             "type": "js",
             "url": "/assetserver/b46e98b31e4234ec0be1ab0b5be2743233171bb9-all.js"
            },
            {
             "name": null,
             "type": "css",
             "url": "/assetserver/80103f9b53fa8b4bb8f8d94b1f5919d03ca2677d-style.css"
            },
            {
             "name": null,
             "type": "css",
             "url": "/assetserver/b795e50c99e3978c5dc2ad8b262026876d96179a-bulma_confined.min.css"
            }
           ],
           "type": "async_block"
          },
          "mount_callbacks": [
           "function () {\n    var handler = (function (ko, koPunches) {\n    ko.punches.enableAll();\n    ko.bindingHandlers.numericValue = {\n        init : function(element, valueAccessor, allBindings, data, context) {\n            var stringified = ko.observable(ko.unwrap(valueAccessor()));\n            stringified.subscribe(function(value) {\n                var val = parseFloat(value);\n                if (!isNaN(val)) {\n                    valueAccessor()(val);\n                }\n            })\n            valueAccessor().subscribe(function(value) {\n                var str = JSON.stringify(value);\n                if ((str == \"0\") && ([\"-0\", \"-0.\"].indexOf(stringified()) >= 0))\n                     return;\n                 if ([\"null\", \"\"].indexOf(str) >= 0)\n                     return;\n                stringified(str);\n            })\n            ko.applyBindingsToNode(element, { value: stringified, valueUpdate: allBindings.get('valueUpdate')}, context);\n        }\n    };\n    var json_data = {\"changes\":WebIO.getval({\"name\":\"changes\",\"scope\":\"knockout-component-98aea59a-899e-4d44-bb9c-ab89e4a5e316\",\"id\":\"ob_10\",\"type\":\"observable\"}),\"value\":WebIO.getval({\"name\":\"value\",\"scope\":\"knockout-component-98aea59a-899e-4d44-bb9c-ab89e4a5e316\",\"id\":\"ob_09\",\"type\":\"observable\"}),\"options_js\":WebIO.getval({\"name\":\"options_js\",\"scope\":\"knockout-component-98aea59a-899e-4d44-bb9c-ab89e4a5e316\",\"id\":\"ob_08\",\"type\":\"observable\"})};\n    var self = this;\n    function AppViewModel() {\n        for (var key in json_data) {\n            var el = json_data[key];\n            this[key] = Array.isArray(el) ? ko.observableArray(el) : ko.observable(el);\n        }\n        \n        \n        [this[\"changes\"].subscribe((function (val){!(this.valueFromJulia[\"changes\"]) ? (WebIO.setval({\"name\":\"changes\",\"scope\":\"knockout-component-98aea59a-899e-4d44-bb9c-ab89e4a5e316\",\"id\":\"ob_10\",\"type\":\"observable\"},val)) : undefined; return this.valueFromJulia[\"changes\"]=false}),self),this[\"value\"].subscribe((function (val){!(this.valueFromJulia[\"value\"]) ? (WebIO.setval({\"name\":\"value\",\"scope\":\"knockout-component-98aea59a-899e-4d44-bb9c-ab89e4a5e316\",\"id\":\"ob_09\",\"type\":\"observable\"},val)) : undefined; return this.valueFromJulia[\"value\"]=false}),self),this[\"options_js\"].subscribe((function (val){!(this.valueFromJulia[\"options_js\"]) ? (WebIO.setval({\"name\":\"options_js\",\"scope\":\"knockout-component-98aea59a-899e-4d44-bb9c-ab89e4a5e316\",\"id\":\"ob_08\",\"type\":\"observable\"},val)) : undefined; return this.valueFromJulia[\"options_js\"]=false}),self)]\n        \n    }\n    self.model = new AppViewModel();\n    self.valueFromJulia = {};\n    for (var key in json_data) {\n        self.valueFromJulia[key] = false;\n    }\n    ko.applyBindings(self.model, self.dom);\n}\n);\n    (WebIO.importBlock({\"data\":[{\"name\":\"knockout\",\"type\":\"js\",\"url\":\"/assetserver/4c46bb451382581706b9774f056ff0eb033730d2-knockout.js\"},{\"name\":\"knockout_punches\",\"type\":\"js\",\"url\":\"/assetserver/7703eb33282eba33804997c61d1d289632fc7ddf-knockout_punches.js\"}],\"type\":\"async_block\"})).then((imports) => handler.apply(this, imports));\n}\n"
          ],
          "observables": {
           "changes": {
            "id": "ob_10",
            "sync": false,
            "value": 0
           },
           "options_js": {
            "id": "ob_08",
            "sync": false,
            "value": [
             {
              "id": "idP3LY8NXh",
              "key": "Mary",
              "val": 1
             },
             {
              "id": "idp10LeuXH",
              "key": "Jane",
              "val": 2
             },
             {
              "id": "idZjiFo0nK",
              "key": "Jack",
              "val": 3
             }
            ]
           },
           "value": {
            "id": "ob_09",
            "sync": false,
            "value": ""
           }
          },
          "systemjs_options": null
         },
         "nodeType": "Scope",
         "props": {},
         "type": "node"
        }
       ],
       "instanceArgs": {
        "namespace": "html",
        "tag": "div"
       },
       "nodeType": "DOM",
       "props": {
        "className": "field interact-widget"
       },
       "type": "node"
      },
      "text/html": [
       "<div\n",
       "    class=\"webio-mountpoint\"\n",
       "    data-webio-mountpoint=\"465950849276267327\"\n",
       ">\n",
       "    <script>\n",
       "    if (window.require && require.defined && require.defined(\"nbextensions/webio/main\")) {\n",
       "        console.log(\"Jupyter WebIO extension detected, not mounting.\");\n",
       "    } else if (window.WebIO) {\n",
       "        WebIO.mount(\n",
       "            document.querySelector('[data-webio-mountpoint=\"465950849276267327\"]'),\n",
       "            {\"props\":{\"className\":\"field interact-widget\"},\"nodeType\":\"DOM\",\"type\":\"node\",\"instanceArgs\":{\"namespace\":\"html\",\"tag\":\"div\"},\"children\":[{\"props\":{},\"nodeType\":\"Scope\",\"type\":\"node\",\"instanceArgs\":{\"imports\":{\"data\":[{\"name\":\"knockout\",\"type\":\"js\",\"url\":\"\\/assetserver\\/4c46bb451382581706b9774f056ff0eb033730d2-knockout.js\"},{\"name\":\"knockout_punches\",\"type\":\"js\",\"url\":\"\\/assetserver\\/7703eb33282eba33804997c61d1d289632fc7ddf-knockout_punches.js\"},{\"name\":null,\"type\":\"js\",\"url\":\"\\/assetserver\\/b46e98b31e4234ec0be1ab0b5be2743233171bb9-all.js\"},{\"name\":null,\"type\":\"css\",\"url\":\"\\/assetserver\\/80103f9b53fa8b4bb8f8d94b1f5919d03ca2677d-style.css\"},{\"name\":null,\"type\":\"css\",\"url\":\"\\/assetserver\\/b795e50c99e3978c5dc2ad8b262026876d96179a-bulma_confined.min.css\"}],\"type\":\"async_block\"},\"id\":\"knockout-component-98aea59a-899e-4d44-bb9c-ab89e4a5e316\",\"handlers\":{\"changes\":[\"(function (val){return (val!=this.model[\\\"changes\\\"]()) ? (this.valueFromJulia[\\\"changes\\\"]=true, this.model[\\\"changes\\\"](val)) : undefined})\"],\"value\":[\"(function (val){return (val!=this.model[\\\"value\\\"]()) ? (this.valueFromJulia[\\\"value\\\"]=true, this.model[\\\"value\\\"](val)) : undefined})\"],\"options_js\":[\"(function (val){return (val!=this.model[\\\"options_js\\\"]()) ? (this.valueFromJulia[\\\"options_js\\\"]=true, this.model[\\\"options_js\\\"](val)) : undefined})\"]},\"systemjs_options\":null,\"mount_callbacks\":[\"function () {\\n    var handler = (function (ko, koPunches) {\\n    ko.punches.enableAll();\\n    ko.bindingHandlers.numericValue = {\\n        init : function(element, valueAccessor, allBindings, data, context) {\\n            var stringified = ko.observable(ko.unwrap(valueAccessor()));\\n            stringified.subscribe(function(value) {\\n                var val = parseFloat(value);\\n                if (!isNaN(val)) {\\n                    valueAccessor()(val);\\n                }\\n            })\\n            valueAccessor().subscribe(function(value) {\\n                var str = JSON.stringify(value);\\n                if ((str == \\\"0\\\") && ([\\\"-0\\\", \\\"-0.\\\"].indexOf(stringified()) >= 0))\\n                     return;\\n                 if ([\\\"null\\\", \\\"\\\"].indexOf(str) >= 0)\\n                     return;\\n                stringified(str);\\n            })\\n            ko.applyBindingsToNode(element, { value: stringified, valueUpdate: allBindings.get('valueUpdate')}, context);\\n        }\\n    };\\n    var json_data = {\\\"changes\\\":WebIO.getval({\\\"name\\\":\\\"changes\\\",\\\"scope\\\":\\\"knockout-component-98aea59a-899e-4d44-bb9c-ab89e4a5e316\\\",\\\"id\\\":\\\"ob_10\\\",\\\"type\\\":\\\"observable\\\"}),\\\"value\\\":WebIO.getval({\\\"name\\\":\\\"value\\\",\\\"scope\\\":\\\"knockout-component-98aea59a-899e-4d44-bb9c-ab89e4a5e316\\\",\\\"id\\\":\\\"ob_09\\\",\\\"type\\\":\\\"observable\\\"}),\\\"options_js\\\":WebIO.getval({\\\"name\\\":\\\"options_js\\\",\\\"scope\\\":\\\"knockout-component-98aea59a-899e-4d44-bb9c-ab89e4a5e316\\\",\\\"id\\\":\\\"ob_08\\\",\\\"type\\\":\\\"observable\\\"})};\\n    var self = this;\\n    function AppViewModel() {\\n        for (var key in json_data) {\\n            var el = json_data[key];\\n            this[key] = Array.isArray(el) ? ko.observableArray(el) : ko.observable(el);\\n        }\\n        \\n        \\n        [this[\\\"changes\\\"].subscribe((function (val){!(this.valueFromJulia[\\\"changes\\\"]) ? (WebIO.setval({\\\"name\\\":\\\"changes\\\",\\\"scope\\\":\\\"knockout-component-98aea59a-899e-4d44-bb9c-ab89e4a5e316\\\",\\\"id\\\":\\\"ob_10\\\",\\\"type\\\":\\\"observable\\\"},val)) : undefined; return this.valueFromJulia[\\\"changes\\\"]=false}),self),this[\\\"value\\\"].subscribe((function (val){!(this.valueFromJulia[\\\"value\\\"]) ? (WebIO.setval({\\\"name\\\":\\\"value\\\",\\\"scope\\\":\\\"knockout-component-98aea59a-899e-4d44-bb9c-ab89e4a5e316\\\",\\\"id\\\":\\\"ob_09\\\",\\\"type\\\":\\\"observable\\\"},val)) : undefined; return this.valueFromJulia[\\\"value\\\"]=false}),self),this[\\\"options_js\\\"].subscribe((function (val){!(this.valueFromJulia[\\\"options_js\\\"]) ? (WebIO.setval({\\\"name\\\":\\\"options_js\\\",\\\"scope\\\":\\\"knockout-component-98aea59a-899e-4d44-bb9c-ab89e4a5e316\\\",\\\"id\\\":\\\"ob_08\\\",\\\"type\\\":\\\"observable\\\"},val)) : undefined; return this.valueFromJulia[\\\"options_js\\\"]=false}),self)]\\n        \\n    }\\n    self.model = new AppViewModel();\\n    self.valueFromJulia = {};\\n    for (var key in json_data) {\\n        self.valueFromJulia[key] = false;\\n    }\\n    ko.applyBindings(self.model, self.dom);\\n}\\n);\\n    (WebIO.importBlock({\\\"data\\\":[{\\\"name\\\":\\\"knockout\\\",\\\"type\\\":\\\"js\\\",\\\"url\\\":\\\"\\/assetserver\\/4c46bb451382581706b9774f056ff0eb033730d2-knockout.js\\\"},{\\\"name\\\":\\\"knockout_punches\\\",\\\"type\\\":\\\"js\\\",\\\"url\\\":\\\"\\/assetserver\\/7703eb33282eba33804997c61d1d289632fc7ddf-knockout_punches.js\\\"}],\\\"type\\\":\\\"async_block\\\"})).then((imports) => handler.apply(this, imports));\\n}\\n\"],\"observables\":{\"changes\":{\"sync\":false,\"id\":\"ob_10\",\"value\":0},\"value\":{\"sync\":false,\"id\":\"ob_09\",\"value\":\"\"},\"options_js\":{\"sync\":false,\"id\":\"ob_08\",\"value\":[{\"key\":\"Mary\",\"val\":1,\"id\":\"idP3LY8NXh\"},{\"key\":\"Jane\",\"val\":2,\"id\":\"idp10LeuXH\"},{\"key\":\"Jack\",\"val\":3,\"id\":\"idZjiFo0nK\"}]}}},\"children\":[{\"props\":{},\"nodeType\":\"DOM\",\"type\":\"node\",\"instanceArgs\":{\"namespace\":\"html\",\"tag\":\"div\"},\"children\":[{\"props\":{\"attributes\":{\"list\":\"##358\",\"type\":\"text\",\"data-bind\":\"value: value, valueUpdate: 'input', event: {change: function (){this.changes(this.changes()+1)}}\"},\"placeholder\":\"\",\"className\":\"input \",\"style\":{}},\"nodeType\":\"DOM\",\"type\":\"node\",\"instanceArgs\":{\"namespace\":\"html\",\"tag\":\"input\"},\"children\":[]},{\"props\":{\"attributes\":{\"id\":\"##358\",\"data-bind\":\"foreach : options_js\"}},\"nodeType\":\"DOM\",\"type\":\"node\",\"instanceArgs\":{\"namespace\":\"html\",\"tag\":\"datalist\"},\"children\":[{\"props\":{\"attributes\":{\"data-bind\":\"value : key\"}},\"nodeType\":\"DOM\",\"type\":\"node\",\"instanceArgs\":{\"namespace\":\"html\",\"tag\":\"option\"},\"children\":[]}]}]}]}]},\n",
       "            window,\n",
       "        );\n",
       "    } else {\n",
       "        document\n",
       "            .querySelector('[data-webio-mountpoint=\"465950849276267327\"]')\n",
       "            .innerHTML = '<strong>WebIO not detected.</strong>';\n",
       "    }\n",
       "    </script>\n",
       "</div>\n"
      ],
      "text/plain": [
       "(div { className=\"field interact-widget\" }\n",
       "    (div\n",
       "    (input { attributes=Dict{Union{String, Symbol},Any}(:list=>Symbol(\"##358\"),:type=>\"text\",Symbol(\"data-bind\")=>\"value: value, valueUpdate: 'input', event: {change: function (){this.changes(this.changes()+1)}}\") placeholder=\"\" className=\"input \" style=Dict{Any,Any}() })\n",
       "    (datalist { attributes=Dict{String,Any}(\"id\"=>Symbol(\"##358\"),\"data-bind\"=>\"foreach : options_js\") }\n",
       "      (option { attributes=Dict(\"data-bind\"=>\"value : key\") }))))"
      ]
     },
     "metadata": {
      "application/vnd.webio.node+json": {
       "kernelId": "8f0f174b-759f-4edf-93e9-4b71624677ac"
      }
     },
     "output_type": "display_data"
    },
    {
     "data": {
      "application/vnd.webio.node+json": {
       "children": [
        {
         "children": [
          {
           "children": [
            {
             "children": [],
             "instanceArgs": {
              "namespace": "html",
              "tag": "input"
             },
             "nodeType": "DOM",
             "props": {
              "attributes": {
               "data-bind": "checked: value, valueUpdate: 'change', event: {change: function (){this.changes(this.changes()+1)}}",
               "type": "checkbox"
              },
              "className": "is-checkradio ",
              "id": "##359",
              "style": {}
             },
             "type": "node"
            },
            {
             "children": [
              "Check me!"
             ],
             "instanceArgs": {
              "namespace": "html",
              "tag": "label"
             },
             "nodeType": "DOM",
             "props": {
              "attributes": {
               "className": "",
               "for": "##359"
              }
             },
             "type": "node"
            }
           ],
           "instanceArgs": {
            "namespace": "html",
            "tag": "div"
           },
           "nodeType": "DOM",
           "props": {
            "className": "field interact-widget"
           },
           "type": "node"
          }
         ],
         "instanceArgs": {
          "handlers": {
           "changes": [
            "(function (val){return (val!=this.model[\"changes\"]()) ? (this.valueFromJulia[\"changes\"]=true, this.model[\"changes\"](val)) : undefined})"
           ],
           "value": [
            "(function (val){return (val!=this.model[\"value\"]()) ? (this.valueFromJulia[\"value\"]=true, this.model[\"value\"](val)) : undefined})"
           ]
          },
          "id": "knockout-component-54cdb936-7155-4149-b773-dda01e757ced",
          "imports": {
           "data": [
            {
             "name": "knockout",
             "type": "js",
             "url": "/assetserver/4c46bb451382581706b9774f056ff0eb033730d2-knockout.js"
            },
            {
             "name": "knockout_punches",
             "type": "js",
             "url": "/assetserver/7703eb33282eba33804997c61d1d289632fc7ddf-knockout_punches.js"
            },
            {
             "name": null,
             "type": "js",
             "url": "/assetserver/b46e98b31e4234ec0be1ab0b5be2743233171bb9-all.js"
            },
            {
             "name": null,
             "type": "css",
             "url": "/assetserver/80103f9b53fa8b4bb8f8d94b1f5919d03ca2677d-style.css"
            },
            {
             "name": null,
             "type": "css",
             "url": "/assetserver/b795e50c99e3978c5dc2ad8b262026876d96179a-bulma_confined.min.css"
            }
           ],
           "type": "async_block"
          },
          "mount_callbacks": [
           "function () {\n    var handler = (function (ko, koPunches) {\n    ko.punches.enableAll();\n    ko.bindingHandlers.numericValue = {\n        init : function(element, valueAccessor, allBindings, data, context) {\n            var stringified = ko.observable(ko.unwrap(valueAccessor()));\n            stringified.subscribe(function(value) {\n                var val = parseFloat(value);\n                if (!isNaN(val)) {\n                    valueAccessor()(val);\n                }\n            })\n            valueAccessor().subscribe(function(value) {\n                var str = JSON.stringify(value);\n                if ((str == \"0\") && ([\"-0\", \"-0.\"].indexOf(stringified()) >= 0))\n                     return;\n                 if ([\"null\", \"\"].indexOf(str) >= 0)\n                     return;\n                stringified(str);\n            })\n            ko.applyBindingsToNode(element, { value: stringified, valueUpdate: allBindings.get('valueUpdate')}, context);\n        }\n    };\n    var json_data = {\"changes\":WebIO.getval({\"name\":\"changes\",\"scope\":\"knockout-component-54cdb936-7155-4149-b773-dda01e757ced\",\"id\":\"ob_12\",\"type\":\"observable\"}),\"value\":WebIO.getval({\"name\":\"value\",\"scope\":\"knockout-component-54cdb936-7155-4149-b773-dda01e757ced\",\"id\":\"ob_11\",\"type\":\"observable\"})};\n    var self = this;\n    function AppViewModel() {\n        for (var key in json_data) {\n            var el = json_data[key];\n            this[key] = Array.isArray(el) ? ko.observableArray(el) : ko.observable(el);\n        }\n        \n        \n        [this[\"changes\"].subscribe((function (val){!(this.valueFromJulia[\"changes\"]) ? (WebIO.setval({\"name\":\"changes\",\"scope\":\"knockout-component-54cdb936-7155-4149-b773-dda01e757ced\",\"id\":\"ob_12\",\"type\":\"observable\"},val)) : undefined; return this.valueFromJulia[\"changes\"]=false}),self),this[\"value\"].subscribe((function (val){!(this.valueFromJulia[\"value\"]) ? (WebIO.setval({\"name\":\"value\",\"scope\":\"knockout-component-54cdb936-7155-4149-b773-dda01e757ced\",\"id\":\"ob_11\",\"type\":\"observable\"},val)) : undefined; return this.valueFromJulia[\"value\"]=false}),self)]\n        \n    }\n    self.model = new AppViewModel();\n    self.valueFromJulia = {};\n    for (var key in json_data) {\n        self.valueFromJulia[key] = false;\n    }\n    ko.applyBindings(self.model, self.dom);\n}\n);\n    (WebIO.importBlock({\"data\":[{\"name\":\"knockout\",\"type\":\"js\",\"url\":\"/assetserver/4c46bb451382581706b9774f056ff0eb033730d2-knockout.js\"},{\"name\":\"knockout_punches\",\"type\":\"js\",\"url\":\"/assetserver/7703eb33282eba33804997c61d1d289632fc7ddf-knockout_punches.js\"}],\"type\":\"async_block\"})).then((imports) => handler.apply(this, imports));\n}\n"
          ],
          "observables": {
           "changes": {
            "id": "ob_12",
            "sync": false,
            "value": 0
           },
           "value": {
            "id": "ob_11",
            "sync": false,
            "value": false
           }
          },
          "systemjs_options": null
         },
         "nodeType": "Scope",
         "props": {},
         "type": "node"
        }
       ],
       "instanceArgs": {
        "namespace": "html",
        "tag": "div"
       },
       "nodeType": "DOM",
       "props": {
        "className": "field interact-widget"
       },
       "type": "node"
      },
      "text/html": [
       "<div\n",
       "    class=\"webio-mountpoint\"\n",
       "    data-webio-mountpoint=\"17406918235041008486\"\n",
       ">\n",
       "    <script>\n",
       "    if (window.require && require.defined && require.defined(\"nbextensions/webio/main\")) {\n",
       "        console.log(\"Jupyter WebIO extension detected, not mounting.\");\n",
       "    } else if (window.WebIO) {\n",
       "        WebIO.mount(\n",
       "            document.querySelector('[data-webio-mountpoint=\"17406918235041008486\"]'),\n",
       "            {\"props\":{\"className\":\"field interact-widget\"},\"nodeType\":\"DOM\",\"type\":\"node\",\"instanceArgs\":{\"namespace\":\"html\",\"tag\":\"div\"},\"children\":[{\"props\":{},\"nodeType\":\"Scope\",\"type\":\"node\",\"instanceArgs\":{\"imports\":{\"data\":[{\"name\":\"knockout\",\"type\":\"js\",\"url\":\"\\/assetserver\\/4c46bb451382581706b9774f056ff0eb033730d2-knockout.js\"},{\"name\":\"knockout_punches\",\"type\":\"js\",\"url\":\"\\/assetserver\\/7703eb33282eba33804997c61d1d289632fc7ddf-knockout_punches.js\"},{\"name\":null,\"type\":\"js\",\"url\":\"\\/assetserver\\/b46e98b31e4234ec0be1ab0b5be2743233171bb9-all.js\"},{\"name\":null,\"type\":\"css\",\"url\":\"\\/assetserver\\/80103f9b53fa8b4bb8f8d94b1f5919d03ca2677d-style.css\"},{\"name\":null,\"type\":\"css\",\"url\":\"\\/assetserver\\/b795e50c99e3978c5dc2ad8b262026876d96179a-bulma_confined.min.css\"}],\"type\":\"async_block\"},\"id\":\"knockout-component-54cdb936-7155-4149-b773-dda01e757ced\",\"handlers\":{\"changes\":[\"(function (val){return (val!=this.model[\\\"changes\\\"]()) ? (this.valueFromJulia[\\\"changes\\\"]=true, this.model[\\\"changes\\\"](val)) : undefined})\"],\"value\":[\"(function (val){return (val!=this.model[\\\"value\\\"]()) ? (this.valueFromJulia[\\\"value\\\"]=true, this.model[\\\"value\\\"](val)) : undefined})\"]},\"systemjs_options\":null,\"mount_callbacks\":[\"function () {\\n    var handler = (function (ko, koPunches) {\\n    ko.punches.enableAll();\\n    ko.bindingHandlers.numericValue = {\\n        init : function(element, valueAccessor, allBindings, data, context) {\\n            var stringified = ko.observable(ko.unwrap(valueAccessor()));\\n            stringified.subscribe(function(value) {\\n                var val = parseFloat(value);\\n                if (!isNaN(val)) {\\n                    valueAccessor()(val);\\n                }\\n            })\\n            valueAccessor().subscribe(function(value) {\\n                var str = JSON.stringify(value);\\n                if ((str == \\\"0\\\") && ([\\\"-0\\\", \\\"-0.\\\"].indexOf(stringified()) >= 0))\\n                     return;\\n                 if ([\\\"null\\\", \\\"\\\"].indexOf(str) >= 0)\\n                     return;\\n                stringified(str);\\n            })\\n            ko.applyBindingsToNode(element, { value: stringified, valueUpdate: allBindings.get('valueUpdate')}, context);\\n        }\\n    };\\n    var json_data = {\\\"changes\\\":WebIO.getval({\\\"name\\\":\\\"changes\\\",\\\"scope\\\":\\\"knockout-component-54cdb936-7155-4149-b773-dda01e757ced\\\",\\\"id\\\":\\\"ob_12\\\",\\\"type\\\":\\\"observable\\\"}),\\\"value\\\":WebIO.getval({\\\"name\\\":\\\"value\\\",\\\"scope\\\":\\\"knockout-component-54cdb936-7155-4149-b773-dda01e757ced\\\",\\\"id\\\":\\\"ob_11\\\",\\\"type\\\":\\\"observable\\\"})};\\n    var self = this;\\n    function AppViewModel() {\\n        for (var key in json_data) {\\n            var el = json_data[key];\\n            this[key] = Array.isArray(el) ? ko.observableArray(el) : ko.observable(el);\\n        }\\n        \\n        \\n        [this[\\\"changes\\\"].subscribe((function (val){!(this.valueFromJulia[\\\"changes\\\"]) ? (WebIO.setval({\\\"name\\\":\\\"changes\\\",\\\"scope\\\":\\\"knockout-component-54cdb936-7155-4149-b773-dda01e757ced\\\",\\\"id\\\":\\\"ob_12\\\",\\\"type\\\":\\\"observable\\\"},val)) : undefined; return this.valueFromJulia[\\\"changes\\\"]=false}),self),this[\\\"value\\\"].subscribe((function (val){!(this.valueFromJulia[\\\"value\\\"]) ? (WebIO.setval({\\\"name\\\":\\\"value\\\",\\\"scope\\\":\\\"knockout-component-54cdb936-7155-4149-b773-dda01e757ced\\\",\\\"id\\\":\\\"ob_11\\\",\\\"type\\\":\\\"observable\\\"},val)) : undefined; return this.valueFromJulia[\\\"value\\\"]=false}),self)]\\n        \\n    }\\n    self.model = new AppViewModel();\\n    self.valueFromJulia = {};\\n    for (var key in json_data) {\\n        self.valueFromJulia[key] = false;\\n    }\\n    ko.applyBindings(self.model, self.dom);\\n}\\n);\\n    (WebIO.importBlock({\\\"data\\\":[{\\\"name\\\":\\\"knockout\\\",\\\"type\\\":\\\"js\\\",\\\"url\\\":\\\"\\/assetserver\\/4c46bb451382581706b9774f056ff0eb033730d2-knockout.js\\\"},{\\\"name\\\":\\\"knockout_punches\\\",\\\"type\\\":\\\"js\\\",\\\"url\\\":\\\"\\/assetserver\\/7703eb33282eba33804997c61d1d289632fc7ddf-knockout_punches.js\\\"}],\\\"type\\\":\\\"async_block\\\"})).then((imports) => handler.apply(this, imports));\\n}\\n\"],\"observables\":{\"changes\":{\"sync\":false,\"id\":\"ob_12\",\"value\":0},\"value\":{\"sync\":false,\"id\":\"ob_11\",\"value\":false}}},\"children\":[{\"props\":{\"className\":\"field interact-widget\"},\"nodeType\":\"DOM\",\"type\":\"node\",\"instanceArgs\":{\"namespace\":\"html\",\"tag\":\"div\"},\"children\":[{\"props\":{\"attributes\":{\"type\":\"checkbox\",\"data-bind\":\"checked: value, valueUpdate: 'change', event: {change: function (){this.changes(this.changes()+1)}}\"},\"id\":\"##359\",\"className\":\"is-checkradio \",\"style\":{}},\"nodeType\":\"DOM\",\"type\":\"node\",\"instanceArgs\":{\"namespace\":\"html\",\"tag\":\"input\"},\"children\":[]},{\"props\":{\"attributes\":{\"className\":\"\",\"for\":\"##359\"}},\"nodeType\":\"DOM\",\"type\":\"node\",\"instanceArgs\":{\"namespace\":\"html\",\"tag\":\"label\"},\"children\":[\"Check me!\"]}]}]}]},\n",
       "            window,\n",
       "        );\n",
       "    } else {\n",
       "        document\n",
       "            .querySelector('[data-webio-mountpoint=\"17406918235041008486\"]')\n",
       "            .innerHTML = '<strong>WebIO not detected.</strong>';\n",
       "    }\n",
       "    </script>\n",
       "</div>\n"
      ],
      "text/plain": [
       "(div { className=\"field interact-widget\" }\n",
       "    (div { className=\"field interact-widget\" }\n",
       "    (input { attributes=Dict{Any,Any}(:type=>\"checkbox\",Symbol(\"data-bind\")=>\"checked: value, valueUpdate: 'change', event: {change: function (){this.changes(this.changes()+1)}}\") id=\"##359\" className=\"is-checkradio \" style=Dict{Any,Any}() })\n",
       "    (label { attributes=Dict(\"className\"=>\"\",\"for\"=>\"##359\") }\n",
       "      \"Check me!\")))"
      ]
     },
     "metadata": {
      "application/vnd.webio.node+json": {
       "kernelId": "8f0f174b-759f-4edf-93e9-4b71624677ac"
      }
     },
     "output_type": "display_data"
    },
    {
     "data": {
      "application/vnd.webio.node+json": {
       "children": [
        {
         "children": [
          {
           "children": [
            {
             "children": [],
             "instanceArgs": {
              "namespace": "html",
              "tag": "input"
             },
             "nodeType": "DOM",
             "props": {
              "attributes": {
               "data-bind": "checked: value, valueUpdate: 'change', event: {change: function (){this.changes(this.changes()+1)}}",
               "type": "checkbox"
              },
              "className": "switch ",
              "id": "##360",
              "style": {}
             },
             "type": "node"
            },
            {
             "children": [
              "I have read and agreed"
             ],
             "instanceArgs": {
              "namespace": "html",
              "tag": "label"
             },
             "nodeType": "DOM",
             "props": {
              "attributes": {
               "className": "",
               "for": "##360"
              }
             },
             "type": "node"
            }
           ],
           "instanceArgs": {
            "namespace": "html",
            "tag": "div"
           },
           "nodeType": "DOM",
           "props": {
            "className": "field interact-widget"
           },
           "type": "node"
          }
         ],
         "instanceArgs": {
          "handlers": {
           "changes": [
            "(function (val){return (val!=this.model[\"changes\"]()) ? (this.valueFromJulia[\"changes\"]=true, this.model[\"changes\"](val)) : undefined})"
           ],
           "value": [
            "(function (val){return (val!=this.model[\"value\"]()) ? (this.valueFromJulia[\"value\"]=true, this.model[\"value\"](val)) : undefined})"
           ]
          },
          "id": "knockout-component-ea5105d3-05a6-47dd-a46d-0f9c41e883e9",
          "imports": {
           "data": [
            {
             "name": "knockout",
             "type": "js",
             "url": "/assetserver/4c46bb451382581706b9774f056ff0eb033730d2-knockout.js"
            },
            {
             "name": "knockout_punches",
             "type": "js",
             "url": "/assetserver/7703eb33282eba33804997c61d1d289632fc7ddf-knockout_punches.js"
            },
            {
             "name": null,
             "type": "js",
             "url": "/assetserver/b46e98b31e4234ec0be1ab0b5be2743233171bb9-all.js"
            },
            {
             "name": null,
             "type": "css",
             "url": "/assetserver/80103f9b53fa8b4bb8f8d94b1f5919d03ca2677d-style.css"
            },
            {
             "name": null,
             "type": "css",
             "url": "/assetserver/b795e50c99e3978c5dc2ad8b262026876d96179a-bulma_confined.min.css"
            }
           ],
           "type": "async_block"
          },
          "mount_callbacks": [
           "function () {\n    var handler = (function (ko, koPunches) {\n    ko.punches.enableAll();\n    ko.bindingHandlers.numericValue = {\n        init : function(element, valueAccessor, allBindings, data, context) {\n            var stringified = ko.observable(ko.unwrap(valueAccessor()));\n            stringified.subscribe(function(value) {\n                var val = parseFloat(value);\n                if (!isNaN(val)) {\n                    valueAccessor()(val);\n                }\n            })\n            valueAccessor().subscribe(function(value) {\n                var str = JSON.stringify(value);\n                if ((str == \"0\") && ([\"-0\", \"-0.\"].indexOf(stringified()) >= 0))\n                     return;\n                 if ([\"null\", \"\"].indexOf(str) >= 0)\n                     return;\n                stringified(str);\n            })\n            ko.applyBindingsToNode(element, { value: stringified, valueUpdate: allBindings.get('valueUpdate')}, context);\n        }\n    };\n    var json_data = {\"changes\":WebIO.getval({\"name\":\"changes\",\"scope\":\"knockout-component-ea5105d3-05a6-47dd-a46d-0f9c41e883e9\",\"id\":\"ob_14\",\"type\":\"observable\"}),\"value\":WebIO.getval({\"name\":\"value\",\"scope\":\"knockout-component-ea5105d3-05a6-47dd-a46d-0f9c41e883e9\",\"id\":\"ob_13\",\"type\":\"observable\"})};\n    var self = this;\n    function AppViewModel() {\n        for (var key in json_data) {\n            var el = json_data[key];\n            this[key] = Array.isArray(el) ? ko.observableArray(el) : ko.observable(el);\n        }\n        \n        \n        [this[\"changes\"].subscribe((function (val){!(this.valueFromJulia[\"changes\"]) ? (WebIO.setval({\"name\":\"changes\",\"scope\":\"knockout-component-ea5105d3-05a6-47dd-a46d-0f9c41e883e9\",\"id\":\"ob_14\",\"type\":\"observable\"},val)) : undefined; return this.valueFromJulia[\"changes\"]=false}),self),this[\"value\"].subscribe((function (val){!(this.valueFromJulia[\"value\"]) ? (WebIO.setval({\"name\":\"value\",\"scope\":\"knockout-component-ea5105d3-05a6-47dd-a46d-0f9c41e883e9\",\"id\":\"ob_13\",\"type\":\"observable\"},val)) : undefined; return this.valueFromJulia[\"value\"]=false}),self)]\n        \n    }\n    self.model = new AppViewModel();\n    self.valueFromJulia = {};\n    for (var key in json_data) {\n        self.valueFromJulia[key] = false;\n    }\n    ko.applyBindings(self.model, self.dom);\n}\n);\n    (WebIO.importBlock({\"data\":[{\"name\":\"knockout\",\"type\":\"js\",\"url\":\"/assetserver/4c46bb451382581706b9774f056ff0eb033730d2-knockout.js\"},{\"name\":\"knockout_punches\",\"type\":\"js\",\"url\":\"/assetserver/7703eb33282eba33804997c61d1d289632fc7ddf-knockout_punches.js\"}],\"type\":\"async_block\"})).then((imports) => handler.apply(this, imports));\n}\n"
          ],
          "observables": {
           "changes": {
            "id": "ob_14",
            "sync": false,
            "value": 0
           },
           "value": {
            "id": "ob_13",
            "sync": false,
            "value": false
           }
          },
          "systemjs_options": null
         },
         "nodeType": "Scope",
         "props": {},
         "type": "node"
        }
       ],
       "instanceArgs": {
        "namespace": "html",
        "tag": "div"
       },
       "nodeType": "DOM",
       "props": {
        "className": "field interact-widget"
       },
       "type": "node"
      },
      "text/html": [
       "<div\n",
       "    class=\"webio-mountpoint\"\n",
       "    data-webio-mountpoint=\"7455372298578494150\"\n",
       ">\n",
       "    <script>\n",
       "    if (window.require && require.defined && require.defined(\"nbextensions/webio/main\")) {\n",
       "        console.log(\"Jupyter WebIO extension detected, not mounting.\");\n",
       "    } else if (window.WebIO) {\n",
       "        WebIO.mount(\n",
       "            document.querySelector('[data-webio-mountpoint=\"7455372298578494150\"]'),\n",
       "            {\"props\":{\"className\":\"field interact-widget\"},\"nodeType\":\"DOM\",\"type\":\"node\",\"instanceArgs\":{\"namespace\":\"html\",\"tag\":\"div\"},\"children\":[{\"props\":{},\"nodeType\":\"Scope\",\"type\":\"node\",\"instanceArgs\":{\"imports\":{\"data\":[{\"name\":\"knockout\",\"type\":\"js\",\"url\":\"\\/assetserver\\/4c46bb451382581706b9774f056ff0eb033730d2-knockout.js\"},{\"name\":\"knockout_punches\",\"type\":\"js\",\"url\":\"\\/assetserver\\/7703eb33282eba33804997c61d1d289632fc7ddf-knockout_punches.js\"},{\"name\":null,\"type\":\"js\",\"url\":\"\\/assetserver\\/b46e98b31e4234ec0be1ab0b5be2743233171bb9-all.js\"},{\"name\":null,\"type\":\"css\",\"url\":\"\\/assetserver\\/80103f9b53fa8b4bb8f8d94b1f5919d03ca2677d-style.css\"},{\"name\":null,\"type\":\"css\",\"url\":\"\\/assetserver\\/b795e50c99e3978c5dc2ad8b262026876d96179a-bulma_confined.min.css\"}],\"type\":\"async_block\"},\"id\":\"knockout-component-ea5105d3-05a6-47dd-a46d-0f9c41e883e9\",\"handlers\":{\"changes\":[\"(function (val){return (val!=this.model[\\\"changes\\\"]()) ? (this.valueFromJulia[\\\"changes\\\"]=true, this.model[\\\"changes\\\"](val)) : undefined})\"],\"value\":[\"(function (val){return (val!=this.model[\\\"value\\\"]()) ? (this.valueFromJulia[\\\"value\\\"]=true, this.model[\\\"value\\\"](val)) : undefined})\"]},\"systemjs_options\":null,\"mount_callbacks\":[\"function () {\\n    var handler = (function (ko, koPunches) {\\n    ko.punches.enableAll();\\n    ko.bindingHandlers.numericValue = {\\n        init : function(element, valueAccessor, allBindings, data, context) {\\n            var stringified = ko.observable(ko.unwrap(valueAccessor()));\\n            stringified.subscribe(function(value) {\\n                var val = parseFloat(value);\\n                if (!isNaN(val)) {\\n                    valueAccessor()(val);\\n                }\\n            })\\n            valueAccessor().subscribe(function(value) {\\n                var str = JSON.stringify(value);\\n                if ((str == \\\"0\\\") && ([\\\"-0\\\", \\\"-0.\\\"].indexOf(stringified()) >= 0))\\n                     return;\\n                 if ([\\\"null\\\", \\\"\\\"].indexOf(str) >= 0)\\n                     return;\\n                stringified(str);\\n            })\\n            ko.applyBindingsToNode(element, { value: stringified, valueUpdate: allBindings.get('valueUpdate')}, context);\\n        }\\n    };\\n    var json_data = {\\\"changes\\\":WebIO.getval({\\\"name\\\":\\\"changes\\\",\\\"scope\\\":\\\"knockout-component-ea5105d3-05a6-47dd-a46d-0f9c41e883e9\\\",\\\"id\\\":\\\"ob_14\\\",\\\"type\\\":\\\"observable\\\"}),\\\"value\\\":WebIO.getval({\\\"name\\\":\\\"value\\\",\\\"scope\\\":\\\"knockout-component-ea5105d3-05a6-47dd-a46d-0f9c41e883e9\\\",\\\"id\\\":\\\"ob_13\\\",\\\"type\\\":\\\"observable\\\"})};\\n    var self = this;\\n    function AppViewModel() {\\n        for (var key in json_data) {\\n            var el = json_data[key];\\n            this[key] = Array.isArray(el) ? ko.observableArray(el) : ko.observable(el);\\n        }\\n        \\n        \\n        [this[\\\"changes\\\"].subscribe((function (val){!(this.valueFromJulia[\\\"changes\\\"]) ? (WebIO.setval({\\\"name\\\":\\\"changes\\\",\\\"scope\\\":\\\"knockout-component-ea5105d3-05a6-47dd-a46d-0f9c41e883e9\\\",\\\"id\\\":\\\"ob_14\\\",\\\"type\\\":\\\"observable\\\"},val)) : undefined; return this.valueFromJulia[\\\"changes\\\"]=false}),self),this[\\\"value\\\"].subscribe((function (val){!(this.valueFromJulia[\\\"value\\\"]) ? (WebIO.setval({\\\"name\\\":\\\"value\\\",\\\"scope\\\":\\\"knockout-component-ea5105d3-05a6-47dd-a46d-0f9c41e883e9\\\",\\\"id\\\":\\\"ob_13\\\",\\\"type\\\":\\\"observable\\\"},val)) : undefined; return this.valueFromJulia[\\\"value\\\"]=false}),self)]\\n        \\n    }\\n    self.model = new AppViewModel();\\n    self.valueFromJulia = {};\\n    for (var key in json_data) {\\n        self.valueFromJulia[key] = false;\\n    }\\n    ko.applyBindings(self.model, self.dom);\\n}\\n);\\n    (WebIO.importBlock({\\\"data\\\":[{\\\"name\\\":\\\"knockout\\\",\\\"type\\\":\\\"js\\\",\\\"url\\\":\\\"\\/assetserver\\/4c46bb451382581706b9774f056ff0eb033730d2-knockout.js\\\"},{\\\"name\\\":\\\"knockout_punches\\\",\\\"type\\\":\\\"js\\\",\\\"url\\\":\\\"\\/assetserver\\/7703eb33282eba33804997c61d1d289632fc7ddf-knockout_punches.js\\\"}],\\\"type\\\":\\\"async_block\\\"})).then((imports) => handler.apply(this, imports));\\n}\\n\"],\"observables\":{\"changes\":{\"sync\":false,\"id\":\"ob_14\",\"value\":0},\"value\":{\"sync\":false,\"id\":\"ob_13\",\"value\":false}}},\"children\":[{\"props\":{\"className\":\"field interact-widget\"},\"nodeType\":\"DOM\",\"type\":\"node\",\"instanceArgs\":{\"namespace\":\"html\",\"tag\":\"div\"},\"children\":[{\"props\":{\"attributes\":{\"type\":\"checkbox\",\"data-bind\":\"checked: value, valueUpdate: 'change', event: {change: function (){this.changes(this.changes()+1)}}\"},\"id\":\"##360\",\"className\":\"switch \",\"style\":{}},\"nodeType\":\"DOM\",\"type\":\"node\",\"instanceArgs\":{\"namespace\":\"html\",\"tag\":\"input\"},\"children\":[]},{\"props\":{\"attributes\":{\"className\":\"\",\"for\":\"##360\"}},\"nodeType\":\"DOM\",\"type\":\"node\",\"instanceArgs\":{\"namespace\":\"html\",\"tag\":\"label\"},\"children\":[\"I have read and agreed\"]}]}]}]},\n",
       "            window,\n",
       "        );\n",
       "    } else {\n",
       "        document\n",
       "            .querySelector('[data-webio-mountpoint=\"7455372298578494150\"]')\n",
       "            .innerHTML = '<strong>WebIO not detected.</strong>';\n",
       "    }\n",
       "    </script>\n",
       "</div>\n"
      ],
      "text/plain": [
       "(div { className=\"field interact-widget\" }\n",
       "    (div { className=\"field interact-widget\" }\n",
       "    (input { attributes=Dict{Any,Any}(:type=>\"checkbox\",Symbol(\"data-bind\")=>\"checked: value, valueUpdate: 'change', event: {change: function (){this.changes(this.changes()+1)}}\") id=\"##360\" className=\"switch \" style=Dict{Any,Any}() })\n",
       "    (label { attributes=Dict(\"className\"=>\"\",\"for\"=>\"##360\") }\n",
       "      \"I have read and agreed\")))"
      ]
     },
     "metadata": {
      "application/vnd.webio.node+json": {
       "kernelId": "8f0f174b-759f-4edf-93e9-4b71624677ac"
      }
     },
     "output_type": "display_data"
    },
    {
     "data": {
      "application/vnd.webio.node+json": {
       "children": [
        {
         "children": [
          {
           "children": [
            {
             "children": [
              {
               "children": [
                "To what extent?"
               ],
               "instanceArgs": {
                "namespace": "html",
                "tag": "label"
               },
               "nodeType": "DOM",
               "props": {
                "className": "interact ",
                "style": {
                 "padding": "5px 10px 0px 10px"
                }
               },
               "type": "node"
              }
             ],
             "instanceArgs": {
              "namespace": "html",
              "tag": "div"
             },
             "nodeType": "DOM",
             "props": {
              "className": "interact-flex-row-left"
             },
             "type": "node"
            },
            {
             "children": [
              {
               "children": [],
               "instanceArgs": {
                "namespace": "html",
                "tag": "input"
               },
               "nodeType": "DOM",
               "props": {
                "attributes": {
                 "data-bind": "numericValue: index, valueUpdate: 'input', event: {change: function (){this.changes(this.changes()+1)}}",
                 "orient": "horizontal",
                 "type": "range"
                },
                "className": "slider slider is-fullwidth",
                "max": 100,
                "min": 1,
                "step": 1,
                "style": {}
               },
               "type": "node"
              }
             ],
             "instanceArgs": {
              "namespace": "html",
              "tag": "div"
             },
             "nodeType": "DOM",
             "props": {
              "className": "interact-flex-row-center"
             },
             "type": "node"
            },
            {
             "children": [
              {
               "children": [],
               "instanceArgs": {
                "namespace": "html",
                "tag": "p"
               },
               "nodeType": "DOM",
               "props": {
                "attributes": {
                 "data-bind": "text: formatted_val"
                }
               },
               "type": "node"
              }
             ],
             "instanceArgs": {
              "namespace": "html",
              "tag": "div"
             },
             "nodeType": "DOM",
             "props": {
              "className": "interact-flex-row-right"
             },
             "type": "node"
            }
           ],
           "instanceArgs": {
            "namespace": "html",
            "tag": "div"
           },
           "nodeType": "DOM",
           "props": {
            "className": "interact-flex-row interact-widget"
           },
           "type": "node"
          }
         ],
         "instanceArgs": {
          "handlers": {
           "changes": [
            "(function (val){return (val!=this.model[\"changes\"]()) ? (this.valueFromJulia[\"changes\"]=true, this.model[\"changes\"](val)) : undefined})"
           ],
           "index": [
            "(function (val){return (val!=this.model[\"index\"]()) ? (this.valueFromJulia[\"index\"]=true, this.model[\"index\"](val)) : undefined})"
           ]
          },
          "id": "knockout-component-2bc2edde-d764-4b5d-aee5-8847f89d1be6",
          "imports": {
           "data": [
            {
             "name": "knockout",
             "type": "js",
             "url": "/assetserver/4c46bb451382581706b9774f056ff0eb033730d2-knockout.js"
            },
            {
             "name": "knockout_punches",
             "type": "js",
             "url": "/assetserver/7703eb33282eba33804997c61d1d289632fc7ddf-knockout_punches.js"
            },
            {
             "name": null,
             "type": "js",
             "url": "/assetserver/b46e98b31e4234ec0be1ab0b5be2743233171bb9-all.js"
            },
            {
             "name": null,
             "type": "css",
             "url": "/assetserver/80103f9b53fa8b4bb8f8d94b1f5919d03ca2677d-style.css"
            },
            {
             "name": null,
             "type": "css",
             "url": "/assetserver/b795e50c99e3978c5dc2ad8b262026876d96179a-bulma_confined.min.css"
            }
           ],
           "type": "async_block"
          },
          "mount_callbacks": [
           "function () {\n    var handler = (function (ko, koPunches) {\n    ko.punches.enableAll();\n    ko.bindingHandlers.numericValue = {\n        init : function(element, valueAccessor, allBindings, data, context) {\n            var stringified = ko.observable(ko.unwrap(valueAccessor()));\n            stringified.subscribe(function(value) {\n                var val = parseFloat(value);\n                if (!isNaN(val)) {\n                    valueAccessor()(val);\n                }\n            })\n            valueAccessor().subscribe(function(value) {\n                var str = JSON.stringify(value);\n                if ((str == \"0\") && ([\"-0\", \"-0.\"].indexOf(stringified()) >= 0))\n                     return;\n                 if ([\"null\", \"\"].indexOf(str) >= 0)\n                     return;\n                stringified(str);\n            })\n            ko.applyBindingsToNode(element, { value: stringified, valueUpdate: allBindings.get('valueUpdate')}, context);\n        }\n    };\n    var json_data = {\"formatted_vals\":[\"1\",\"2\",\"3\",\"4\",\"5\",\"6\",\"7\",\"8\",\"9\",\"10\",\"11\",\"12\",\"13\",\"14\",\"15\",\"16\",\"17\",\"18\",\"19\",\"20\",\"21\",\"22\",\"23\",\"24\",\"25\",\"26\",\"27\",\"28\",\"29\",\"30\",\"31\",\"32\",\"33\",\"34\",\"35\",\"36\",\"37\",\"38\",\"39\",\"40\",\"41\",\"42\",\"43\",\"44\",\"45\",\"46\",\"47\",\"48\",\"49\",\"50\",\"51\",\"52\",\"53\",\"54\",\"55\",\"56\",\"57\",\"58\",\"59\",\"60\",\"61\",\"62\",\"63\",\"64\",\"65\",\"66\",\"67\",\"68\",\"69\",\"70\",\"71\",\"72\",\"73\",\"74\",\"75\",\"76\",\"77\",\"78\",\"79\",\"80\",\"81\",\"82\",\"83\",\"84\",\"85\",\"86\",\"87\",\"88\",\"89\",\"90\",\"91\",\"92\",\"93\",\"94\",\"95\",\"96\",\"97\",\"98\",\"99\",\"100\"],\"changes\":WebIO.getval({\"name\":\"changes\",\"scope\":\"knockout-component-2bc2edde-d764-4b5d-aee5-8847f89d1be6\",\"id\":\"ob_16\",\"type\":\"observable\"}),\"index\":WebIO.getval({\"name\":\"index\",\"scope\":\"knockout-component-2bc2edde-d764-4b5d-aee5-8847f89d1be6\",\"id\":\"ob_15\",\"type\":\"observable\"})};\n    var self = this;\n    function AppViewModel() {\n        for (var key in json_data) {\n            var el = json_data[key];\n            this[key] = Array.isArray(el) ? ko.observableArray(el) : ko.observable(el);\n        }\n        \n        [this[\"formatted_val\"]=ko.computed(    function(){\n        return this.formatted_vals()[parseInt(this.index())-1];\n    }\n,this)]\n        [this[\"changes\"].subscribe((function (val){!(this.valueFromJulia[\"changes\"]) ? (WebIO.setval({\"name\":\"changes\",\"scope\":\"knockout-component-2bc2edde-d764-4b5d-aee5-8847f89d1be6\",\"id\":\"ob_16\",\"type\":\"observable\"},val)) : undefined; return this.valueFromJulia[\"changes\"]=false}),self),this[\"index\"].subscribe((function (val){!(this.valueFromJulia[\"index\"]) ? (WebIO.setval({\"name\":\"index\",\"scope\":\"knockout-component-2bc2edde-d764-4b5d-aee5-8847f89d1be6\",\"id\":\"ob_15\",\"type\":\"observable\"},val)) : undefined; return this.valueFromJulia[\"index\"]=false}),self)]\n        \n    }\n    self.model = new AppViewModel();\n    self.valueFromJulia = {};\n    for (var key in json_data) {\n        self.valueFromJulia[key] = false;\n    }\n    ko.applyBindings(self.model, self.dom);\n}\n);\n    (WebIO.importBlock({\"data\":[{\"name\":\"knockout\",\"type\":\"js\",\"url\":\"/assetserver/4c46bb451382581706b9774f056ff0eb033730d2-knockout.js\"},{\"name\":\"knockout_punches\",\"type\":\"js\",\"url\":\"/assetserver/7703eb33282eba33804997c61d1d289632fc7ddf-knockout_punches.js\"}],\"type\":\"async_block\"})).then((imports) => handler.apply(this, imports));\n}\n"
          ],
          "observables": {
           "changes": {
            "id": "ob_16",
            "sync": false,
            "value": 0
           },
           "index": {
            "id": "ob_15",
            "sync": false,
            "value": 33
           }
          },
          "systemjs_options": null
         },
         "nodeType": "Scope",
         "props": {},
         "type": "node"
        }
       ],
       "instanceArgs": {
        "namespace": "html",
        "tag": "div"
       },
       "nodeType": "DOM",
       "props": {
        "className": "field interact-widget"
       },
       "type": "node"
      },
      "text/html": [
       "<div\n",
       "    class=\"webio-mountpoint\"\n",
       "    data-webio-mountpoint=\"2805880267998624113\"\n",
       ">\n",
       "    <script>\n",
       "    if (window.require && require.defined && require.defined(\"nbextensions/webio/main\")) {\n",
       "        console.log(\"Jupyter WebIO extension detected, not mounting.\");\n",
       "    } else if (window.WebIO) {\n",
       "        WebIO.mount(\n",
       "            document.querySelector('[data-webio-mountpoint=\"2805880267998624113\"]'),\n",
       "            {\"props\":{\"className\":\"field interact-widget\"},\"nodeType\":\"DOM\",\"type\":\"node\",\"instanceArgs\":{\"namespace\":\"html\",\"tag\":\"div\"},\"children\":[{\"props\":{},\"nodeType\":\"Scope\",\"type\":\"node\",\"instanceArgs\":{\"imports\":{\"data\":[{\"name\":\"knockout\",\"type\":\"js\",\"url\":\"\\/assetserver\\/4c46bb451382581706b9774f056ff0eb033730d2-knockout.js\"},{\"name\":\"knockout_punches\",\"type\":\"js\",\"url\":\"\\/assetserver\\/7703eb33282eba33804997c61d1d289632fc7ddf-knockout_punches.js\"},{\"name\":null,\"type\":\"js\",\"url\":\"\\/assetserver\\/b46e98b31e4234ec0be1ab0b5be2743233171bb9-all.js\"},{\"name\":null,\"type\":\"css\",\"url\":\"\\/assetserver\\/80103f9b53fa8b4bb8f8d94b1f5919d03ca2677d-style.css\"},{\"name\":null,\"type\":\"css\",\"url\":\"\\/assetserver\\/b795e50c99e3978c5dc2ad8b262026876d96179a-bulma_confined.min.css\"}],\"type\":\"async_block\"},\"id\":\"knockout-component-2bc2edde-d764-4b5d-aee5-8847f89d1be6\",\"handlers\":{\"changes\":[\"(function (val){return (val!=this.model[\\\"changes\\\"]()) ? (this.valueFromJulia[\\\"changes\\\"]=true, this.model[\\\"changes\\\"](val)) : undefined})\"],\"index\":[\"(function (val){return (val!=this.model[\\\"index\\\"]()) ? (this.valueFromJulia[\\\"index\\\"]=true, this.model[\\\"index\\\"](val)) : undefined})\"]},\"systemjs_options\":null,\"mount_callbacks\":[\"function () {\\n    var handler = (function (ko, koPunches) {\\n    ko.punches.enableAll();\\n    ko.bindingHandlers.numericValue = {\\n        init : function(element, valueAccessor, allBindings, data, context) {\\n            var stringified = ko.observable(ko.unwrap(valueAccessor()));\\n            stringified.subscribe(function(value) {\\n                var val = parseFloat(value);\\n                if (!isNaN(val)) {\\n                    valueAccessor()(val);\\n                }\\n            })\\n            valueAccessor().subscribe(function(value) {\\n                var str = JSON.stringify(value);\\n                if ((str == \\\"0\\\") && ([\\\"-0\\\", \\\"-0.\\\"].indexOf(stringified()) >= 0))\\n                     return;\\n                 if ([\\\"null\\\", \\\"\\\"].indexOf(str) >= 0)\\n                     return;\\n                stringified(str);\\n            })\\n            ko.applyBindingsToNode(element, { value: stringified, valueUpdate: allBindings.get('valueUpdate')}, context);\\n        }\\n    };\\n    var json_data = {\\\"formatted_vals\\\":[\\\"1\\\",\\\"2\\\",\\\"3\\\",\\\"4\\\",\\\"5\\\",\\\"6\\\",\\\"7\\\",\\\"8\\\",\\\"9\\\",\\\"10\\\",\\\"11\\\",\\\"12\\\",\\\"13\\\",\\\"14\\\",\\\"15\\\",\\\"16\\\",\\\"17\\\",\\\"18\\\",\\\"19\\\",\\\"20\\\",\\\"21\\\",\\\"22\\\",\\\"23\\\",\\\"24\\\",\\\"25\\\",\\\"26\\\",\\\"27\\\",\\\"28\\\",\\\"29\\\",\\\"30\\\",\\\"31\\\",\\\"32\\\",\\\"33\\\",\\\"34\\\",\\\"35\\\",\\\"36\\\",\\\"37\\\",\\\"38\\\",\\\"39\\\",\\\"40\\\",\\\"41\\\",\\\"42\\\",\\\"43\\\",\\\"44\\\",\\\"45\\\",\\\"46\\\",\\\"47\\\",\\\"48\\\",\\\"49\\\",\\\"50\\\",\\\"51\\\",\\\"52\\\",\\\"53\\\",\\\"54\\\",\\\"55\\\",\\\"56\\\",\\\"57\\\",\\\"58\\\",\\\"59\\\",\\\"60\\\",\\\"61\\\",\\\"62\\\",\\\"63\\\",\\\"64\\\",\\\"65\\\",\\\"66\\\",\\\"67\\\",\\\"68\\\",\\\"69\\\",\\\"70\\\",\\\"71\\\",\\\"72\\\",\\\"73\\\",\\\"74\\\",\\\"75\\\",\\\"76\\\",\\\"77\\\",\\\"78\\\",\\\"79\\\",\\\"80\\\",\\\"81\\\",\\\"82\\\",\\\"83\\\",\\\"84\\\",\\\"85\\\",\\\"86\\\",\\\"87\\\",\\\"88\\\",\\\"89\\\",\\\"90\\\",\\\"91\\\",\\\"92\\\",\\\"93\\\",\\\"94\\\",\\\"95\\\",\\\"96\\\",\\\"97\\\",\\\"98\\\",\\\"99\\\",\\\"100\\\"],\\\"changes\\\":WebIO.getval({\\\"name\\\":\\\"changes\\\",\\\"scope\\\":\\\"knockout-component-2bc2edde-d764-4b5d-aee5-8847f89d1be6\\\",\\\"id\\\":\\\"ob_16\\\",\\\"type\\\":\\\"observable\\\"}),\\\"index\\\":WebIO.getval({\\\"name\\\":\\\"index\\\",\\\"scope\\\":\\\"knockout-component-2bc2edde-d764-4b5d-aee5-8847f89d1be6\\\",\\\"id\\\":\\\"ob_15\\\",\\\"type\\\":\\\"observable\\\"})};\\n    var self = this;\\n    function AppViewModel() {\\n        for (var key in json_data) {\\n            var el = json_data[key];\\n            this[key] = Array.isArray(el) ? ko.observableArray(el) : ko.observable(el);\\n        }\\n        \\n        [this[\\\"formatted_val\\\"]=ko.computed(    function(){\\n        return this.formatted_vals()[parseInt(this.index())-1];\\n    }\\n,this)]\\n        [this[\\\"changes\\\"].subscribe((function (val){!(this.valueFromJulia[\\\"changes\\\"]) ? (WebIO.setval({\\\"name\\\":\\\"changes\\\",\\\"scope\\\":\\\"knockout-component-2bc2edde-d764-4b5d-aee5-8847f89d1be6\\\",\\\"id\\\":\\\"ob_16\\\",\\\"type\\\":\\\"observable\\\"},val)) : undefined; return this.valueFromJulia[\\\"changes\\\"]=false}),self),this[\\\"index\\\"].subscribe((function (val){!(this.valueFromJulia[\\\"index\\\"]) ? (WebIO.setval({\\\"name\\\":\\\"index\\\",\\\"scope\\\":\\\"knockout-component-2bc2edde-d764-4b5d-aee5-8847f89d1be6\\\",\\\"id\\\":\\\"ob_15\\\",\\\"type\\\":\\\"observable\\\"},val)) : undefined; return this.valueFromJulia[\\\"index\\\"]=false}),self)]\\n        \\n    }\\n    self.model = new AppViewModel();\\n    self.valueFromJulia = {};\\n    for (var key in json_data) {\\n        self.valueFromJulia[key] = false;\\n    }\\n    ko.applyBindings(self.model, self.dom);\\n}\\n);\\n    (WebIO.importBlock({\\\"data\\\":[{\\\"name\\\":\\\"knockout\\\",\\\"type\\\":\\\"js\\\",\\\"url\\\":\\\"\\/assetserver\\/4c46bb451382581706b9774f056ff0eb033730d2-knockout.js\\\"},{\\\"name\\\":\\\"knockout_punches\\\",\\\"type\\\":\\\"js\\\",\\\"url\\\":\\\"\\/assetserver\\/7703eb33282eba33804997c61d1d289632fc7ddf-knockout_punches.js\\\"}],\\\"type\\\":\\\"async_block\\\"})).then((imports) => handler.apply(this, imports));\\n}\\n\"],\"observables\":{\"changes\":{\"sync\":false,\"id\":\"ob_16\",\"value\":0},\"index\":{\"sync\":false,\"id\":\"ob_15\",\"value\":33}}},\"children\":[{\"props\":{\"className\":\"interact-flex-row interact-widget\"},\"nodeType\":\"DOM\",\"type\":\"node\",\"instanceArgs\":{\"namespace\":\"html\",\"tag\":\"div\"},\"children\":[{\"props\":{\"className\":\"interact-flex-row-left\"},\"nodeType\":\"DOM\",\"type\":\"node\",\"instanceArgs\":{\"namespace\":\"html\",\"tag\":\"div\"},\"children\":[{\"props\":{\"className\":\"interact \",\"style\":{\"padding\":\"5px 10px 0px 10px\"}},\"nodeType\":\"DOM\",\"type\":\"node\",\"instanceArgs\":{\"namespace\":\"html\",\"tag\":\"label\"},\"children\":[\"To what extent?\"]}]},{\"props\":{\"className\":\"interact-flex-row-center\"},\"nodeType\":\"DOM\",\"type\":\"node\",\"instanceArgs\":{\"namespace\":\"html\",\"tag\":\"div\"},\"children\":[{\"props\":{\"max\":100,\"min\":1,\"attributes\":{\"type\":\"range\",\"data-bind\":\"numericValue: index, valueUpdate: 'input', event: {change: function (){this.changes(this.changes()+1)}}\",\"orient\":\"horizontal\"},\"step\":1,\"className\":\"slider slider is-fullwidth\",\"style\":{}},\"nodeType\":\"DOM\",\"type\":\"node\",\"instanceArgs\":{\"namespace\":\"html\",\"tag\":\"input\"},\"children\":[]}]},{\"props\":{\"className\":\"interact-flex-row-right\"},\"nodeType\":\"DOM\",\"type\":\"node\",\"instanceArgs\":{\"namespace\":\"html\",\"tag\":\"div\"},\"children\":[{\"props\":{\"attributes\":{\"data-bind\":\"text: formatted_val\"}},\"nodeType\":\"DOM\",\"type\":\"node\",\"instanceArgs\":{\"namespace\":\"html\",\"tag\":\"p\"},\"children\":[]}]}]}]}]},\n",
       "            window,\n",
       "        );\n",
       "    } else {\n",
       "        document\n",
       "            .querySelector('[data-webio-mountpoint=\"2805880267998624113\"]')\n",
       "            .innerHTML = '<strong>WebIO not detected.</strong>';\n",
       "    }\n",
       "    </script>\n",
       "</div>\n"
      ],
      "text/plain": [
       "(div { className=\"field interact-widget\" }\n",
       "    (div { className=\"interact-flex-row interact-widget\" }\n",
       "    (div { className=\"interact-flex-row-left\" }\n",
       "      (label { className=\"interact \" style=Dict{Any,Any}(:padding=>\"5px 10px 0px 10px\") }\n",
       "        \"To what extent?\"))\n",
       "    (div { className=\"interact-flex-row-center\" }\n",
       "      (input { max=100 min=1 attributes=Dict{Any,Any}(:type=>\"range\",Symbol(\"data-bind\")=>\"numericValue: index, valueUpdate: 'input', event: {change: function (){this.changes(this.changes()+1)}}\",\"orient\"=>\"horizontal\") step=1 className=\"slider slider is-fullwidth\" style=Dict{Any,Any}() }))\n",
       "    (div { className=\"interact-flex-row-right\" }\n",
       "      (p { attributes=Dict(\"data-bind\"=>\"text: formatted_val\") }))))"
      ]
     },
     "metadata": {
      "application/vnd.webio.node+json": {
       "kernelId": "8f0f174b-759f-4edf-93e9-4b71624677ac"
      }
     },
     "output_type": "display_data"
    }
   ],
   "source": [
    "filepicker() |> display # value is the path of selected file\n",
    "textbox(\"Write here\") |> display # value is the text typed in by the user\n",
    "autocomplete([\"Mary\", \"Jane\", \"Jack\"]) |> display # as above, but you can autocomplete words\n",
    "checkbox(label = \"Check me!\") |> display # value is a boolean describing whether it's ticked\n",
    "toggle(label = \"I have read and agreed\") |> display # same as a checkbox but styled differently\n",
    "slider(1:100, label = \"To what extent?\", value = 33) |> display # value is the number selected\n"
   ]
  },
  {
   "cell_type": "code",
   "execution_count": 5,
   "metadata": {},
   "outputs": [
    {
     "data": {
      "application/vnd.webio.node+json": {
       "children": [
        {
         "children": [
          {
           "children": [
            {
             "children": [
              {
               "children": [
                "freq1"
               ],
               "instanceArgs": {
                "namespace": "html",
                "tag": "label"
               },
               "nodeType": "DOM",
               "props": {
                "className": "interact ",
                "style": {
                 "padding": "5px 10px 0px 10px"
                }
               },
               "type": "node"
              }
             ],
             "instanceArgs": {
              "namespace": "html",
              "tag": "div"
             },
             "nodeType": "DOM",
             "props": {
              "className": "interact-flex-row-left"
             },
             "type": "node"
            },
            {
             "children": [
              {
               "children": [
                {
                 "children": [
                  {
                   "children": [],
                   "instanceArgs": {
                    "namespace": "html",
                    "tag": "label"
                   },
                   "nodeType": "DOM",
                   "props": {
                    "attributes": {
                     "data-bind": "text : key"
                    }
                   },
                   "type": "node"
                  }
                 ],
                 "instanceArgs": {
                  "namespace": "html",
                  "tag": "span"
                 },
                 "nodeType": "DOM",
                 "props": {
                  "attributes": {
                   "data-bind": "click: function (){$root.update(val)}, css: {'is-primary is-selected' : $root.index() == val, 'interact-widget button ' : true}"
                  }
                 },
                 "type": "node"
                }
               ],
               "instanceArgs": {
                "namespace": "html",
                "tag": "div"
               },
               "nodeType": "DOM",
               "props": {
                "attributes": {
                 "data-bind": "foreach : options_js"
                },
                "className": "buttons has-addons is-centered"
               },
               "type": "node"
              }
             ],
             "instanceArgs": {
              "namespace": "html",
              "tag": "div"
             },
             "nodeType": "DOM",
             "props": {
              "className": "interact-flex-row-center"
             },
             "type": "node"
            },
            {
             "children": [
              {
               "children": [],
               "instanceArgs": {
                "namespace": "html",
                "tag": "div"
               },
               "nodeType": "DOM",
               "props": {},
               "type": "node"
              }
             ],
             "instanceArgs": {
              "namespace": "html",
              "tag": "div"
             },
             "nodeType": "DOM",
             "props": {
              "className": "interact-flex-row-right"
             },
             "type": "node"
            }
           ],
           "instanceArgs": {
            "namespace": "html",
            "tag": "div"
           },
           "nodeType": "DOM",
           "props": {
            "className": "interact-flex-row interact-widget"
           },
           "type": "node"
          }
         ],
         "instanceArgs": {
          "handlers": {
           "index": [
            "(function (val){return (val!=this.model[\"index\"]()) ? (this.valueFromJulia[\"index\"]=true, this.model[\"index\"](val)) : undefined})"
           ],
           "options_js": [
            "(function (val){return (val!=this.model[\"options_js\"]()) ? (this.valueFromJulia[\"options_js\"]=true, this.model[\"options_js\"](val)) : undefined})"
           ]
          },
          "id": "knockout-component-77069df9-b26c-4339-84c8-42ffdc3bcfb9",
          "imports": {
           "data": [
            {
             "name": "knockout",
             "type": "js",
             "url": "/assetserver/4c46bb451382581706b9774f056ff0eb033730d2-knockout.js"
            },
            {
             "name": "knockout_punches",
             "type": "js",
             "url": "/assetserver/7703eb33282eba33804997c61d1d289632fc7ddf-knockout_punches.js"
            },
            {
             "name": null,
             "type": "js",
             "url": "/assetserver/b46e98b31e4234ec0be1ab0b5be2743233171bb9-all.js"
            },
            {
             "name": null,
             "type": "css",
             "url": "/assetserver/80103f9b53fa8b4bb8f8d94b1f5919d03ca2677d-style.css"
            },
            {
             "name": null,
             "type": "css",
             "url": "/assetserver/b795e50c99e3978c5dc2ad8b262026876d96179a-bulma_confined.min.css"
            }
           ],
           "type": "async_block"
          },
          "mount_callbacks": [
           "function () {\n    var handler = (function (ko, koPunches) {\n    ko.punches.enableAll();\n    ko.bindingHandlers.numericValue = {\n        init : function(element, valueAccessor, allBindings, data, context) {\n            var stringified = ko.observable(ko.unwrap(valueAccessor()));\n            stringified.subscribe(function(value) {\n                var val = parseFloat(value);\n                if (!isNaN(val)) {\n                    valueAccessor()(val);\n                }\n            })\n            valueAccessor().subscribe(function(value) {\n                var str = JSON.stringify(value);\n                if ((str == \"0\") && ([\"-0\", \"-0.\"].indexOf(stringified()) >= 0))\n                     return;\n                 if ([\"null\", \"\"].indexOf(str) >= 0)\n                     return;\n                stringified(str);\n            })\n            ko.applyBindingsToNode(element, { value: stringified, valueUpdate: allBindings.get('valueUpdate')}, context);\n        }\n    };\n    var json_data = {\"options_js\":WebIO.getval({\"name\":\"options_js\",\"scope\":\"knockout-component-77069df9-b26c-4339-84c8-42ffdc3bcfb9\",\"id\":\"ob_21\",\"type\":\"observable\"}),\"index\":WebIO.getval({\"name\":\"index\",\"scope\":\"knockout-component-77069df9-b26c-4339-84c8-42ffdc3bcfb9\",\"id\":\"ob_20\",\"type\":\"observable\"})};\n    var self = this;\n    function AppViewModel() {\n        for (var key in json_data) {\n            var el = json_data[key];\n            this[key] = Array.isArray(el) ? ko.observableArray(el) : ko.observable(el);\n        }\n        [this[\"update\"]=function (val) {this.index(val)}]\n        \n        [this[\"options_js\"].subscribe((function (val){!(this.valueFromJulia[\"options_js\"]) ? (WebIO.setval({\"name\":\"options_js\",\"scope\":\"knockout-component-77069df9-b26c-4339-84c8-42ffdc3bcfb9\",\"id\":\"ob_21\",\"type\":\"observable\"},val)) : undefined; return this.valueFromJulia[\"options_js\"]=false}),self),this[\"index\"].subscribe((function (val){!(this.valueFromJulia[\"index\"]) ? (WebIO.setval({\"name\":\"index\",\"scope\":\"knockout-component-77069df9-b26c-4339-84c8-42ffdc3bcfb9\",\"id\":\"ob_20\",\"type\":\"observable\"},val)) : undefined; return this.valueFromJulia[\"index\"]=false}),self)]\n        \n    }\n    self.model = new AppViewModel();\n    self.valueFromJulia = {};\n    for (var key in json_data) {\n        self.valueFromJulia[key] = false;\n    }\n    ko.applyBindings(self.model, self.dom);\n}\n);\n    (WebIO.importBlock({\"data\":[{\"name\":\"knockout\",\"type\":\"js\",\"url\":\"/assetserver/4c46bb451382581706b9774f056ff0eb033730d2-knockout.js\"},{\"name\":\"knockout_punches\",\"type\":\"js\",\"url\":\"/assetserver/7703eb33282eba33804997c61d1d289632fc7ddf-knockout_punches.js\"}],\"type\":\"async_block\"})).then((imports) => handler.apply(this, imports));\n}\n"
          ],
          "observables": {
           "index": {
            "id": "ob_20",
            "sync": true,
            "value": 1
           },
           "options_js": {
            "id": "ob_21",
            "sync": false,
            "value": [
             {
              "id": "idqHbHGqBH",
              "key": "pi/4",
              "val": 1
             },
             {
              "id": "idAXCAjT0S",
              "key": "π/2",
              "val": 2
             },
             {
              "id": "idq2T784f9",
              "key": "3π/4",
              "val": 3
             },
             {
              "id": "idyTsSdOWM",
              "key": "π",
              "val": 4
             }
            ]
           }
          },
          "systemjs_options": null
         },
         "nodeType": "Scope",
         "props": {},
         "type": "node"
        },
        {
         "children": [
          {
           "children": [
            {
             "children": [
              {
               "children": [
                {
                 "children": [
                  "freq2"
                 ],
                 "instanceArgs": {
                  "namespace": "html",
                  "tag": "label"
                 },
                 "nodeType": "DOM",
                 "props": {
                  "className": "interact ",
                  "style": {
                   "padding": "5px 10px 0px 10px"
                  }
                 },
                 "type": "node"
                }
               ],
               "instanceArgs": {
                "namespace": "html",
                "tag": "div"
               },
               "nodeType": "DOM",
               "props": {
                "className": "interact-flex-row-left"
               },
               "type": "node"
              },
              {
               "children": [
                {
                 "children": [],
                 "instanceArgs": {
                  "namespace": "html",
                  "tag": "input"
                 },
                 "nodeType": "DOM",
                 "props": {
                  "attributes": {
                   "data-bind": "numericValue: index, valueUpdate: 'input', event: {change: function (){this.changes(this.changes()+1)}}",
                   "orient": "horizontal",
                   "type": "range"
                  },
                  "className": "slider slider is-fullwidth",
                  "max": 126,
                  "min": 1,
                  "step": 1,
                  "style": {}
                 },
                 "type": "node"
                }
               ],
               "instanceArgs": {
                "namespace": "html",
                "tag": "div"
               },
               "nodeType": "DOM",
               "props": {
                "className": "interact-flex-row-center"
               },
               "type": "node"
              },
              {
               "children": [
                {
                 "children": [],
                 "instanceArgs": {
                  "namespace": "html",
                  "tag": "p"
                 },
                 "nodeType": "DOM",
                 "props": {
                  "attributes": {
                   "data-bind": "text: formatted_val"
                  }
                 },
                 "type": "node"
                }
               ],
               "instanceArgs": {
                "namespace": "html",
                "tag": "div"
               },
               "nodeType": "DOM",
               "props": {
                "className": "interact-flex-row-right"
               },
               "type": "node"
              }
             ],
             "instanceArgs": {
              "namespace": "html",
              "tag": "div"
             },
             "nodeType": "DOM",
             "props": {
              "className": "interact-flex-row interact-widget"
             },
             "type": "node"
            }
           ],
           "instanceArgs": {
            "handlers": {
             "changes": [
              "(function (val){return (val!=this.model[\"changes\"]()) ? (this.valueFromJulia[\"changes\"]=true, this.model[\"changes\"](val)) : undefined})"
             ],
             "index": [
              "(function (val){return (val!=this.model[\"index\"]()) ? (this.valueFromJulia[\"index\"]=true, this.model[\"index\"](val)) : undefined})"
             ]
            },
            "id": "knockout-component-1c2406d4-28aa-4e00-950f-2c9a55faf03c",
            "imports": {
             "data": [
              {
               "name": "knockout",
               "type": "js",
               "url": "/assetserver/4c46bb451382581706b9774f056ff0eb033730d2-knockout.js"
              },
              {
               "name": "knockout_punches",
               "type": "js",
               "url": "/assetserver/7703eb33282eba33804997c61d1d289632fc7ddf-knockout_punches.js"
              },
              {
               "name": null,
               "type": "js",
               "url": "/assetserver/b46e98b31e4234ec0be1ab0b5be2743233171bb9-all.js"
              },
              {
               "name": null,
               "type": "css",
               "url": "/assetserver/80103f9b53fa8b4bb8f8d94b1f5919d03ca2677d-style.css"
              },
              {
               "name": null,
               "type": "css",
               "url": "/assetserver/b795e50c99e3978c5dc2ad8b262026876d96179a-bulma_confined.min.css"
              }
             ],
             "type": "async_block"
            },
            "mount_callbacks": [
             "function () {\n    var handler = (function (ko, koPunches) {\n    ko.punches.enableAll();\n    ko.bindingHandlers.numericValue = {\n        init : function(element, valueAccessor, allBindings, data, context) {\n            var stringified = ko.observable(ko.unwrap(valueAccessor()));\n            stringified.subscribe(function(value) {\n                var val = parseFloat(value);\n                if (!isNaN(val)) {\n                    valueAccessor()(val);\n                }\n            })\n            valueAccessor().subscribe(function(value) {\n                var str = JSON.stringify(value);\n                if ((str == \"0\") && ([\"-0\", \"-0.\"].indexOf(stringified()) >= 0))\n                     return;\n                 if ([\"null\", \"\"].indexOf(str) >= 0)\n                     return;\n                stringified(str);\n            })\n            ko.applyBindingsToNode(element, { value: stringified, valueUpdate: allBindings.get('valueUpdate')}, context);\n        }\n    };\n    var json_data = {\"formatted_vals\":[\"0.01\",\"0.11\",\"0.21\",\"0.31\",\"0.41\",\"0.51\",\"0.61\",\"0.71\",\"0.81\",\"0.91\",\"1.01\",\"1.11\",\"1.21\",\"1.31\",\"1.41\",\"1.51\",\"1.61\",\"1.71\",\"1.81\",\"1.91\",\"2.01\",\"2.11\",\"2.21\",\"2.31\",\"2.41\",\"2.51\",\"2.61\",\"2.71\",\"2.81\",\"2.91\",\"3.01\",\"3.11\",\"3.21\",\"3.31\",\"3.41\",\"3.51\",\"3.61\",\"3.71\",\"3.81\",\"3.91\",\"4.01\",\"4.11\",\"4.21\",\"4.31\",\"4.41\",\"4.51\",\"4.61\",\"4.71\",\"4.81\",\"4.91\",\"5.01\",\"5.11\",\"5.21\",\"5.31\",\"5.41\",\"5.51\",\"5.61\",\"5.71\",\"5.81\",\"5.91\",\"6.01\",\"6.11\",\"6.21\",\"6.31\",\"6.41\",\"6.51\",\"6.61\",\"6.71\",\"6.81\",\"6.91\",\"7.01\",\"7.11\",\"7.21\",\"7.31\",\"7.41\",\"7.51\",\"7.61\",\"7.71\",\"7.81\",\"7.91\",\"8.01\",\"8.11\",\"8.21\",\"8.31\",\"8.41\",\"8.51\",\"8.61\",\"8.71\",\"8.81\",\"8.91\",\"9.01\",\"9.11\",\"9.21\",\"9.31\",\"9.41\",\"9.51\",\"9.61\",\"9.71\",\"9.81\",\"9.91\",\"10.01\",\"10.11\",\"10.21\",\"10.31\",\"10.41\",\"10.51\",\"10.61\",\"10.71\",\"10.81\",\"10.91\",\"11.01\",\"11.11\",\"11.21\",\"11.31\",\"11.41\",\"11.51\",\"11.61\",\"11.71\",\"11.81\",\"11.91\",\"12.01\",\"12.11\",\"12.21\",\"12.31\",\"12.41\",\"12.51\"],\"changes\":WebIO.getval({\"name\":\"changes\",\"scope\":\"knockout-component-1c2406d4-28aa-4e00-950f-2c9a55faf03c\",\"id\":\"ob_24\",\"type\":\"observable\"}),\"index\":WebIO.getval({\"name\":\"index\",\"scope\":\"knockout-component-1c2406d4-28aa-4e00-950f-2c9a55faf03c\",\"id\":\"ob_23\",\"type\":\"observable\"})};\n    var self = this;\n    function AppViewModel() {\n        for (var key in json_data) {\n            var el = json_data[key];\n            this[key] = Array.isArray(el) ? ko.observableArray(el) : ko.observable(el);\n        }\n        \n        [this[\"formatted_val\"]=ko.computed(    function(){\n        return this.formatted_vals()[parseInt(this.index())-1];\n    }\n,this)]\n        [this[\"changes\"].subscribe((function (val){!(this.valueFromJulia[\"changes\"]) ? (WebIO.setval({\"name\":\"changes\",\"scope\":\"knockout-component-1c2406d4-28aa-4e00-950f-2c9a55faf03c\",\"id\":\"ob_24\",\"type\":\"observable\"},val)) : undefined; return this.valueFromJulia[\"changes\"]=false}),self),this[\"index\"].subscribe((function (val){!(this.valueFromJulia[\"index\"]) ? (WebIO.setval({\"name\":\"index\",\"scope\":\"knockout-component-1c2406d4-28aa-4e00-950f-2c9a55faf03c\",\"id\":\"ob_23\",\"type\":\"observable\"},val)) : undefined; return this.valueFromJulia[\"index\"]=false}),self)]\n        \n    }\n    self.model = new AppViewModel();\n    self.valueFromJulia = {};\n    for (var key in json_data) {\n        self.valueFromJulia[key] = false;\n    }\n    ko.applyBindings(self.model, self.dom);\n}\n);\n    (WebIO.importBlock({\"data\":[{\"name\":\"knockout\",\"type\":\"js\",\"url\":\"/assetserver/4c46bb451382581706b9774f056ff0eb033730d2-knockout.js\"},{\"name\":\"knockout_punches\",\"type\":\"js\",\"url\":\"/assetserver/7703eb33282eba33804997c61d1d289632fc7ddf-knockout_punches.js\"}],\"type\":\"async_block\"})).then((imports) => handler.apply(this, imports));\n}\n"
            ],
            "observables": {
             "changes": {
              "id": "ob_24",
              "sync": false,
              "value": 0
             },
             "index": {
              "id": "ob_23",
              "sync": true,
              "value": 63
             }
            },
            "systemjs_options": null
           },
           "nodeType": "Scope",
           "props": {},
           "type": "node"
          }
         ],
         "instanceArgs": {
          "namespace": "html",
          "tag": "div"
         },
         "nodeType": "DOM",
         "props": {
          "className": "field interact-widget"
         },
         "type": "node"
        },
        {
         "children": [
          {
           "children": [],
           "instanceArgs": {
            "id": "ob_30",
            "name": "obs-node"
           },
           "nodeType": "ObservableNode",
           "props": {},
           "type": "node"
          }
         ],
         "instanceArgs": {
          "handlers": {},
          "id": "scope-795557bb-dab5-4b7b-a783-a5aaa7659af9",
          "imports": {
           "data": [],
           "type": "async_block"
          },
          "mount_callbacks": [],
          "observables": {
           "obs-node": {
            "id": "ob_30",
            "sync": false,
            "value": {
             "children": [
              {
               "children": [],
               "instanceArgs": {
                "namespace": "html",
                "tag": "div"
               },
               "nodeType": "DOM",
               "props": {
                "setInnerHtml": "<?xml version=\"1.0\" encoding=\"utf-8\"?>\n<svg xmlns=\"http://www.w3.org/2000/svg\" xmlns:xlink=\"http://www.w3.org/1999/xlink\" width=\"600\" height=\"400\" viewBox=\"0 0 2400 1600\">\n<defs>\n  <clipPath id=\"clip8700\">\n    <rect x=\"0\" y=\"0\" width=\"2400\" height=\"1600\"/>\n  </clipPath>\n</defs>\n<polygon clip-path=\"url(#clip8700)\" points=\"\n0,1600 2400,1600 2400,0 0,0 \n  \" fill=\"#ffffff\" fill-rule=\"evenodd\" fill-opacity=\"1\"/>\n<defs>\n  <clipPath id=\"clip8701\">\n    <rect x=\"480\" y=\"0\" width=\"1681\" height=\"1600\"/>\n  </clipPath>\n</defs>\n<polygon clip-path=\"url(#clip8700)\" points=\"\n182.008,1487.47 2352.76,1487.47 2352.76,47.2441 182.008,47.2441 \n  \" fill=\"#ffffff\" fill-rule=\"evenodd\" fill-opacity=\"1\"/>\n<defs>\n  <clipPath id=\"clip8702\">\n    <rect x=\"182\" y=\"47\" width=\"2172\" height=\"1441\"/>\n  </clipPath>\n</defs>\n<polyline clip-path=\"url(#clip8702)\" style=\"stroke:#000000; stroke-width:2; stroke-opacity:0.1; fill:none\" points=\"\n  243.444,1487.47 243.444,47.2441 \n  \"/>\n<polyline clip-path=\"url(#clip8702)\" style=\"stroke:#000000; stroke-width:2; stroke-opacity:0.1; fill:none\" points=\"\n  926.069,1487.47 926.069,47.2441 \n  \"/>\n<polyline clip-path=\"url(#clip8702)\" style=\"stroke:#000000; stroke-width:2; stroke-opacity:0.1; fill:none\" points=\"\n  1608.69,1487.47 1608.69,47.2441 \n  \"/>\n<polyline clip-path=\"url(#clip8702)\" style=\"stroke:#000000; stroke-width:2; stroke-opacity:0.1; fill:none\" points=\"\n  2291.32,1487.47 2291.32,47.2441 \n  \"/>\n<polyline clip-path=\"url(#clip8702)\" style=\"stroke:#000000; stroke-width:2; stroke-opacity:0.1; fill:none\" points=\"\n  182.008,1465.08 2352.76,1465.08 \n  \"/>\n<polyline clip-path=\"url(#clip8702)\" style=\"stroke:#000000; stroke-width:2; stroke-opacity:0.1; fill:none\" points=\"\n  182.008,1120.68 2352.76,1120.68 \n  \"/>\n<polyline clip-path=\"url(#clip8702)\" style=\"stroke:#000000; stroke-width:2; stroke-opacity:0.1; fill:none\" points=\"\n  182.008,776.277 2352.76,776.277 \n  \"/>\n<polyline clip-path=\"url(#clip8702)\" style=\"stroke:#000000; stroke-width:2; stroke-opacity:0.1; fill:none\" points=\"\n  182.008,431.876 2352.76,431.876 \n  \"/>\n<polyline clip-path=\"url(#clip8702)\" style=\"stroke:#000000; stroke-width:2; stroke-opacity:0.1; fill:none\" points=\"\n  182.008,87.474 2352.76,87.474 \n  \"/>\n<polyline clip-path=\"url(#clip8700)\" style=\"stroke:#000000; stroke-width:4; stroke-opacity:1; fill:none\" points=\"\n  182.008,1487.47 2352.76,1487.47 \n  \"/>\n<polyline clip-path=\"url(#clip8700)\" style=\"stroke:#000000; stroke-width:4; stroke-opacity:1; fill:none\" points=\"\n  182.008,1487.47 182.008,47.2441 \n  \"/>\n<polyline clip-path=\"url(#clip8700)\" style=\"stroke:#000000; stroke-width:4; stroke-opacity:1; fill:none\" points=\"\n  243.444,1487.47 243.444,1465.87 \n  \"/>\n<polyline clip-path=\"url(#clip8700)\" style=\"stroke:#000000; stroke-width:4; stroke-opacity:1; fill:none\" points=\"\n  926.069,1487.47 926.069,1465.87 \n  \"/>\n<polyline clip-path=\"url(#clip8700)\" style=\"stroke:#000000; stroke-width:4; stroke-opacity:1; fill:none\" points=\"\n  1608.69,1487.47 1608.69,1465.87 \n  \"/>\n<polyline clip-path=\"url(#clip8700)\" style=\"stroke:#000000; stroke-width:4; stroke-opacity:1; fill:none\" points=\"\n  2291.32,1487.47 2291.32,1465.87 \n  \"/>\n<polyline clip-path=\"url(#clip8700)\" style=\"stroke:#000000; stroke-width:4; stroke-opacity:1; fill:none\" points=\"\n  182.008,1465.08 214.569,1465.08 \n  \"/>\n<polyline clip-path=\"url(#clip8700)\" style=\"stroke:#000000; stroke-width:4; stroke-opacity:1; fill:none\" points=\"\n  182.008,1120.68 214.569,1120.68 \n  \"/>\n<polyline clip-path=\"url(#clip8700)\" style=\"stroke:#000000; stroke-width:4; stroke-opacity:1; fill:none\" points=\"\n  182.008,776.277 214.569,776.277 \n  \"/>\n<polyline clip-path=\"url(#clip8700)\" style=\"stroke:#000000; stroke-width:4; stroke-opacity:1; fill:none\" points=\"\n  182.008,431.876 214.569,431.876 \n  \"/>\n<polyline clip-path=\"url(#clip8700)\" style=\"stroke:#000000; stroke-width:4; stroke-opacity:1; fill:none\" points=\"\n  182.008,87.474 214.569,87.474 \n  \"/>\n<g clip-path=\"url(#clip8700)\">\n<text style=\"fill:#000000; fill-opacity:1; font-family:Arial,Helvetica Neue,Helvetica,sans-serif; font-size:48px; text-anchor:middle;\" transform=\"rotate(0, 243.444, 1541.47)\" x=\"243.444\" y=\"1541.47\">0</text>\n</g>\n<g clip-path=\"url(#clip8700)\">\n<text style=\"fill:#000000; fill-opacity:1; font-family:Arial,Helvetica Neue,Helvetica,sans-serif; font-size:48px; text-anchor:middle;\" transform=\"rotate(0, 926.069, 1541.47)\" x=\"926.069\" y=\"1541.47\">10</text>\n</g>\n<g clip-path=\"url(#clip8700)\">\n<text style=\"fill:#000000; fill-opacity:1; font-family:Arial,Helvetica Neue,Helvetica,sans-serif; font-size:48px; text-anchor:middle;\" transform=\"rotate(0, 1608.69, 1541.47)\" x=\"1608.69\" y=\"1541.47\">20</text>\n</g>\n<g clip-path=\"url(#clip8700)\">\n<text style=\"fill:#000000; fill-opacity:1; font-family:Arial,Helvetica Neue,Helvetica,sans-serif; font-size:48px; text-anchor:middle;\" transform=\"rotate(0, 2291.32, 1541.47)\" x=\"2291.32\" y=\"1541.47\">30</text>\n</g>\n<g clip-path=\"url(#clip8700)\">\n<text style=\"fill:#000000; fill-opacity:1; font-family:Arial,Helvetica Neue,Helvetica,sans-serif; font-size:48px; text-anchor:end;\" transform=\"rotate(0, 158.008, 1482.58)\" x=\"158.008\" y=\"1482.58\">-1.0</text>\n</g>\n<g clip-path=\"url(#clip8700)\">\n<text style=\"fill:#000000; fill-opacity:1; font-family:Arial,Helvetica Neue,Helvetica,sans-serif; font-size:48px; text-anchor:end;\" transform=\"rotate(0, 158.008, 1138.18)\" x=\"158.008\" y=\"1138.18\">-0.5</text>\n</g>\n<g clip-path=\"url(#clip8700)\">\n<text style=\"fill:#000000; fill-opacity:1; font-family:Arial,Helvetica Neue,Helvetica,sans-serif; font-size:48px; text-anchor:end;\" transform=\"rotate(0, 158.008, 793.777)\" x=\"158.008\" y=\"793.777\">0.0</text>\n</g>\n<g clip-path=\"url(#clip8700)\">\n<text style=\"fill:#000000; fill-opacity:1; font-family:Arial,Helvetica Neue,Helvetica,sans-serif; font-size:48px; text-anchor:end;\" transform=\"rotate(0, 158.008, 449.376)\" x=\"158.008\" y=\"449.376\">0.5</text>\n</g>\n<g clip-path=\"url(#clip8700)\">\n<text style=\"fill:#000000; fill-opacity:1; font-family:Arial,Helvetica Neue,Helvetica,sans-serif; font-size:48px; text-anchor:end;\" transform=\"rotate(0, 158.008, 104.974)\" x=\"158.008\" y=\"104.974\">1.0</text>\n</g>\n<polyline clip-path=\"url(#clip8702)\" style=\"stroke:#009af9; stroke-width:4; stroke-opacity:1; fill:none\" points=\"\n  243.444,776.277 250.271,744.833 257.097,674.297 263.923,622.295 270.749,646.179 277.576,766.634 284.402,948.801 291.228,1112.42 298.054,1167.99 304.881,1062.47 \n  311.707,811.891 318.533,503.486 325.359,263.444 332.186,203.006 339.012,366.645 345.838,706.558 352.664,1096.78 359.491,1382.66 366.317,1445.31 373.143,1253 \n  379.969,876.738 386.796,462.459 393.622,171.323 400.448,113.615 407.274,304.539 414.101,660.493 420.927,1036.6 427.753,1288.34 434.579,1330.21 441.406,1166.49 \n  448.232,882.357 455.058,601.479 461.884,430.769 468.711,417.328 475.537,535.829 482.363,709.494 489.189,852.225 496.016,910.341 502.842,883.96 509.668,819.068 \n  516.494,776.277 523.321,793.701 530.147,863.879 536.973,937.075 543.799,949.456 550.626,861.527 557.452,686.358 564.278,491.548 571.104,371.688 577.931,403.044 \n  584.757,602.001 591.583,908.433 598.409,1204.38 605.236,1361.98 612.062,1300.37 618.888,1025.57 625.714,634.289 632.541,277.769 639.367,100.09 646.193,177.211 \n  653.019,483.442 659.846,900.489 666.672,1265.68 673.498,1438.83 680.324,1359.12 687.151,1067.71 693.977,687.419 700.803,369.001 707.629,228.38 714.456,301.839 \n  721.282,537.531 728.108,824.809 734.934,1046.18 741.761,1127.49 748.587,1064.19 755.413,913.805 762.239,760.942 769.066,673.538 775.892,672.055 782.718,725.781 \n  789.544,776.277 796.371,774.358 803.197,710.509 810.023,622.345 816.849,574.754 823.676,622.675 830.502,775.941 837.328,985.369 844.154,1159.32 850.981,1204.8 \n  857.807,1074.39 864.633,796.002 871.459,469.338 878.286,227.973 885.112,182.323 891.938,368.627 898.764,727.675 905.591,1124.49 912.417,1402.08 919.243,1446.71 \n  926.069,1236.57 932.896,852.242 939.722,444.072 946.548,170.2 953.374,131.929 960.201,333.987 967.027,686.113 973.853,1044.12 980.679,1271.52 987.506,1294.57 \n  994.332,1127.38 1001.16,858.142 1007.98,604.942 1014.81,462.677 1021.64,465.395 1028.46,579.708 1035.29,729.696 1042.12,838.95 1048.94,868.171 1055.77,830.182 \n  1062.59,776.277 1069.42,762.529 1076.25,814.616 1083.07,910.246 1089.9,988.999 1096.73,985.162 1103.55,866.84 1110.38,660.614 1117.2,447.379 1124.03,328.936 \n  1130.86,379.698 1137.68,606.351 1144.51,935.941 1151.34,1240.53 1158.16,1389.56 1164.99,1307.6 1171.81,1011.34 1178.64,607.98 1185.47,254.101 1192.29,91.5174 \n  1199.12,187.692 1205.95,506.6 1212.77,923.021 1219.6,1274.3 1226.42,1427.31 1233.25,1331.79 1240.08,1037.79 1246.9,670.663 1253.73,375.825 1260.56,258.232 \n  1267.38,342.7 1274.21,570.983 1281.03,834.465 1287.86,1025.58 1294.69,1083.68 1301.51,1015.16 1308.34,880.813 1315.17,759.004 1321.99,704.531 1328.82,723.551 \n  1335.64,776.277 1342.47,804.523 1349.3,768.63 1356.12,673.671 1362.95,570.457 1369.78,529.883 1376.6,603.193 1383.43,788.671 1390.25,1023.05 1397.08,1204.38 \n  1403.91,1237.58 1410.73,1081.95 1417.56,777.476 1424.39,435.585 1431.21,195.853 1438.04,166.488 1444.86,374.763 1451.69,750.335 1458.52,1150.39 1465.34,1417.1 \n  1472.17,1443.07 1479,1216.72 1485.82,827.481 1492.65,428.675 1499.47,173.958 1506.3,154.812 1513.13,365.663 1519.95,710.679 1526.78,1047.86 1533.61,1250 \n  1540.43,1255.44 1547.26,1087.53 1554.08,836.188 1560.91,612.489 1567.74,498.519 1574.56,515.4 1581.39,622.683 1588.22,746.681 1595.04,821.772 1601.87,823.34 \n  1608.69,776.277 1615.52,735.937 1622.35,752.583 1629.17,838.79 1636,957.683 1642.83,1039.22 1649.65,1017.16 1656.48,868.209 1663.3,632.63 1670.13,403.841 \n  1676.96,289.5 1683.78,360.872 1690.61,614.319 1697.44,964.425 1704.26,1274.46 1711.09,1412.65 1717.91,1310.08 1724.74,994.252 1731.57,582.053 1738.39,233.924 \n  1745.22,88.0053 1752.05,202.543 1758.87,531.482 1765.7,943.878 1772.52,1278.64 1779.35,1410.82 1786.18,1301.05 1793,1007.51 1799.83,656.664 1806.66,387.19 \n  1813.48,292.297 1820.31,385.542 1827.13,603.366 1833.96,840.617 1840.79,1000.76 1847.61,1036.95 1854.44,965.862 1861.27,850.224 1868.09,760.906 1874.92,738.884 \n  1881.74,776.277 1888.57,825.279 1895.4,829.297 1902.22,759.176 1909.05,634.721 1915.88,519.167 1922.7,488.101 1929.53,587.844 1936.35,804.579 1943.18,1061.36 \n  1950.01,1247.11 1956.83,1266.07 1963.66,1085.21 1970.49,756.684 1977.31,402.727 1984.14,167.475 1990.96,155.6 1997.79,384.817 2004.62,774.083 2011.44,1174.02 \n  2018.27,1427.46 2025.1,1434.48 2031.92,1193.83 2038.75,802.939 2045.57,416.624 2052.4,182.653 2059.23,181.992 2066.05,399.092 2072.88,733.739 2079.71,1047.63 \n  2086.53,1223.89 2093.36,1213.24 2100.18,1047.48 2107.01,816.861 2113.84,624.166 2120.66,537.993 2127.49,566.834 2134.32,664.271 2141.14,760.218 2147.97,800.82 \n  2154.79,776.277 2161.62,722.783 2168.45,698.443 2175.27,746.511 2182.1,865.939 2188.93,1005.68 2195.75,1087.23 2202.58,1045.18 2209.4,865.73 2216.23,602.808 \n  2223.06,361.451 2229.88,253.769 2236.71,346.648 2243.54,625.649 2250.36,993.412 2257.19,1305.71 2264.01,1431.02 2270.84,1307.92 2277.67,974.703 2284.49,556.993 \n  2291.32,217.588 \n  \"/>\n<polygon clip-path=\"url(#clip8700)\" points=\"\n1989.93,251.724 2280.76,251.724 2280.76,130.764 1989.93,130.764 \n  \" fill=\"#ffffff\" fill-rule=\"evenodd\" fill-opacity=\"1\"/>\n<polyline clip-path=\"url(#clip8700)\" style=\"stroke:#000000; stroke-width:4; stroke-opacity:1; fill:none\" points=\"\n  1989.93,251.724 2280.76,251.724 2280.76,130.764 1989.93,130.764 1989.93,251.724 \n  \"/>\n<polyline clip-path=\"url(#clip8700)\" style=\"stroke:#009af9; stroke-width:4; stroke-opacity:1; fill:none\" points=\"\n  2013.93,191.244 2157.93,191.244 \n  \"/>\n<g clip-path=\"url(#clip8700)\">\n<text style=\"fill:#000000; fill-opacity:1; font-family:Arial,Helvetica Neue,Helvetica,sans-serif; font-size:48px; text-anchor:start;\" transform=\"rotate(0, 2181.93, 208.744)\" x=\"2181.93\" y=\"208.744\">y1</text>\n</g>\n</svg>\n"
               },
               "type": "node"
              }
             ],
             "instanceArgs": {
              "namespace": "html",
              "tag": "div"
             },
             "nodeType": "DOM",
             "props": {
              "className": "interact-flex-row interact-widget"
             },
             "type": "node"
            }
           }
          },
          "systemjs_options": null
         },
         "nodeType": "Scope",
         "props": {},
         "type": "node"
        }
       ],
       "instanceArgs": {
        "namespace": "html",
        "tag": "div"
       },
       "nodeType": "DOM",
       "props": {},
       "type": "node"
      },
      "text/html": [
       "<div\n",
       "    class=\"webio-mountpoint\"\n",
       "    data-webio-mountpoint=\"16725123394040069886\"\n",
       ">\n",
       "    <script>\n",
       "    if (window.require && require.defined && require.defined(\"nbextensions/webio/main\")) {\n",
       "        console.log(\"Jupyter WebIO extension detected, not mounting.\");\n",
       "    } else if (window.WebIO) {\n",
       "        WebIO.mount(\n",
       "            document.querySelector('[data-webio-mountpoint=\"16725123394040069886\"]'),\n",
       "            {\"props\":{},\"nodeType\":\"DOM\",\"type\":\"node\",\"instanceArgs\":{\"namespace\":\"html\",\"tag\":\"div\"},\"children\":[{\"props\":{},\"nodeType\":\"Scope\",\"type\":\"node\",\"instanceArgs\":{\"imports\":{\"data\":[{\"name\":\"knockout\",\"type\":\"js\",\"url\":\"\\/assetserver\\/4c46bb451382581706b9774f056ff0eb033730d2-knockout.js\"},{\"name\":\"knockout_punches\",\"type\":\"js\",\"url\":\"\\/assetserver\\/7703eb33282eba33804997c61d1d289632fc7ddf-knockout_punches.js\"},{\"name\":null,\"type\":\"js\",\"url\":\"\\/assetserver\\/b46e98b31e4234ec0be1ab0b5be2743233171bb9-all.js\"},{\"name\":null,\"type\":\"css\",\"url\":\"\\/assetserver\\/80103f9b53fa8b4bb8f8d94b1f5919d03ca2677d-style.css\"},{\"name\":null,\"type\":\"css\",\"url\":\"\\/assetserver\\/b795e50c99e3978c5dc2ad8b262026876d96179a-bulma_confined.min.css\"}],\"type\":\"async_block\"},\"id\":\"knockout-component-77069df9-b26c-4339-84c8-42ffdc3bcfb9\",\"handlers\":{\"options_js\":[\"(function (val){return (val!=this.model[\\\"options_js\\\"]()) ? (this.valueFromJulia[\\\"options_js\\\"]=true, this.model[\\\"options_js\\\"](val)) : undefined})\"],\"index\":[\"(function (val){return (val!=this.model[\\\"index\\\"]()) ? (this.valueFromJulia[\\\"index\\\"]=true, this.model[\\\"index\\\"](val)) : undefined})\"]},\"systemjs_options\":null,\"mount_callbacks\":[\"function () {\\n    var handler = (function (ko, koPunches) {\\n    ko.punches.enableAll();\\n    ko.bindingHandlers.numericValue = {\\n        init : function(element, valueAccessor, allBindings, data, context) {\\n            var stringified = ko.observable(ko.unwrap(valueAccessor()));\\n            stringified.subscribe(function(value) {\\n                var val = parseFloat(value);\\n                if (!isNaN(val)) {\\n                    valueAccessor()(val);\\n                }\\n            })\\n            valueAccessor().subscribe(function(value) {\\n                var str = JSON.stringify(value);\\n                if ((str == \\\"0\\\") && ([\\\"-0\\\", \\\"-0.\\\"].indexOf(stringified()) >= 0))\\n                     return;\\n                 if ([\\\"null\\\", \\\"\\\"].indexOf(str) >= 0)\\n                     return;\\n                stringified(str);\\n            })\\n            ko.applyBindingsToNode(element, { value: stringified, valueUpdate: allBindings.get('valueUpdate')}, context);\\n        }\\n    };\\n    var json_data = {\\\"options_js\\\":WebIO.getval({\\\"name\\\":\\\"options_js\\\",\\\"scope\\\":\\\"knockout-component-77069df9-b26c-4339-84c8-42ffdc3bcfb9\\\",\\\"id\\\":\\\"ob_21\\\",\\\"type\\\":\\\"observable\\\"}),\\\"index\\\":WebIO.getval({\\\"name\\\":\\\"index\\\",\\\"scope\\\":\\\"knockout-component-77069df9-b26c-4339-84c8-42ffdc3bcfb9\\\",\\\"id\\\":\\\"ob_20\\\",\\\"type\\\":\\\"observable\\\"})};\\n    var self = this;\\n    function AppViewModel() {\\n        for (var key in json_data) {\\n            var el = json_data[key];\\n            this[key] = Array.isArray(el) ? ko.observableArray(el) : ko.observable(el);\\n        }\\n        [this[\\\"update\\\"]=function (val) {this.index(val)}]\\n        \\n        [this[\\\"options_js\\\"].subscribe((function (val){!(this.valueFromJulia[\\\"options_js\\\"]) ? (WebIO.setval({\\\"name\\\":\\\"options_js\\\",\\\"scope\\\":\\\"knockout-component-77069df9-b26c-4339-84c8-42ffdc3bcfb9\\\",\\\"id\\\":\\\"ob_21\\\",\\\"type\\\":\\\"observable\\\"},val)) : undefined; return this.valueFromJulia[\\\"options_js\\\"]=false}),self),this[\\\"index\\\"].subscribe((function (val){!(this.valueFromJulia[\\\"index\\\"]) ? (WebIO.setval({\\\"name\\\":\\\"index\\\",\\\"scope\\\":\\\"knockout-component-77069df9-b26c-4339-84c8-42ffdc3bcfb9\\\",\\\"id\\\":\\\"ob_20\\\",\\\"type\\\":\\\"observable\\\"},val)) : undefined; return this.valueFromJulia[\\\"index\\\"]=false}),self)]\\n        \\n    }\\n    self.model = new AppViewModel();\\n    self.valueFromJulia = {};\\n    for (var key in json_data) {\\n        self.valueFromJulia[key] = false;\\n    }\\n    ko.applyBindings(self.model, self.dom);\\n}\\n);\\n    (WebIO.importBlock({\\\"data\\\":[{\\\"name\\\":\\\"knockout\\\",\\\"type\\\":\\\"js\\\",\\\"url\\\":\\\"\\/assetserver\\/4c46bb451382581706b9774f056ff0eb033730d2-knockout.js\\\"},{\\\"name\\\":\\\"knockout_punches\\\",\\\"type\\\":\\\"js\\\",\\\"url\\\":\\\"\\/assetserver\\/7703eb33282eba33804997c61d1d289632fc7ddf-knockout_punches.js\\\"}],\\\"type\\\":\\\"async_block\\\"})).then((imports) => handler.apply(this, imports));\\n}\\n\"],\"observables\":{\"options_js\":{\"sync\":false,\"id\":\"ob_21\",\"value\":[{\"key\":\"pi\\/4\",\"val\":1,\"id\":\"idqHbHGqBH\"},{\"key\":\"π\\/2\",\"val\":2,\"id\":\"idAXCAjT0S\"},{\"key\":\"3π\\/4\",\"val\":3,\"id\":\"idq2T784f9\"},{\"key\":\"π\",\"val\":4,\"id\":\"idyTsSdOWM\"}]},\"index\":{\"sync\":true,\"id\":\"ob_20\",\"value\":1}}},\"children\":[{\"props\":{\"className\":\"interact-flex-row interact-widget\"},\"nodeType\":\"DOM\",\"type\":\"node\",\"instanceArgs\":{\"namespace\":\"html\",\"tag\":\"div\"},\"children\":[{\"props\":{\"className\":\"interact-flex-row-left\"},\"nodeType\":\"DOM\",\"type\":\"node\",\"instanceArgs\":{\"namespace\":\"html\",\"tag\":\"div\"},\"children\":[{\"props\":{\"className\":\"interact \",\"style\":{\"padding\":\"5px 10px 0px 10px\"}},\"nodeType\":\"DOM\",\"type\":\"node\",\"instanceArgs\":{\"namespace\":\"html\",\"tag\":\"label\"},\"children\":[\"freq1\"]}]},{\"props\":{\"className\":\"interact-flex-row-center\"},\"nodeType\":\"DOM\",\"type\":\"node\",\"instanceArgs\":{\"namespace\":\"html\",\"tag\":\"div\"},\"children\":[{\"props\":{\"attributes\":{\"data-bind\":\"foreach : options_js\"},\"className\":\"buttons has-addons is-centered\"},\"nodeType\":\"DOM\",\"type\":\"node\",\"instanceArgs\":{\"namespace\":\"html\",\"tag\":\"div\"},\"children\":[{\"props\":{\"attributes\":{\"data-bind\":\"click: function (){$root.update(val)}, css: {'is-primary is-selected' : $root.index() == val, 'interact-widget button ' : true}\"}},\"nodeType\":\"DOM\",\"type\":\"node\",\"instanceArgs\":{\"namespace\":\"html\",\"tag\":\"span\"},\"children\":[{\"props\":{\"attributes\":{\"data-bind\":\"text : key\"}},\"nodeType\":\"DOM\",\"type\":\"node\",\"instanceArgs\":{\"namespace\":\"html\",\"tag\":\"label\"},\"children\":[]}]}]}]},{\"props\":{\"className\":\"interact-flex-row-right\"},\"nodeType\":\"DOM\",\"type\":\"node\",\"instanceArgs\":{\"namespace\":\"html\",\"tag\":\"div\"},\"children\":[{\"props\":{},\"nodeType\":\"DOM\",\"type\":\"node\",\"instanceArgs\":{\"namespace\":\"html\",\"tag\":\"div\"},\"children\":[]}]}]}]},{\"props\":{\"className\":\"field interact-widget\"},\"nodeType\":\"DOM\",\"type\":\"node\",\"instanceArgs\":{\"namespace\":\"html\",\"tag\":\"div\"},\"children\":[{\"props\":{},\"nodeType\":\"Scope\",\"type\":\"node\",\"instanceArgs\":{\"imports\":{\"data\":[{\"name\":\"knockout\",\"type\":\"js\",\"url\":\"\\/assetserver\\/4c46bb451382581706b9774f056ff0eb033730d2-knockout.js\"},{\"name\":\"knockout_punches\",\"type\":\"js\",\"url\":\"\\/assetserver\\/7703eb33282eba33804997c61d1d289632fc7ddf-knockout_punches.js\"},{\"name\":null,\"type\":\"js\",\"url\":\"\\/assetserver\\/b46e98b31e4234ec0be1ab0b5be2743233171bb9-all.js\"},{\"name\":null,\"type\":\"css\",\"url\":\"\\/assetserver\\/80103f9b53fa8b4bb8f8d94b1f5919d03ca2677d-style.css\"},{\"name\":null,\"type\":\"css\",\"url\":\"\\/assetserver\\/b795e50c99e3978c5dc2ad8b262026876d96179a-bulma_confined.min.css\"}],\"type\":\"async_block\"},\"id\":\"knockout-component-1c2406d4-28aa-4e00-950f-2c9a55faf03c\",\"handlers\":{\"changes\":[\"(function (val){return (val!=this.model[\\\"changes\\\"]()) ? (this.valueFromJulia[\\\"changes\\\"]=true, this.model[\\\"changes\\\"](val)) : undefined})\"],\"index\":[\"(function (val){return (val!=this.model[\\\"index\\\"]()) ? (this.valueFromJulia[\\\"index\\\"]=true, this.model[\\\"index\\\"](val)) : undefined})\"]},\"systemjs_options\":null,\"mount_callbacks\":[\"function () {\\n    var handler = (function (ko, koPunches) {\\n    ko.punches.enableAll();\\n    ko.bindingHandlers.numericValue = {\\n        init : function(element, valueAccessor, allBindings, data, context) {\\n            var stringified = ko.observable(ko.unwrap(valueAccessor()));\\n            stringified.subscribe(function(value) {\\n                var val = parseFloat(value);\\n                if (!isNaN(val)) {\\n                    valueAccessor()(val);\\n                }\\n            })\\n            valueAccessor().subscribe(function(value) {\\n                var str = JSON.stringify(value);\\n                if ((str == \\\"0\\\") && ([\\\"-0\\\", \\\"-0.\\\"].indexOf(stringified()) >= 0))\\n                     return;\\n                 if ([\\\"null\\\", \\\"\\\"].indexOf(str) >= 0)\\n                     return;\\n                stringified(str);\\n            })\\n            ko.applyBindingsToNode(element, { value: stringified, valueUpdate: allBindings.get('valueUpdate')}, context);\\n        }\\n    };\\n    var json_data = {\\\"formatted_vals\\\":[\\\"0.01\\\",\\\"0.11\\\",\\\"0.21\\\",\\\"0.31\\\",\\\"0.41\\\",\\\"0.51\\\",\\\"0.61\\\",\\\"0.71\\\",\\\"0.81\\\",\\\"0.91\\\",\\\"1.01\\\",\\\"1.11\\\",\\\"1.21\\\",\\\"1.31\\\",\\\"1.41\\\",\\\"1.51\\\",\\\"1.61\\\",\\\"1.71\\\",\\\"1.81\\\",\\\"1.91\\\",\\\"2.01\\\",\\\"2.11\\\",\\\"2.21\\\",\\\"2.31\\\",\\\"2.41\\\",\\\"2.51\\\",\\\"2.61\\\",\\\"2.71\\\",\\\"2.81\\\",\\\"2.91\\\",\\\"3.01\\\",\\\"3.11\\\",\\\"3.21\\\",\\\"3.31\\\",\\\"3.41\\\",\\\"3.51\\\",\\\"3.61\\\",\\\"3.71\\\",\\\"3.81\\\",\\\"3.91\\\",\\\"4.01\\\",\\\"4.11\\\",\\\"4.21\\\",\\\"4.31\\\",\\\"4.41\\\",\\\"4.51\\\",\\\"4.61\\\",\\\"4.71\\\",\\\"4.81\\\",\\\"4.91\\\",\\\"5.01\\\",\\\"5.11\\\",\\\"5.21\\\",\\\"5.31\\\",\\\"5.41\\\",\\\"5.51\\\",\\\"5.61\\\",\\\"5.71\\\",\\\"5.81\\\",\\\"5.91\\\",\\\"6.01\\\",\\\"6.11\\\",\\\"6.21\\\",\\\"6.31\\\",\\\"6.41\\\",\\\"6.51\\\",\\\"6.61\\\",\\\"6.71\\\",\\\"6.81\\\",\\\"6.91\\\",\\\"7.01\\\",\\\"7.11\\\",\\\"7.21\\\",\\\"7.31\\\",\\\"7.41\\\",\\\"7.51\\\",\\\"7.61\\\",\\\"7.71\\\",\\\"7.81\\\",\\\"7.91\\\",\\\"8.01\\\",\\\"8.11\\\",\\\"8.21\\\",\\\"8.31\\\",\\\"8.41\\\",\\\"8.51\\\",\\\"8.61\\\",\\\"8.71\\\",\\\"8.81\\\",\\\"8.91\\\",\\\"9.01\\\",\\\"9.11\\\",\\\"9.21\\\",\\\"9.31\\\",\\\"9.41\\\",\\\"9.51\\\",\\\"9.61\\\",\\\"9.71\\\",\\\"9.81\\\",\\\"9.91\\\",\\\"10.01\\\",\\\"10.11\\\",\\\"10.21\\\",\\\"10.31\\\",\\\"10.41\\\",\\\"10.51\\\",\\\"10.61\\\",\\\"10.71\\\",\\\"10.81\\\",\\\"10.91\\\",\\\"11.01\\\",\\\"11.11\\\",\\\"11.21\\\",\\\"11.31\\\",\\\"11.41\\\",\\\"11.51\\\",\\\"11.61\\\",\\\"11.71\\\",\\\"11.81\\\",\\\"11.91\\\",\\\"12.01\\\",\\\"12.11\\\",\\\"12.21\\\",\\\"12.31\\\",\\\"12.41\\\",\\\"12.51\\\"],\\\"changes\\\":WebIO.getval({\\\"name\\\":\\\"changes\\\",\\\"scope\\\":\\\"knockout-component-1c2406d4-28aa-4e00-950f-2c9a55faf03c\\\",\\\"id\\\":\\\"ob_24\\\",\\\"type\\\":\\\"observable\\\"}),\\\"index\\\":WebIO.getval({\\\"name\\\":\\\"index\\\",\\\"scope\\\":\\\"knockout-component-1c2406d4-28aa-4e00-950f-2c9a55faf03c\\\",\\\"id\\\":\\\"ob_23\\\",\\\"type\\\":\\\"observable\\\"})};\\n    var self = this;\\n    function AppViewModel() {\\n        for (var key in json_data) {\\n            var el = json_data[key];\\n            this[key] = Array.isArray(el) ? ko.observableArray(el) : ko.observable(el);\\n        }\\n        \\n        [this[\\\"formatted_val\\\"]=ko.computed(    function(){\\n        return this.formatted_vals()[parseInt(this.index())-1];\\n    }\\n,this)]\\n        [this[\\\"changes\\\"].subscribe((function (val){!(this.valueFromJulia[\\\"changes\\\"]) ? (WebIO.setval({\\\"name\\\":\\\"changes\\\",\\\"scope\\\":\\\"knockout-component-1c2406d4-28aa-4e00-950f-2c9a55faf03c\\\",\\\"id\\\":\\\"ob_24\\\",\\\"type\\\":\\\"observable\\\"},val)) : undefined; return this.valueFromJulia[\\\"changes\\\"]=false}),self),this[\\\"index\\\"].subscribe((function (val){!(this.valueFromJulia[\\\"index\\\"]) ? (WebIO.setval({\\\"name\\\":\\\"index\\\",\\\"scope\\\":\\\"knockout-component-1c2406d4-28aa-4e00-950f-2c9a55faf03c\\\",\\\"id\\\":\\\"ob_23\\\",\\\"type\\\":\\\"observable\\\"},val)) : undefined; return this.valueFromJulia[\\\"index\\\"]=false}),self)]\\n        \\n    }\\n    self.model = new AppViewModel();\\n    self.valueFromJulia = {};\\n    for (var key in json_data) {\\n        self.valueFromJulia[key] = false;\\n    }\\n    ko.applyBindings(self.model, self.dom);\\n}\\n);\\n    (WebIO.importBlock({\\\"data\\\":[{\\\"name\\\":\\\"knockout\\\",\\\"type\\\":\\\"js\\\",\\\"url\\\":\\\"\\/assetserver\\/4c46bb451382581706b9774f056ff0eb033730d2-knockout.js\\\"},{\\\"name\\\":\\\"knockout_punches\\\",\\\"type\\\":\\\"js\\\",\\\"url\\\":\\\"\\/assetserver\\/7703eb33282eba33804997c61d1d289632fc7ddf-knockout_punches.js\\\"}],\\\"type\\\":\\\"async_block\\\"})).then((imports) => handler.apply(this, imports));\\n}\\n\"],\"observables\":{\"changes\":{\"sync\":false,\"id\":\"ob_24\",\"value\":0},\"index\":{\"sync\":true,\"id\":\"ob_23\",\"value\":63}}},\"children\":[{\"props\":{\"className\":\"interact-flex-row interact-widget\"},\"nodeType\":\"DOM\",\"type\":\"node\",\"instanceArgs\":{\"namespace\":\"html\",\"tag\":\"div\"},\"children\":[{\"props\":{\"className\":\"interact-flex-row-left\"},\"nodeType\":\"DOM\",\"type\":\"node\",\"instanceArgs\":{\"namespace\":\"html\",\"tag\":\"div\"},\"children\":[{\"props\":{\"className\":\"interact \",\"style\":{\"padding\":\"5px 10px 0px 10px\"}},\"nodeType\":\"DOM\",\"type\":\"node\",\"instanceArgs\":{\"namespace\":\"html\",\"tag\":\"label\"},\"children\":[\"freq2\"]}]},{\"props\":{\"className\":\"interact-flex-row-center\"},\"nodeType\":\"DOM\",\"type\":\"node\",\"instanceArgs\":{\"namespace\":\"html\",\"tag\":\"div\"},\"children\":[{\"props\":{\"max\":126,\"min\":1,\"attributes\":{\"type\":\"range\",\"data-bind\":\"numericValue: index, valueUpdate: 'input', event: {change: function (){this.changes(this.changes()+1)}}\",\"orient\":\"horizontal\"},\"step\":1,\"className\":\"slider slider is-fullwidth\",\"style\":{}},\"nodeType\":\"DOM\",\"type\":\"node\",\"instanceArgs\":{\"namespace\":\"html\",\"tag\":\"input\"},\"children\":[]}]},{\"props\":{\"className\":\"interact-flex-row-right\"},\"nodeType\":\"DOM\",\"type\":\"node\",\"instanceArgs\":{\"namespace\":\"html\",\"tag\":\"div\"},\"children\":[{\"props\":{\"attributes\":{\"data-bind\":\"text: formatted_val\"}},\"nodeType\":\"DOM\",\"type\":\"node\",\"instanceArgs\":{\"namespace\":\"html\",\"tag\":\"p\"},\"children\":[]}]}]}]}]},{\"props\":{},\"nodeType\":\"Scope\",\"type\":\"node\",\"instanceArgs\":{\"imports\":{\"data\":[],\"type\":\"async_block\"},\"id\":\"scope-2ca5b523-6848-4f71-bd80-5d1b92266f72\",\"handlers\":{},\"systemjs_options\":null,\"mount_callbacks\":[],\"observables\":{\"obs-node\":{\"sync\":false,\"id\":\"ob_28\",\"value\":{\"props\":{\"className\":\"interact-flex-row interact-widget\"},\"nodeType\":\"DOM\",\"type\":\"node\",\"instanceArgs\":{\"namespace\":\"html\",\"tag\":\"div\"},\"children\":[{\"props\":{\"setInnerHtml\":\"<?xml version=\\\"1.0\\\" encoding=\\\"utf-8\\\"?>\\n<svg xmlns=\\\"http:\\/\\/www.w3.org\\/2000\\/svg\\\" xmlns:xlink=\\\"http:\\/\\/www.w3.org\\/1999\\/xlink\\\" width=\\\"600\\\" height=\\\"400\\\" viewBox=\\\"0 0 2400 1600\\\">\\n<defs>\\n  <clipPath id=\\\"clip8300\\\">\\n    <rect x=\\\"0\\\" y=\\\"0\\\" width=\\\"2400\\\" height=\\\"1600\\\"\\/>\\n  <\\/clipPath>\\n<\\/defs>\\n<polygon clip-path=\\\"url(#clip8300)\\\" points=\\\"\\n0,1600 2400,1600 2400,0 0,0 \\n  \\\" fill=\\\"#ffffff\\\" fill-rule=\\\"evenodd\\\" fill-opacity=\\\"1\\\"\\/>\\n<defs>\\n  <clipPath id=\\\"clip8301\\\">\\n    <rect x=\\\"480\\\" y=\\\"0\\\" width=\\\"1681\\\" height=\\\"1600\\\"\\/>\\n  <\\/clipPath>\\n<\\/defs>\\n<polygon clip-path=\\\"url(#clip8300)\\\" points=\\\"\\n182.008,1487.47 2352.76,1487.47 2352.76,47.2441 182.008,47.2441 \\n  \\\" fill=\\\"#ffffff\\\" fill-rule=\\\"evenodd\\\" fill-opacity=\\\"1\\\"\\/>\\n<defs>\\n  <clipPath id=\\\"clip8302\\\">\\n    <rect x=\\\"182\\\" y=\\\"47\\\" width=\\\"2172\\\" height=\\\"1441\\\"\\/>\\n  <\\/clipPath>\\n<\\/defs>\\n<polyline clip-path=\\\"url(#clip8302)\\\" style=\\\"stroke:#000000; stroke-width:2; stroke-opacity:0.1; fill:none\\\" points=\\\"\\n  243.444,1487.47 243.444,47.2441 \\n  \\\"\\/>\\n<polyline clip-path=\\\"url(#clip8302)\\\" style=\\\"stroke:#000000; stroke-width:2; stroke-opacity:0.1; fill:none\\\" points=\\\"\\n  926.069,1487.47 926.069,47.2441 \\n  \\\"\\/>\\n<polyline clip-path=\\\"url(#clip8302)\\\" style=\\\"stroke:#000000; stroke-width:2; stroke-opacity:0.1; fill:none\\\" points=\\\"\\n  1608.69,1487.47 1608.69,47.2441 \\n  \\\"\\/>\\n<polyline clip-path=\\\"url(#clip8302)\\\" style=\\\"stroke:#000000; stroke-width:2; stroke-opacity:0.1; fill:none\\\" points=\\\"\\n  2291.32,1487.47 2291.32,47.2441 \\n  \\\"\\/>\\n<polyline clip-path=\\\"url(#clip8302)\\\" style=\\\"stroke:#000000; stroke-width:2; stroke-opacity:0.1; fill:none\\\" points=\\\"\\n  182.008,1465.08 2352.76,1465.08 \\n  \\\"\\/>\\n<polyline clip-path=\\\"url(#clip8302)\\\" style=\\\"stroke:#000000; stroke-width:2; stroke-opacity:0.1; fill:none\\\" points=\\\"\\n  182.008,1120.68 2352.76,1120.68 \\n  \\\"\\/>\\n<polyline clip-path=\\\"url(#clip8302)\\\" style=\\\"stroke:#000000; stroke-width:2; stroke-opacity:0.1; fill:none\\\" points=\\\"\\n  182.008,776.277 2352.76,776.277 \\n  \\\"\\/>\\n<polyline clip-path=\\\"url(#clip8302)\\\" style=\\\"stroke:#000000; stroke-width:2; stroke-opacity:0.1; fill:none\\\" points=\\\"\\n  182.008,431.876 2352.76,431.876 \\n  \\\"\\/>\\n<polyline clip-path=\\\"url(#clip8302)\\\" style=\\\"stroke:#000000; stroke-width:2; stroke-opacity:0.1; fill:none\\\" points=\\\"\\n  182.008,87.474 2352.76,87.474 \\n  \\\"\\/>\\n<polyline clip-path=\\\"url(#clip8300)\\\" style=\\\"stroke:#000000; stroke-width:4; stroke-opacity:1; fill:none\\\" points=\\\"\\n  182.008,1487.47 2352.76,1487.47 \\n  \\\"\\/>\\n<polyline clip-path=\\\"url(#clip8300)\\\" style=\\\"stroke:#000000; stroke-width:4; stroke-opacity:1; fill:none\\\" points=\\\"\\n  182.008,1487.47 182.008,47.2441 \\n  \\\"\\/>\\n<polyline clip-path=\\\"url(#clip8300)\\\" style=\\\"stroke:#000000; stroke-width:4; stroke-opacity:1; fill:none\\\" points=\\\"\\n  243.444,1487.47 243.444,1465.87 \\n  \\\"\\/>\\n<polyline clip-path=\\\"url(#clip8300)\\\" style=\\\"stroke:#000000; stroke-width:4; stroke-opacity:1; fill:none\\\" points=\\\"\\n  926.069,1487.47 926.069,1465.87 \\n  \\\"\\/>\\n<polyline clip-path=\\\"url(#clip8300)\\\" style=\\\"stroke:#000000; stroke-width:4; stroke-opacity:1; fill:none\\\" points=\\\"\\n  1608.69,1487.47 1608.69,1465.87 \\n  \\\"\\/>\\n<polyline clip-path=\\\"url(#clip8300)\\\" style=\\\"stroke:#000000; stroke-width:4; stroke-opacity:1; fill:none\\\" points=\\\"\\n  2291.32,1487.47 2291.32,1465.87 \\n  \\\"\\/>\\n<polyline clip-path=\\\"url(#clip8300)\\\" style=\\\"stroke:#000000; stroke-width:4; stroke-opacity:1; fill:none\\\" points=\\\"\\n  182.008,1465.08 214.569,1465.08 \\n  \\\"\\/>\\n<polyline clip-path=\\\"url(#clip8300)\\\" style=\\\"stroke:#000000; stroke-width:4; stroke-opacity:1; fill:none\\\" points=\\\"\\n  182.008,1120.68 214.569,1120.68 \\n  \\\"\\/>\\n<polyline clip-path=\\\"url(#clip8300)\\\" style=\\\"stroke:#000000; stroke-width:4; stroke-opacity:1; fill:none\\\" points=\\\"\\n  182.008,776.277 214.569,776.277 \\n  \\\"\\/>\\n<polyline clip-path=\\\"url(#clip8300)\\\" style=\\\"stroke:#000000; stroke-width:4; stroke-opacity:1; fill:none\\\" points=\\\"\\n  182.008,431.876 214.569,431.876 \\n  \\\"\\/>\\n<polyline clip-path=\\\"url(#clip8300)\\\" style=\\\"stroke:#000000; stroke-width:4; stroke-opacity:1; fill:none\\\" points=\\\"\\n  182.008,87.474 214.569,87.474 \\n  \\\"\\/>\\n<g clip-path=\\\"url(#clip8300)\\\">\\n<text style=\\\"fill:#000000; fill-opacity:1; font-family:Arial,Helvetica Neue,Helvetica,sans-serif; font-size:48px; text-anchor:middle;\\\" transform=\\\"rotate(0, 243.444, 1541.47)\\\" x=\\\"243.444\\\" y=\\\"1541.47\\\">0<\\/text>\\n<\\/g>\\n<g clip-path=\\\"url(#clip8300)\\\">\\n<text style=\\\"fill:#000000; fill-opacity:1; font-family:Arial,Helvetica Neue,Helvetica,sans-serif; font-size:48px; text-anchor:middle;\\\" transform=\\\"rotate(0, 926.069, 1541.47)\\\" x=\\\"926.069\\\" y=\\\"1541.47\\\">10<\\/text>\\n<\\/g>\\n<g clip-path=\\\"url(#clip8300)\\\">\\n<text style=\\\"fill:#000000; fill-opacity:1; font-family:Arial,Helvetica Neue,Helvetica,sans-serif; font-size:48px; text-anchor:middle;\\\" transform=\\\"rotate(0, 1608.69, 1541.47)\\\" x=\\\"1608.69\\\" y=\\\"1541.47\\\">20<\\/text>\\n<\\/g>\\n<g clip-path=\\\"url(#clip8300)\\\">\\n<text style=\\\"fill:#000000; fill-opacity:1; font-family:Arial,Helvetica Neue,Helvetica,sans-serif; font-size:48px; text-anchor:middle;\\\" transform=\\\"rotate(0, 2291.32, 1541.47)\\\" x=\\\"2291.32\\\" y=\\\"1541.47\\\">30<\\/text>\\n<\\/g>\\n<g clip-path=\\\"url(#clip8300)\\\">\\n<text style=\\\"fill:#000000; fill-opacity:1; font-family:Arial,Helvetica Neue,Helvetica,sans-serif; font-size:48px; text-anchor:end;\\\" transform=\\\"rotate(0, 158.008, 1482.58)\\\" x=\\\"158.008\\\" y=\\\"1482.58\\\">-1.0<\\/text>\\n<\\/g>\\n<g clip-path=\\\"url(#clip8300)\\\">\\n<text style=\\\"fill:#000000; fill-opacity:1; font-family:Arial,Helvetica Neue,Helvetica,sans-serif; font-size:48px; text-anchor:end;\\\" transform=\\\"rotate(0, 158.008, 1138.18)\\\" x=\\\"158.008\\\" y=\\\"1138.18\\\">-0.5<\\/text>\\n<\\/g>\\n<g clip-path=\\\"url(#clip8300)\\\">\\n<text style=\\\"fill:#000000; fill-opacity:1; font-family:Arial,Helvetica Neue,Helvetica,sans-serif; font-size:48px; text-anchor:end;\\\" transform=\\\"rotate(0, 158.008, 793.777)\\\" x=\\\"158.008\\\" y=\\\"793.777\\\">0.0<\\/text>\\n<\\/g>\\n<g clip-path=\\\"url(#clip8300)\\\">\\n<text style=\\\"fill:#000000; fill-opacity:1; font-family:Arial,Helvetica Neue,Helvetica,sans-serif; font-size:48px; text-anchor:end;\\\" transform=\\\"rotate(0, 158.008, 449.376)\\\" x=\\\"158.008\\\" y=\\\"449.376\\\">0.5<\\/text>\\n<\\/g>\\n<g clip-path=\\\"url(#clip8300)\\\">\\n<text style=\\\"fill:#000000; fill-opacity:1; font-family:Arial,Helvetica Neue,Helvetica,sans-serif; font-size:48px; text-anchor:end;\\\" transform=\\\"rotate(0, 158.008, 104.974)\\\" x=\\\"158.008\\\" y=\\\"104.974\\\">1.0<\\/text>\\n<\\/g>\\n<polyline clip-path=\\\"url(#clip8302)\\\" style=\\\"stroke:#009af9; stroke-width:4; stroke-opacity:1; fill:none\\\" points=\\\"\\n  243.444,776.277 250.271,744.833 257.097,674.297 263.923,622.295 270.749,646.179 277.576,766.634 284.402,948.801 291.228,1112.42 298.054,1167.99 304.881,1062.47 \\n  311.707,811.891 318.533,503.486 325.359,263.444 332.186,203.006 339.012,366.645 345.838,706.558 352.664,1096.78 359.491,1382.66 366.317,1445.31 373.143,1253 \\n  379.969,876.738 386.796,462.459 393.622,171.323 400.448,113.615 407.274,304.539 414.101,660.493 420.927,1036.6 427.753,1288.34 434.579,1330.21 441.406,1166.49 \\n  448.232,882.357 455.058,601.479 461.884,430.769 468.711,417.328 475.537,535.829 482.363,709.494 489.189,852.225 496.016,910.341 502.842,883.96 509.668,819.068 \\n  516.494,776.277 523.321,793.701 530.147,863.879 536.973,937.075 543.799,949.456 550.626,861.527 557.452,686.358 564.278,491.548 571.104,371.688 577.931,403.044 \\n  584.757,602.001 591.583,908.433 598.409,1204.38 605.236,1361.98 612.062,1300.37 618.888,1025.57 625.714,634.289 632.541,277.769 639.367,100.09 646.193,177.211 \\n  653.019,483.442 659.846,900.489 666.672,1265.68 673.498,1438.83 680.324,1359.12 687.151,1067.71 693.977,687.419 700.803,369.001 707.629,228.38 714.456,301.839 \\n  721.282,537.531 728.108,824.809 734.934,1046.18 741.761,1127.49 748.587,1064.19 755.413,913.805 762.239,760.942 769.066,673.538 775.892,672.055 782.718,725.781 \\n  789.544,776.277 796.371,774.358 803.197,710.509 810.023,622.345 816.849,574.754 823.676,622.675 830.502,775.941 837.328,985.369 844.154,1159.32 850.981,1204.8 \\n  857.807,1074.39 864.633,796.002 871.459,469.338 878.286,227.973 885.112,182.323 891.938,368.627 898.764,727.675 905.591,1124.49 912.417,1402.08 919.243,1446.71 \\n  926.069,1236.57 932.896,852.242 939.722,444.072 946.548,170.2 953.374,131.929 960.201,333.987 967.027,686.113 973.853,1044.12 980.679,1271.52 987.506,1294.57 \\n  994.332,1127.38 1001.16,858.142 1007.98,604.942 1014.81,462.677 1021.64,465.395 1028.46,579.708 1035.29,729.696 1042.12,838.95 1048.94,868.171 1055.77,830.182 \\n  1062.59,776.277 1069.42,762.529 1076.25,814.616 1083.07,910.246 1089.9,988.999 1096.73,985.162 1103.55,866.84 1110.38,660.614 1117.2,447.379 1124.03,328.936 \\n  1130.86,379.698 1137.68,606.351 1144.51,935.941 1151.34,1240.53 1158.16,1389.56 1164.99,1307.6 1171.81,1011.34 1178.64,607.98 1185.47,254.101 1192.29,91.5174 \\n  1199.12,187.692 1205.95,506.6 1212.77,923.021 1219.6,1274.3 1226.42,1427.31 1233.25,1331.79 1240.08,1037.79 1246.9,670.663 1253.73,375.825 1260.56,258.232 \\n  1267.38,342.7 1274.21,570.983 1281.03,834.465 1287.86,1025.58 1294.69,1083.68 1301.51,1015.16 1308.34,880.813 1315.17,759.004 1321.99,704.531 1328.82,723.551 \\n  1335.64,776.277 1342.47,804.523 1349.3,768.63 1356.12,673.671 1362.95,570.457 1369.78,529.883 1376.6,603.193 1383.43,788.671 1390.25,1023.05 1397.08,1204.38 \\n  1403.91,1237.58 1410.73,1081.95 1417.56,777.476 1424.39,435.585 1431.21,195.853 1438.04,166.488 1444.86,374.763 1451.69,750.335 1458.52,1150.39 1465.34,1417.1 \\n  1472.17,1443.07 1479,1216.72 1485.82,827.481 1492.65,428.675 1499.47,173.958 1506.3,154.812 1513.13,365.663 1519.95,710.679 1526.78,1047.86 1533.61,1250 \\n  1540.43,1255.44 1547.26,1087.53 1554.08,836.188 1560.91,612.489 1567.74,498.519 1574.56,515.4 1581.39,622.683 1588.22,746.681 1595.04,821.772 1601.87,823.34 \\n  1608.69,776.277 1615.52,735.937 1622.35,752.583 1629.17,838.79 1636,957.683 1642.83,1039.22 1649.65,1017.16 1656.48,868.209 1663.3,632.63 1670.13,403.841 \\n  1676.96,289.5 1683.78,360.872 1690.61,614.319 1697.44,964.425 1704.26,1274.46 1711.09,1412.65 1717.91,1310.08 1724.74,994.252 1731.57,582.053 1738.39,233.924 \\n  1745.22,88.0053 1752.05,202.543 1758.87,531.482 1765.7,943.878 1772.52,1278.64 1779.35,1410.82 1786.18,1301.05 1793,1007.51 1799.83,656.664 1806.66,387.19 \\n  1813.48,292.297 1820.31,385.542 1827.13,603.366 1833.96,840.617 1840.79,1000.76 1847.61,1036.95 1854.44,965.862 1861.27,850.224 1868.09,760.906 1874.92,738.884 \\n  1881.74,776.277 1888.57,825.279 1895.4,829.297 1902.22,759.176 1909.05,634.721 1915.88,519.167 1922.7,488.101 1929.53,587.844 1936.35,804.579 1943.18,1061.36 \\n  1950.01,1247.11 1956.83,1266.07 1963.66,1085.21 1970.49,756.684 1977.31,402.727 1984.14,167.475 1990.96,155.6 1997.79,384.817 2004.62,774.083 2011.44,1174.02 \\n  2018.27,1427.46 2025.1,1434.48 2031.92,1193.83 2038.75,802.939 2045.57,416.624 2052.4,182.653 2059.23,181.992 2066.05,399.092 2072.88,733.739 2079.71,1047.63 \\n  2086.53,1223.89 2093.36,1213.24 2100.18,1047.48 2107.01,816.861 2113.84,624.166 2120.66,537.993 2127.49,566.834 2134.32,664.271 2141.14,760.218 2147.97,800.82 \\n  2154.79,776.277 2161.62,722.783 2168.45,698.443 2175.27,746.511 2182.1,865.939 2188.93,1005.68 2195.75,1087.23 2202.58,1045.18 2209.4,865.73 2216.23,602.808 \\n  2223.06,361.451 2229.88,253.769 2236.71,346.648 2243.54,625.649 2250.36,993.412 2257.19,1305.71 2264.01,1431.02 2270.84,1307.92 2277.67,974.703 2284.49,556.993 \\n  2291.32,217.588 \\n  \\\"\\/>\\n<polygon clip-path=\\\"url(#clip8300)\\\" points=\\\"\\n1989.93,251.724 2280.76,251.724 2280.76,130.764 1989.93,130.764 \\n  \\\" fill=\\\"#ffffff\\\" fill-rule=\\\"evenodd\\\" fill-opacity=\\\"1\\\"\\/>\\n<polyline clip-path=\\\"url(#clip8300)\\\" style=\\\"stroke:#000000; stroke-width:4; stroke-opacity:1; fill:none\\\" points=\\\"\\n  1989.93,251.724 2280.76,251.724 2280.76,130.764 1989.93,130.764 1989.93,251.724 \\n  \\\"\\/>\\n<polyline clip-path=\\\"url(#clip8300)\\\" style=\\\"stroke:#009af9; stroke-width:4; stroke-opacity:1; fill:none\\\" points=\\\"\\n  2013.93,191.244 2157.93,191.244 \\n  \\\"\\/>\\n<g clip-path=\\\"url(#clip8300)\\\">\\n<text style=\\\"fill:#000000; fill-opacity:1; font-family:Arial,Helvetica Neue,Helvetica,sans-serif; font-size:48px; text-anchor:start;\\\" transform=\\\"rotate(0, 2181.93, 208.744)\\\" x=\\\"2181.93\\\" y=\\\"208.744\\\">y1<\\/text>\\n<\\/g>\\n<\\/svg>\\n\"},\"nodeType\":\"DOM\",\"type\":\"node\",\"instanceArgs\":{\"namespace\":\"html\",\"tag\":\"div\"},\"children\":[]}]}}}},\"children\":[{\"props\":{},\"nodeType\":\"ObservableNode\",\"type\":\"node\",\"instanceArgs\":{\"id\":\"ob_28\",\"name\":\"obs-node\"},\"children\":[]}]}]},\n",
       "            window,\n",
       "        );\n",
       "    } else {\n",
       "        document\n",
       "            .querySelector('[data-webio-mountpoint=\"16725123394040069886\"]')\n",
       "            .innerHTML = '<strong>WebIO not detected.</strong>';\n",
       "    }\n",
       "    </script>\n",
       "</div>\n"
      ],
      "text/plain": [
       "Node{WebIO.DOM}(WebIO.DOM(:html, :div), Any[Scope(\"knockout-component-77069df9-b26c-4339-84c8-42ffdc3bcfb9\", Node{DOM}(DOM(:html, :div), Any[Node{DOM}(DOM(:html, :div), Any[Node{DOM}(DOM(:html, :label), Any[\"freq1\"], Dict{Symbol,Any}(:className=>\"interact \",:style=>Dict{Any,Any}(:padding=>\"5px 10px 0px 10px\")), 1)], Dict{Symbol,Any}(:className=>\"interact-flex-row-left\"), 2), Node{DOM}(DOM(:html, :div), Any[Node{DOM}(DOM(:html, :div), Any[Node{DOM}(DOM(:html, :span), Any[Node{DOM}(DOM(:html, :label), Any[], Dict{Symbol,Any}(:attributes=>Dict(\"data-bind\"=>\"text : key\")), 0)], Dict{Symbol,Any}(:attributes=>Dict(\"data-bind\"=>\"click: function (){\\$root.update(val)}, css: {'is-primary is-selected' : \\$root.index() == val, 'interact-widget button ' : true}\")), 1)], Dict{Symbol,Any}(:attributes=>(\"data-bind\"=>\"foreach : options_js\"),:className=>\"buttons has-addons is-centered\"), 2)], Dict{Symbol,Any}(:className=>\"interact-flex-row-center\"), 3), Node{DOM}(DOM(:html, :div), Any[Node{DOM}(DOM(:html, :div), Any[], Dict{Symbol,Any}(), 0)], Dict{Symbol,Any}(:className=>\"interact-flex-row-right\"), 1)], Dict{Symbol,Any}(:className=>\"interact-flex-row interact-widget\"), 9), Dict{String,Tuple{Observables.AbstractObservable,Union{Nothing, Bool}}}(\"options_js\"=>(Observable{Any} with 1 listeners. Value:\n",
       "OrderedDict[OrderedDict{String,Any}(\"key\"=>\"pi/4\",\"val\"=>1,\"id\"=>\"idqHbHGqBH\"), OrderedDict{String,Any}(\"key\"=>\"π/2\",\"val\"=>2,\"id\"=>\"idAXCAjT0S\"), OrderedDict{String,Any}(\"key\"=>\"3π/4\",\"val\"=>3,\"id\"=>\"idq2T784f9\"), OrderedDict{String,Any}(\"key\"=>\"π\",\"val\"=>4,\"id\"=>\"idyTsSdOWM\")], nothing),\"index\"=>(Observable{Any} with 2 listeners. Value:\n",
       "1, nothing)), Set(String[]), nothing, Asset[Asset(\"js\", \"knockout\", \"/home/roels/.julia/packages/Knockout/JE2Yq/src/../assets/knockout.js\"), Asset(\"js\", \"knockout_punches\", \"/home/roels/.julia/packages/Knockout/JE2Yq/src/../assets/knockout_punches.js\"), Asset(\"js\", nothing, \"/home/roels/.julia/packages/InteractBase/R8JgH/src/../assets/all.js\"), Asset(\"css\", nothing, \"/home/roels/.julia/packages/InteractBase/R8JgH/src/../assets/style.css\"), Asset(\"css\", nothing, \"/home/roels/.julia/packages/Interact/0klKX/src/../assets/bulma_confined.min.css\")], Dict{Any,Any}(\"options_js\"=>Any[JSString(\"(function (val){return (val!=this.model[\\\"options_js\\\"]()) ? (this.valueFromJulia[\\\"options_js\\\"]=true, this.model[\\\"options_js\\\"](val)) : undefined})\")],\"index\"=>Any[JSString(\"(function (val){return (val!=this.model[\\\"index\\\"]()) ? (this.valueFromJulia[\\\"index\\\"]=true, this.model[\\\"index\\\"](val)) : undefined})\")]), ConnectionPool(Channel{Any}(sz_max:9223372036854775807,sz_curr:0), Set(AbstractConnection[]), Channel{AbstractConnection}(sz_max:32,sz_curr:0)), WebIO.JSString[JSString(\"function () {\\n    var handler = (function (ko, koPunches) {\\n    ko.punches.enableAll();\\n    ko.bindingHandlers.numericValue = {\\n        init : function(element, valueAccessor, allBindings, data, context) {\\n            var stringified = ko.observable(ko.unwrap(valueAccessor()));\\n            stringified.subscribe(function(value) {\\n                var val = parseFloat(value);\\n                if (!isNaN(val)) {\\n                    valueAccessor()(val);\\n                }\\n            })\\n            valueAccessor().subscribe(function(value) {\\n                var str = JSON.stringify(value);\\n                if ((str == \\\"0\\\") && ([\\\"-0\\\", \\\"-0.\\\"].indexOf(stringified()) >= 0))\\n                     return;\\n                 if ([\\\"null\\\", \\\"\\\"].indexOf(str) >= 0)\\n                     return;\\n                stringified(str);\\n            })\\n            ko.applyBindingsToNode(element, { value: stringified, valueUpdate: allBindings.get('valueUpdate')}, context);\\n        }\\n    };\\n    var json_data = {\\\"options_js\\\":WebIO.getval({\\\"name\\\":\\\"options_js\\\",\\\"scope\\\":\\\"knockout-component-77069df9-b26c-4339-84c8-42ffdc3bcfb9\\\",\\\"id\\\":\\\"ob_21\\\",\\\"type\\\":\\\"observable\\\"}),\\\"index\\\":WebIO.getval({\\\"name\\\":\\\"index\\\",\\\"scope\\\":\\\"knockout-component-77069df9-b26c-4339-84c8-42ffdc3bcfb9\\\",\\\"id\\\":\\\"ob_20\\\",\\\"type\\\":\\\"observable\\\"})};\\n    var self = this;\\n    function AppViewModel() {\\n        for (var key in json_data) {\\n            var el = json_data[key];\\n            this[key] = Array.isArray(el) ? ko.observableArray(el) : ko.observable(el);\\n        }\\n        [this[\\\"update\\\"]=function (val) {this.index(val)}]\\n        \\n        [this[\\\"options_js\\\"].subscribe((function (val){!(this.valueFromJulia[\\\"options_js\\\"]) ? (WebIO.setval({\\\"name\\\":\\\"options_js\\\",\\\"scope\\\":\\\"knockout-component-77069df9-b26c-4339-84c8-42ffdc3bcfb9\\\",\\\"id\\\":\\\"ob_21\\\",\\\"type\\\":\\\"observable\\\"},val)) : undefined; return this.valueFromJulia[\\\"options_js\\\"]=false}),self),this[\\\"index\\\"].subscribe((function (val){!(this.valueFromJulia[\\\"index\\\"]) ? (WebIO.setval({\\\"name\\\":\\\"index\\\",\\\"scope\\\":\\\"knockout-component-77069df9-b26c-4339-84c8-42ffdc3bcfb9\\\",\\\"id\\\":\\\"ob_20\\\",\\\"type\\\":\\\"observable\\\"},val)) : undefined; return this.valueFromJulia[\\\"index\\\"]=false}),self)]\\n        \\n    }\\n    self.model = new AppViewModel();\\n    self.valueFromJulia = {};\\n    for (var key in json_data) {\\n        self.valueFromJulia[key] = false;\\n    }\\n    ko.applyBindings(self.model, self.dom);\\n}\\n);\\n    (WebIO.importBlock({\\\"data\\\":[{\\\"name\\\":\\\"knockout\\\",\\\"type\\\":\\\"js\\\",\\\"url\\\":\\\"/assetserver/4c46bb451382581706b9774f056ff0eb033730d2-knockout.js\\\"},{\\\"name\\\":\\\"knockout_punches\\\",\\\"type\\\":\\\"js\\\",\\\"url\\\":\\\"/assetserver/7703eb33282eba33804997c61d1d289632fc7ddf-knockout_punches.js\\\"}],\\\"type\\\":\\\"async_block\\\"})).then((imports) => handler.apply(this, imports));\\n}\\n\")]), Node{DOM}(DOM(:html, :div), Any[Scope(\"knockout-component-1c2406d4-28aa-4e00-950f-2c9a55faf03c\", Node{DOM}(DOM(:html, :div), Any[Node{DOM}(DOM(:html, :div), Any[Node{DOM}(DOM(:html, :label), Any[\"freq2\"], Dict{Symbol,Any}(:className=>\"interact \",:style=>Dict{Any,Any}(:padding=>\"5px 10px 0px 10px\")), 1)], Dict{Symbol,Any}(:className=>\"interact-flex-row-left\"), 2), Node{DOM}(DOM(:html, :div), Any[Node{DOM}(DOM(:html, :input), Any[], Dict{Symbol,Any}(:max=>126,:min=>1,:attributes=>Dict{Any,Any}(:type=>\"range\",Symbol(\"data-bind\")=>\"numericValue: index, valueUpdate: 'input', event: {change: function (){this.changes(this.changes()+1)}}\",\"orient\"=>\"horizontal\"),:step=>1,:className=>\"slider slider is-fullwidth\",:style=>Dict{Any,Any}()), 0)], Dict{Symbol,Any}(:className=>\"interact-flex-row-center\"), 1), Node{DOM}(DOM(:html, :div), Any[Node{DOM}(DOM(:html, :p), Any[], Dict{Symbol,Any}(:attributes=>Dict(\"data-bind\"=>\"text: formatted_val\")), 0)], Dict{Symbol,Any}(:className=>\"interact-flex-row-right\"), 1)], Dict{Symbol,Any}(:className=>\"interact-flex-row interact-widget\"), 7), Dict{String,Tuple{Observables.AbstractObservable,Union{Nothing, Bool}}}(\"changes\"=>(Observable{Int64} with 1 listeners. Value:\n",
       "0, nothing),\"index\"=>(Observable{Any} with 2 listeners. Value:\n",
       "63, nothing)), Set(String[]), nothing, Asset[Asset(\"js\", \"knockout\", \"/home/roels/.julia/packages/Knockout/JE2Yq/src/../assets/knockout.js\"), Asset(\"js\", \"knockout_punches\", \"/home/roels/.julia/packages/Knockout/JE2Yq/src/../assets/knockout_punches.js\"), Asset(\"js\", nothing, \"/home/roels/.julia/packages/InteractBase/R8JgH/src/../assets/all.js\"), Asset(\"css\", nothing, \"/home/roels/.julia/packages/InteractBase/R8JgH/src/../assets/style.css\"), Asset(\"css\", nothing, \"/home/roels/.julia/packages/Interact/0klKX/src/../assets/bulma_confined.min.css\")], Dict{Any,Any}(\"changes\"=>Any[JSString(\"(function (val){return (val!=this.model[\\\"changes\\\"]()) ? (this.valueFromJulia[\\\"changes\\\"]=true, this.model[\\\"changes\\\"](val)) : undefined})\")],\"index\"=>Any[JSString(\"(function (val){return (val!=this.model[\\\"index\\\"]()) ? (this.valueFromJulia[\\\"index\\\"]=true, this.model[\\\"index\\\"](val)) : undefined})\")]), ConnectionPool(Channel{Any}(sz_max:9223372036854775807,sz_curr:0), Set(AbstractConnection[]), Channel{AbstractConnection}(sz_max:32,sz_curr:0)), WebIO.JSString[JSString(\"function () {\\n    var handler = (function (ko, koPunches) {\\n    ko.punches.enableAll();\\n    ko.bindingHandlers.numericValue = {\\n        init : function(element, valueAccessor, allBindings, data, context) {\\n            var stringified = ko.observable(ko.unwrap(valueAccessor()));\\n            stringified.subscribe(function(value) {\\n                var val = parseFloat(value);\\n                if (!isNaN(val)) {\\n                    valueAccessor()(val);\\n                }\\n            })\\n            valueAccessor().subscribe(function(value) {\\n                var str = JSON.stringify(value);\\n                if ((str == \\\"0\\\") && ([\\\"-0\\\", \\\"-0.\\\"].indexOf(stringified()) >= 0))\\n                     return;\\n                 if ([\\\"null\\\", \\\"\\\"].indexOf(str) >= 0)\\n                     return;\\n                stringified(str);\\n            })\\n            ko.applyBindingsToNode(element, { value: stringified, valueUpdate: allBindings.get('valueUpdate')}, context);\\n        }\\n    };\\n    var json_data = {\\\"formatted_vals\\\":[\\\"0.01\\\",\\\"0.11\\\",\\\"0.21\\\",\\\"0.31\\\",\\\"0.41\\\",\\\"0.51\\\",\\\"0.61\\\",\\\"0.71\\\",\\\"0.81\\\",\\\"0.91\\\",\\\"1.01\\\",\\\"1.11\\\",\\\"1.21\\\",\\\"1.31\\\",\\\"1.41\\\",\\\"1.51\\\",\\\"1.61\\\",\\\"1.71\\\",\\\"1.81\\\",\\\"1.91\\\",\\\"2.01\\\",\\\"2.11\\\",\\\"2.21\\\",\\\"2.31\\\",\\\"2.41\\\",\\\"2.51\\\",\\\"2.61\\\",\\\"2.71\\\",\\\"2.81\\\",\\\"2.91\\\",\\\"3.01\\\",\\\"3.11\\\",\\\"3.21\\\",\\\"3.31\\\",\\\"3.41\\\",\\\"3.51\\\",\\\"3.61\\\",\\\"3.71\\\",\\\"3.81\\\",\\\"3.91\\\",\\\"4.01\\\",\\\"4.11\\\",\\\"4.21\\\",\\\"4.31\\\",\\\"4.41\\\",\\\"4.51\\\",\\\"4.61\\\",\\\"4.71\\\",\\\"4.81\\\",\\\"4.91\\\",\\\"5.01\\\",\\\"5.11\\\",\\\"5.21\\\",\\\"5.31\\\",\\\"5.41\\\",\\\"5.51\\\",\\\"5.61\\\",\\\"5.71\\\",\\\"5.81\\\",\\\"5.91\\\",\\\"6.01\\\",\\\"6.11\\\",\\\"6.21\\\",\\\"6.31\\\",\\\"6.41\\\",\\\"6.51\\\",\\\"6.61\\\",\\\"6.71\\\",\\\"6.81\\\",\\\"6.91\\\",\\\"7.01\\\",\\\"7.11\\\",\\\"7.21\\\",\\\"7.31\\\",\\\"7.41\\\",\\\"7.51\\\",\\\"7.61\\\",\\\"7.71\\\",\\\"7.81\\\",\\\"7.91\\\",\\\"8.01\\\",\\\"8.11\\\",\\\"8.21\\\",\\\"8.31\\\",\\\"8.41\\\",\\\"8.51\\\",\\\"8.61\\\",\\\"8.71\\\",\\\"8.81\\\",\\\"8.91\\\",\\\"9.01\\\",\\\"9.11\\\",\\\"9.21\\\",\\\"9.31\\\",\\\"9.41\\\",\\\"9.51\\\",\\\"9.61\\\",\\\"9.71\\\",\\\"9.81\\\",\\\"9.91\\\",\\\"10.01\\\",\\\"10.11\\\",\\\"10.21\\\",\\\"10.31\\\",\\\"10.41\\\",\\\"10.51\\\",\\\"10.61\\\",\\\"10.71\\\",\\\"10.81\\\",\\\"10.91\\\",\\\"11.01\\\",\\\"11.11\\\",\\\"11.21\\\",\\\"11.31\\\",\\\"11.41\\\",\\\"11.51\\\",\\\"11.61\\\",\\\"11.71\\\",\\\"11.81\\\",\\\"11.91\\\",\\\"12.01\\\",\\\"12.11\\\",\\\"12.21\\\",\\\"12.31\\\",\\\"12.41\\\",\\\"12.51\\\"],\\\"changes\\\":WebIO.getval({\\\"name\\\":\\\"changes\\\",\\\"scope\\\":\\\"knockout-component-1c2406d4-28aa-4e00-950f-2c9a55faf03c\\\",\\\"id\\\":\\\"ob_24\\\",\\\"type\\\":\\\"observable\\\"}),\\\"index\\\":WebIO.getval({\\\"name\\\":\\\"index\\\",\\\"scope\\\":\\\"knockout-component-1c2406d4-28aa-4e00-950f-2c9a55faf03c\\\",\\\"id\\\":\\\"ob_23\\\",\\\"type\\\":\\\"observable\\\"})};\\n    var self = this;\\n    function AppViewModel() {\\n        for (var key in json_data) {\\n            var el = json_data[key];\\n            this[key] = Array.isArray(el) ? ko.observableArray(el) : ko.observable(el);\\n        }\\n        \\n        [this[\\\"formatted_val\\\"]=ko.computed(    function(){\\n        return this.formatted_vals()[parseInt(this.index())-1];\\n    }\\n,this)]\\n        [this[\\\"changes\\\"].subscribe((function (val){!(this.valueFromJulia[\\\"changes\\\"]) ? (WebIO.setval({\\\"name\\\":\\\"changes\\\",\\\"scope\\\":\\\"knockout-component-1c2406d4-28aa-4e00-950f-2c9a55faf03c\\\",\\\"id\\\":\\\"ob_24\\\",\\\"type\\\":\\\"observable\\\"},val)) : undefined; return this.valueFromJulia[\\\"changes\\\"]=false}),self),this[\\\"index\\\"].subscribe((function (val){!(this.valueFromJulia[\\\"index\\\"]) ? (WebIO.setval({\\\"name\\\":\\\"index\\\",\\\"scope\\\":\\\"knockout-component-1c2406d4-28aa-4e00-950f-2c9a55faf03c\\\",\\\"id\\\":\\\"ob_23\\\",\\\"type\\\":\\\"observable\\\"},val)) : undefined; return this.valueFromJulia[\\\"index\\\"]=false}),self)]\\n        \\n    }\\n    self.model = new AppViewModel();\\n    self.valueFromJulia = {};\\n    for (var key in json_data) {\\n        self.valueFromJulia[key] = false;\\n    }\\n    ko.applyBindings(self.model, self.dom);\\n}\\n);\\n    (WebIO.importBlock({\\\"data\\\":[{\\\"name\\\":\\\"knockout\\\",\\\"type\\\":\\\"js\\\",\\\"url\\\":\\\"/assetserver/4c46bb451382581706b9774f056ff0eb033730d2-knockout.js\\\"},{\\\"name\\\":\\\"knockout_punches\\\",\\\"type\\\":\\\"js\\\",\\\"url\\\":\\\"/assetserver/7703eb33282eba33804997c61d1d289632fc7ddf-knockout_punches.js\\\"}],\\\"type\\\":\\\"async_block\\\"})).then((imports) => handler.apply(this, imports));\\n}\\n\")])], Dict{Symbol,Any}(:className=>\"field interact-widget\"), 1), Observable{Any} with 0 listeners. Value:\n",
       "Node{DOM}(DOM(:html, :div), Any[Plot{Plots.GRBackend() n=1}], Dict{Symbol,Any}(:className=>\"interact-flex-row interact-widget\"), 1)], Dict{Symbol,Any}(), 3)"
      ]
     },
     "execution_count": 5,
     "metadata": {
      "application/vnd.webio.node+json": {
       "kernelId": "8f0f174b-759f-4edf-93e9-4b71624677ac"
      }
     },
     "output_type": "execute_result"
    }
   ],
   "source": [
    "using Plots\n",
    "\n",
    "x = y = 0:0.1:30\n",
    "\n",
    "freqs = OrderedDict(zip([\"pi/4\", \"π/2\", \"3π/4\", \"π\"], [π/4, π/2, 3π/4, π]))\n",
    "\n",
    "mp = @manipulate for freq1 in freqs, freq2 in slider(0.01:0.1:4π; label=\"freq2\")\n",
    "    y = @. sin(freq1*x) * sin(freq2*x)\n",
    "    plot(x, y)\n",
    "end"
   ]
  }
 ],
 "metadata": {
  "@webio": {
   "lastCommId": "61e67b0298794beea1f50b8214574042",
   "lastKernelId": "8f0f174b-759f-4edf-93e9-4b71624677ac"
  },
  "kernelspec": {
   "display_name": "Julia 1.0.0",
   "language": "julia",
   "name": "julia-1.0"
  },
  "language_info": {
   "file_extension": ".jl",
   "mimetype": "application/julia",
   "name": "julia",
   "version": "1.0.0"
  }
 },
 "nbformat": 4,
 "nbformat_minor": 2
}
