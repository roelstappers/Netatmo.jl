{
 "cells": [
  {
   "cell_type": "code",
   "execution_count": 6,
   "metadata": {},
   "outputs": [],
   "source": [
    "push!(LOAD_PATH,\"/media/roels/_disk2/git/netatmo\")\n",
    "using Interact, Plots, Dates, DataFrames, Netatmo, LinearAlgebra, IterativeSolvers"
   ]
  },
  {
   "cell_type": "markdown",
   "metadata": {},
   "source": [
    "#  Quality control using Gaussian process regression. "
   ]
  },
  {
   "cell_type": "code",
   "execution_count": 2,
   "metadata": {},
   "outputs": [],
   "source": [
    "dtg       = DateTime(2018,5,10,0)\n",
    "period    = Hour(24)\n",
    "timerange = dtg:Minute(10):dtg + period\n",
    "latrange  = 59.9:0.01:60  \n",
    "lonrange  = 10.7:0.01:10.8\n",
    "df = Netatmo.read(timerange, latrange=latrange, lonrange=lonrange);"
   ]
  },
  {
   "cell_type": "code",
   "execution_count": 3,
   "metadata": {},
   "outputs": [],
   "source": [
    "groupbyid = groupby(df,:id);"
   ]
  },
  {
   "cell_type": "markdown",
   "metadata": {},
   "source": [
    "# Temporal Gaussian process regression  \n",
    "\n",
    "We use Gaussian process regression to compute the pressure anomaly as the difference between a smoothed surface pressure signal. \n",
    "The Squared exponential kernel is \n",
    "\n",
    "$$K_{se}(t_1,t_2) = \\exp \\left( - \\frac{ |t_1-t_2|^2 }{2 l^2} \\right) $$\n",
    "\n",
    "The Ornstein Uhlenbek kernel is \n",
    "\n",
    "$$K_{ou}(t_1,t_2) = \\exp \\left( - \\frac{|t_1-t_2| }{l} \\right) $$\n",
    "\n",
    "\n",
    "## Impact of length scales\n",
    "\n",
    "Try Lengthscale=24  in the $K_{se}$ kernel and see the  impact that the asssumed $\\sigma_o$ has on the anomaly at the the end of the time window. I.e. $\\sigma_o$ is more than just a regularization parameter. \n",
    "Check station 371 on 20180510"
   ]
  },
  {
   "cell_type": "code",
   "execution_count": 1,
   "metadata": {},
   "outputs": [
    {
     "ename": "UndefVarError",
     "evalue": "UndefVarError: groupbyid not defined",
     "output_type": "error",
     "traceback": [
      "UndefVarError: groupbyid not defined",
      "",
      "Stacktrace:",
      " [1] top-level scope at In[1]:3"
     ]
    }
   ],
   "source": [
    "lengthscales = 1:1:24 \n",
    "sigmaos = 0.0001:0.0001:0.001\n",
    "indices=1:length(groupbyid)\n",
    "\n",
    "mp = @manipulate for index in indices, sigmao  in sigmaos,  lt in slider(lengthscales; label=\"lengthscale\")     \n",
    "    s1 = groupbyid[index]\n",
    "    Kou(t1,t2) = exp(-1/2*abs(t1-t2)/(1000000*60*60*lt))   # Ornstein–Uhlenbeck\n",
    "    Kse(t1,t2) = exp(-1/2*(t1-t2)^2/(60*60*lt)^2)          # squared-exponential \n",
    "    K  = [Kse(t1,t2) for t1 in s1[:time_utc], t2 in s1[:time_utc] ] \n",
    "    # Ks = [rbf(t1,t2) for t1 in datetime2unix.(timerange),     t2 in s1[:time_utc] ]     \n",
    "    KpI = copy(K)  \n",
    "    KpI[diagind(KpI)] .= diag(KpI) .+ (sigmao)^2\n",
    "    timecg  = @elapsed q, cglog = cg(KpI,s1[:pressure],log=true)       \n",
    "    timenor = @elapsed q2 = KpI\\s1[:pressure]\n",
    "    \n",
    "    pshat2 = K* q2\n",
    "    pshat = K*q\n",
    "    #print(KpI-K)    \n",
    "    scatter(unix2datetime.(s1[:time_utc]),s1[:pressure],marker=:o,label=\"Ps\") #,xlims=(datetime2unix(timerange[1]),datetime2unix(timerange[end])))\n",
    "    # plot!(datetime2unix.(timerange),pshat)    \n",
    "    plot!(unix2datetime.(s1[:time_utc]),pshat,label=\"cg\")  \n",
    "    plot!(unix2datetime.(s1[:time_utc]),pshat2,label=\"nor\")  \n",
    "    \n",
    "    plot!(title = \"CG $cglog speedupfactor=$(round(timenor/timecg,digits=2))\")\n",
    "    plot!(legend=:bottomleft)\n",
    "    \n",
    "    # scatter(groupid[:][lat])\n",
    "    \n",
    "end"
   ]
  },
  {
   "cell_type": "code",
   "execution_count": 208,
   "metadata": {},
   "outputs": [],
   "source": [
    "latlons = unique(df[[:lon,:lat]]); # don't use scatter. Perhaps lea"
   ]
  },
  {
   "cell_type": "code",
   "execution_count": null,
   "metadata": {},
   "outputs": [],
   "source": []
  }
 ],
 "metadata": {
  "@webio": {
   "lastCommId": "883aa8e6f5cf4f3d9dd5f3c7c40b8bf0",
   "lastKernelId": "5a9e3635-084f-47f4-bcff-aa145c5e9653"
  },
  "kernelspec": {
   "display_name": "Julia 1.1.0",
   "language": "julia",
   "name": "julia-1.1"
  },
  "language_info": {
   "file_extension": ".jl",
   "mimetype": "application/julia",
   "name": "julia",
   "version": "1.1.0"
  }
 },
 "nbformat": 4,
 "nbformat_minor": 2
}
