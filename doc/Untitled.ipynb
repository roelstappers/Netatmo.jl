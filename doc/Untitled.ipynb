{
 "cells": [
  {
   "cell_type": "code",
   "execution_count": 4,
   "metadata": {},
   "outputs": [
    {
     "data": {
      "text/plain": [
       "7.0:0.01:8.0"
      ]
     },
     "execution_count": 4,
     "metadata": {},
     "output_type": "execute_result"
    }
   ],
   "source": [
    "push!(LOAD_PATH, \"/media/roels/_disk2/git/netatmo\")\n",
    "using DataFrames\n",
    "import TimeSeries\n",
    "import CSV\n",
    "using Glob\n",
    "using Dates\n",
    "using Plots\n",
    "import Netatmo\n",
    "import PyPlot\n",
    "using LinearAlgebra\n",
    "using IterativeSolvers\n",
    "\n",
    "dtg = Dates.DateTime(2018,05,10,16)\n",
    "period = Dates.Hour(2)\n",
    "\n",
    "timerange = datetime2unix(dtg):60*10:datetime2unix(dtg+period)\n",
    "latrange  = 59.9:0.01:60  \n",
    "lonrange  = 10.7:0.01:10.8\n",
    "latrange  = 59:0.01:60\n",
    "lonrange  = 7.:0.01:8"
   ]
  },
  {
   "cell_type": "code",
   "execution_count": 5,
   "metadata": {},
   "outputs": [
    {
     "name": "stdout",
     "output_type": "stream",
     "text": [
      "Finished reading 340476 rows\n"
     ]
    }
   ],
   "source": [
    "df = Netatmo.read(dtg,period, latrange=latrange, lonrange=lonrange);\n",
    "\n",
    "println(\"Finished reading $(size(df,1)) rows\")"
   ]
  },
  {
   "cell_type": "code",
   "execution_count": 7,
   "metadata": {},
   "outputs": [
    {
     "data": {
      "text/plain": [
       "RBF (generic function with 1 method)"
      ]
     },
     "execution_count": 7,
     "metadata": {},
     "output_type": "execute_result"
    }
   ],
   "source": [
    "function RBF(row1,row2) \n",
    "    lt = 1.0/(2.0*(1.0*60.0*60.0)^2) # time length scale \n",
    "    lx = 1.0/(2.0*(0.01)^2)       # latlon length scale \n",
    "    dtsq   = -lt*(row1[:time_utc] - row2[:time_utc])^2\n",
    "    dlatsq = -lx*(row1[:lat] - row2[:lat])^2\n",
    "    dlonsq = -lx*(row1[:lon] - row2[:lon])^2    \n",
    "    return exp(dlatsq + dlonsq + dtsq)\n",
    "end"
   ]
  },
  {
   "cell_type": "code",
   "execution_count": 8,
   "metadata": {},
   "outputs": [
    {
     "ename": "OutOfMemoryError",
     "evalue": "OutOfMemoryError()",
     "output_type": "error",
     "traceback": [
      "OutOfMemoryError()",
      "",
      "Stacktrace:",
      " [1] Type at ./boot.jl:396 [inlined]",
      " [2] Type at ./boot.jl:404 [inlined]",
      " [3] similar at ./abstractarray.jl:618 [inlined]",
      " [4] similar at ./abstractarray.jl:617 [inlined]",
      " [5] _array_for(::Type{Float64}, ::Base.Iterators.ProductIterator{Tuple{DataFrames.DataFrameRows{DataFrame,DataFrames.Index},DataFrames.DataFrameRows{DataFrame,DataFrames.Index}}}, ::Base.HasShape{2}) at ./array.jl:611",
      " [6] collect(::Base.Generator{Base.Iterators.ProductIterator{Tuple{DataFrames.DataFrameRows{DataFrame,DataFrames.Index},DataFrames.DataFrameRows{DataFrame,DataFrames.Index}}},getfield(Main, Symbol(\"##3#4\"))}) at ./array.jl:624",
      " [7] top-level scope at In[8]:1"
     ]
    }
   ],
   "source": [
    "K   = [RBF(r1,r2) for r1 in eachrow(df), r2 in eachrow(df)] "
   ]
  },
  {
   "cell_type": "code",
   "execution_count": null,
   "metadata": {},
   "outputs": [],
   "source": []
  }
 ],
 "metadata": {
  "@webio": {
   "lastCommId": null,
   "lastKernelId": null
  },
  "kernelspec": {
   "display_name": "Julia 1.0.0",
   "language": "julia",
   "name": "julia-1.0"
  },
  "language_info": {
   "file_extension": ".jl",
   "mimetype": "application/julia",
   "name": "julia",
   "version": "1.0.0"
  }
 },
 "nbformat": 4,
 "nbformat_minor": 2
}
